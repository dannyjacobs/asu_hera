{
 "cells": [
  {
   "cell_type": "markdown",
   "metadata": {},
   "source": [
    "Import the script (make sure it's in your working directory), and ensure that you have all necessary files: [TGSS ADR1](http://tgssadr.strw.leidenuniv.nl/catalogs/TGSSADR1_7sigma_catalog.fits) and [HERA beam model](https://github.com/HERA-Team/HERA-Beams/blob/master/NicolasFagnoniBeams/NF_HERA_power_beam_healpix.fits)."
   ]
  },
  {
   "cell_type": "code",
   "execution_count": null,
   "metadata": {},
   "outputs": [],
   "source": [
    "import HERA_calibration_sources as cal_srcs"
   ]
  },
  {
   "cell_type": "markdown",
   "metadata": {},
   "source": [
    "Call the function `add_fluxes(RA_range, dec_range=7.0, min_flux=10.0)`.\n",
    "\n",
    "Arguments:\n",
    "    - RA_range : tuple of strings\n",
    "        * The range of RA to search in, in the form (\"hh:mm:ss\", \"hh:mm:ss\").\n",
    "    - dec_range : float or int, optional [default: 7]\n",
    "        * The radius around HERA's zenith to search in (in degrees).\n",
    "    - min_flux : float or int, optional [default: 10]\n",
    "        * The minimum flux a source must have (in Jy).\n",
    "        \n",
    "Returns a dataframe with the name and location (RA and dec) of the sources that fulfill the criteria, and the total flux of all the sources in a circular region with a diameter of HERA's resolution around the bright source."
   ]
  },
  {
   "cell_type": "code",
   "execution_count": null,
   "metadata": {},
   "outputs": [],
   "source": [
    "sources = cal_srcs.add_fluxes(RA_range=(\"10:00:00\", \"11:00:00\"), dec_range=7., min_flux=10.)"
   ]
  },
  {
   "cell_type": "markdown",
   "metadata": {},
   "source": [
    "To access columns, index by the key names in the dataframe (\"Name\", \"RA\", \"Dec\", \"Flux\")."
   ]
  },
  {
   "cell_type": "code",
   "execution_count": null,
   "metadata": {},
   "outputs": [],
   "source": [
    "name = sources[\"Name\"]\n",
    "print(name)"
   ]
  },
  {
   "cell_type": "markdown",
   "metadata": {},
   "source": [
    "To access rows, index with the `.iloc` method (pass the index of the desired row as an argument)."
   ]
  },
  {
   "cell_type": "code",
   "execution_count": null,
   "metadata": {},
   "outputs": [],
   "source": [
    "third_source = sources.iloc[2]\n",
    "print(third_source)"
   ]
  }
 ],
 "metadata": {
  "kernelspec": {
   "display_name": "Python 2",
   "language": "python",
   "name": "python2"
  },
  "language_info": {
   "codemirror_mode": {
    "name": "ipython",
    "version": 2
   },
   "file_extension": ".py",
   "mimetype": "text/x-python",
   "name": "python",
   "nbconvert_exporter": "python",
   "pygments_lexer": "ipython2",
   "version": "2.7.15"
  }
 },
 "nbformat": 4,
 "nbformat_minor": 2
}
