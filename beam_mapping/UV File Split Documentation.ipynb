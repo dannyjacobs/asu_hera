{
 "cells": [
  {
   "cell_type": "markdown",
   "metadata": {},
   "source": [
    "## Shane Bechtel"
   ]
  },
  {
   "cell_type": "markdown",
   "metadata": {},
   "source": [
    "# Process To Split UV Files Into Smaller Time or Frequency Ranges"
   ]
  },
  {
   "cell_type": "markdown",
   "metadata": {},
   "source": [
    "This process shows how .uv files can have their time ranges (generally ~ 10 minutes) split into smaller time ranges (~ 10 seconds at the smallest) to analyze more specific times of a certain observation in order to view sources at more positions in HERA's beam for example. Other components of the available data can also be split in a similar way, such as seperating the frequency into smaller channel ranges. This process is largely done using the UVData module from the pyuvdata package. "
   ]
  },
  {
   "cell_type": "code",
   "execution_count": 19,
   "metadata": {
    "collapsed": true
   },
   "outputs": [],
   "source": [
    "from pyuvdata import UVData #Allows one to work with Miriad Files and the data within\n",
    "import numpy as np #Provides some useful tools to work with numbers and arrays\n",
    "from copy import deepcopy #Will help with object manipulation later\n"
   ]
  },
  {
   "cell_type": "markdown",
   "metadata": {},
   "source": [
    "First, a UVData object is created. Calling this object 'uv', an existing .uv file is read into the object. This allows for the manipulation of the data from the file without affecting the original data."
   ]
  },
  {
   "cell_type": "code",
   "execution_count": 24,
   "metadata": {
    "collapsed": true
   },
   "outputs": [],
   "source": [
    "uv = UVData()\n",
    "\n",
    "uv.read_miriad('/data6/HERA/data/2458042/zen.2458042.12552.xx.HH.uv') #This is an example of a .uv file that can be split\n",
    "                                                                      #Into smaller Time Ranges\n"
   ]
  },
  {
   "cell_type": "markdown",
   "metadata": {},
   "source": [
    "There are many useful parameters for these UVData objects, however the ones that will primarily be focused on are the time, data, baseline, and ferquency arrays. Splitting the .uv file based on time will allow for more data in projects such as analyzing the beam. Splitting the frequency of the file will allow for analysis of specific ranges of frequencies, once again assisting in determing the frequency dependence of the beam. By printing the shape of all of these arrays, we can ensure that the select method will properly affect all of the data present in the .uv file."
   ]
  },
  {
   "cell_type": "code",
   "execution_count": 14,
   "metadata": {},
   "outputs": [
    {
     "name": "stdout",
     "output_type": "stream",
     "text": [
      "(67680,)\n",
      "(67680, 1, 1024, 1)\n",
      "(67680,)\n",
      "(1, 1024)\n"
     ]
    }
   ],
   "source": [
    "print uv.time_array.shape #Number of Times\n",
    "print uv.data_array.shape #[Number of Baseline Times, Number of Spectral Windows, Number of Frequencies, Visibility value]\n",
    "print uv.baseline_array.shape #Number of Baselines\n",
    "print uv.freq_array.shape #[Number of Spectral Windows, Number of Frequencies]\n"
   ]
  },
  {
   "cell_type": "code",
   "execution_count": 26,
   "metadata": {},
   "outputs": [
    {
     "name": "stdout",
     "output_type": "stream",
     "text": [
      "[ 2458042.12551992  2458042.12551992  2458042.12551992 ...,\n",
      "  2458042.13285218  2458042.13285218  2458042.13285218]\n"
     ]
    }
   ],
   "source": [
    "print uv.time_array #We can compare this to the end results later in order to show that the full range is covered"
   ]
  },
  {
   "cell_type": "markdown",
   "metadata": {},
   "source": [
    "## Splitting a UV file into Time Ranges"
   ]
  },
  {
   "cell_type": "markdown",
   "metadata": {},
   "source": [
    "In this example, we show how one would go about splitting the file shown above into smaller time ranges. "
   ]
  },
  {
   "cell_type": "code",
   "execution_count": 27,
   "metadata": {
    "collapsed": true
   },
   "outputs": [],
   "source": [
    "num_ranges = 2 #Define the number of ranges we want (must be an integer)\n",
    "\n",
    "time = np.split(np.unique(uv.time_array),num_ranges) #Split the unique time values from the time array equally into\n",
    "                                                     #num_ranges number of arrays contained within time\n",
    "\n",
    "time = np.array(time) #Define time to be an array for use later on\n"
   ]
  },
  {
   "cell_type": "code",
   "execution_count": 28,
   "metadata": {
    "collapsed": true
   },
   "outputs": [],
   "source": [
    "uv_holder = [] #Create an array to store the new UVData objects within\n",
    "\n",
    "for i in np.arange(0,num_ranges): #Loop over all the new time ranges\n",
    "    \n",
    "    v = deepcopy(uv) #Create a local variable v to be set to a deepcopy of uv. Deepcopy prevents the uv variable from changing\n",
    "    \n",
    "    v.select(times = time[i]) #Use the select method to manually set the time range equal to one stored in the time array\n",
    "    \n",
    "    uv_holder.append(v) #Append the new UVData object to uv_holder\n",
    "    "
   ]
  },
  {
   "cell_type": "code",
   "execution_count": 31,
   "metadata": {},
   "outputs": [
    {
     "name": "stdout",
     "output_type": "stream",
     "text": [
      "(33840,)\n",
      "[ 2458042.12551992  2458042.12564419  2458042.12576847  2458042.12589274\n",
      "  2458042.12601702  2458042.1261413   2458042.12626557  2458042.12638985\n",
      "  2458042.12651412  2458042.1266384   2458042.12676267  2458042.12688695\n",
      "  2458042.12701123  2458042.1271355   2458042.12725978  2458042.12738405\n",
      "  2458042.12750833  2458042.1276326   2458042.12775688  2458042.12788115\n",
      "  2458042.12800543  2458042.12812971  2458042.12825398  2458042.12837826\n",
      "  2458042.12850253  2458042.12862681  2458042.12875108  2458042.12887536\n",
      "  2458042.12899964  2458042.12912391]\n",
      "(33840,)\n",
      "[ 2458042.12924819  2458042.12937246  2458042.12949674  2458042.12962101\n",
      "  2458042.12974529  2458042.12986957  2458042.12999384  2458042.13011812\n",
      "  2458042.13024239  2458042.13036667  2458042.13049094  2458042.13061522\n",
      "  2458042.1307395   2458042.13086377  2458042.13098805  2458042.13111232\n",
      "  2458042.1312366   2458042.13136087  2458042.13148515  2458042.13160942\n",
      "  2458042.1317337   2458042.13185798  2458042.13198225  2458042.13210653\n",
      "  2458042.1322308   2458042.13235508  2458042.13247935  2458042.13260363\n",
      "  2458042.13272791  2458042.13285218]\n"
     ]
    }
   ],
   "source": [
    "print(uv_holder[0].time_array.shape) #The size is now exactly half of its original\n",
    "print(np.unique(uv_holder[0].time_array)) #The array contains the original starting value and connects to the second UVData object\n",
    "\n",
    "print(uv_holder[1].time_array.shape)\n",
    "print(np.unique(uv_holder[1].time_array)) #The array contains the priginal end value and connects to the first UVData object"
   ]
  },
  {
   "cell_type": "markdown",
   "metadata": {},
   "source": [
    "There are now two UVData objects, the first of which having the first half of the time range present in the 12552 file, while the second half has the end half. This process does work for most files, though the last observation of a night may cause an exception as it will not always have exactly 60 unique time values like the others. This means that a divisor of 60 will not always work in this simplified method. To accomodate this, a file split_time_uv.py was created to accomodate any sized file. This can be seen below."
   ]
  },
  {
   "cell_type": "code",
   "execution_count": null,
   "metadata": {
    "collapsed": true
   },
   "outputs": [],
   "source": [
    "from pyuvdata import UVData\n",
    "import numpy as np\n",
    "from copy import deepcopy\n",
    "import sys\n",
    "import os\n",
    "\n",
    "# This function will split a given folder's uv files into smaller time ranges based on a given arguments\n",
    "\n",
    "def new_uvs(uv,time,polarization,folder):\n",
    "    v = deepcopy(uv)\n",
    "        v.select(times=time)\n",
    "        v.phase_to_time(np.median(v.time_array))\n",
    "        #idx = os.path.basename(folder).find(polarization)\n",
    "        name = os.path.basename(folder)[:12] + str(time[0]).split('.')[1][:5]  + os.path.basename(folder)[17:]\n",
    "        vis_file = os.path.join(os.path.dirname(folder),name)+'.uvfits'\n",
    "        print 'Writing: ' + vis_file\n",
    "    v.write_uvfits(vis_file,spoof_nonessential=True)\n",
    "    del v\n",
    "\n",
    "def split_time_uv(folder,n=1,path=None,polarization='xx'):\n",
    "\n",
    "    uv = UVData()\n",
    "    print 'Reading: ' + folder\n",
    "    uv.read_miriad(folder)\n",
    "    times = np.unique(uv.time_array)\n",
    "\n",
    "    if path is not None:\n",
    "        folder = os.path.join(path,os.path.basename(folder))\n",
    "\n",
    "    if len(times)%n != 0:\n",
    "        n_times = int(60/n)\n",
    "        mod = int(len(times)%n_times)\n",
    "        ts = times[-mod:]\n",
    "        times = times[:-mod]\n",
    "        new_uvs(uv,ts,polarization,folder)\n",
    "    n = int(len(times)/n_times)\t\n",
    "    times = np.split(times,n)\n",
    "\n",
    "    for time in times:\n",
    "        new_uvs(uv,time,polarization,folder)\n",
    "\n",
    "if __name__ == '__main__':\n",
    "    n = input('How many segments would you like to split this file into? (Default is 1) ')\n",
    "    n = int(n)\n",
    "    try:\n",
    "                folders = sys.argv[1:]\n",
    "        for folder in folders:\n",
    "                        split_time_uv(folder,n)\n",
    "        except IndexError:\n",
    "                print('No file specified for conversion from miriad to uvfits')\t\n"
   ]
  },
  {
   "cell_type": "markdown",
   "metadata": {},
   "source": [
    "One can see that this code can take any sized .uv file and split it into equally sized time ranges, with any files being less than 60 unique time values accomodating this by having the first few splits contain an equal amount of time values as a split of a file with 60 time values, and the last one containing whatever is left over. "
   ]
  },
  {
   "cell_type": "markdown",
   "metadata": {},
   "source": [
    "## Splitting a UV File into Frequency Ranges"
   ]
  },
  {
   "cell_type": "markdown",
   "metadata": {},
   "source": [
    "This next example will show how to split .uv files into frequency ranges of specific size. This is different from the time example as we chose the number of ranges there, not the size of each array. For this example, we will first examine the python file made to do this, then take a closer look at what it is all doing."
   ]
  },
  {
   "cell_type": "code",
   "execution_count": null,
   "metadata": {
    "collapsed": true
   },
   "outputs": [],
   "source": [
    "from pyuvdata import UVData\n",
    "import numpy as np\n",
    "from copy import deepcopy\n",
    "import sys\n",
    "import os\n",
    "\n",
    "# This function will split a given folder's uv files into smaller time ranges based on a given arguments\n",
    "\n",
    "def new_uvs(uv,freq,polarization,folder,count):\n",
    "        v = deepcopy(uv)\n",
    "        v.select(frequencies=freq)\n",
    "        v.phase_to_time(np.median(v.time_array))\n",
    "        #idx = os.path.basename(folder).find(polarization)\n",
    "        name = os.path.basename(folder)[:18] + 'freq_' + str(count)  + os.path.basename(folder)[17:]\n",
    "        vis_file = os.path.join(os.path.dirname(folder),name)+'.uvfits'\n",
    "        print 'Writing: ' + vis_file\n",
    "        v.write_uvfits(vis_file,spoof_nonessential=True)\n",
    "        del v\n",
    "\n",
    "\n",
    "def freq_select_uv(folder,n=20,path=None,polarization='xx'):\n",
    "        \"\"\"\n",
    "\n",
    "        Converts a single uvR file to uvfits format\n",
    "\n",
    "        Parameters\n",
    "        ----------\n",
    "        folder : str\n",
    "                File path of the uvR file to be converted to uvfits format\n",
    "        path : str\n",
    "                File path where the new uvfits file will be written.\n",
    "                Default is the current working directory.\n",
    "\n",
    "        \"\"\"\n",
    "\n",
    "        uv = UVData()\n",
    "        print 'Reading: ' + folder\n",
    "        uv.read_miriad(folder)\n",
    "        freqs = uv.freq_array[0]\n",
    "\n",
    "        if path is not None:\n",
    "                folder = os.path.join(path,os.path.basename(folder))\n",
    "\n",
    "    rang = n*(1e6)\n",
    "    last = uv.freq_array[0][-1]\n",
    "    end_freqs = []\n",
    "    end = last - 1e8\n",
    "    mod = end%rang\n",
    "    n_times = int(end/rang)\n",
    "\n",
    "    if mod != 0:\n",
    "        count = 0\n",
    "        for i in uv.freq_array[0]:\n",
    "            if (i>=last-mod):\n",
    "                first = i\n",
    "                break\n",
    "            count += 1\n",
    "        end_freqs = uv.freq_array[0][count:]\n",
    "    freqs = uv.freq_array[0][:count]\n",
    "\n",
    "    count = 0\n",
    "    l = 1e8\n",
    "    m = 1e8 + rang\n",
    "    freq_hold = []\n",
    "\n",
    "    for i in np.arange(0,n_times):\n",
    "        freq_hold.append([])\n",
    "        \n",
    "        for j in freqs:\n",
    "            if (j>= l + i*rang) & (j<= m + i*rang):\n",
    "                freq_hold[i].append(j)\n",
    "            elif (j > m + i*rang):\n",
    "                break\n",
    "        freq_hold[i] = np.array(freq_hold[i])\n",
    "    \n",
    "    freqs = np.array(freq_hold)\n",
    "\n",
    "    count = 1\n",
    "\n",
    "        for freq in freqs:\n",
    "        \n",
    "                new_uvs(uv,freq,polarization,folder,count)\n",
    "\n",
    "        count += 1\n",
    "\n",
    "    if (len(end_freqs) != 0):\n",
    "        new_uvs(uv,end_freqs,polarization,folder,count)\n",
    "\n",
    "\n",
    "\n",
    "if __name__ == '__main__':\n",
    "        n = input('What range would you like your frequencies to be divided into? (MHz, default is 20):  ')\n",
    "        n = int(n)\n",
    "        path = '/data6/HERA/data/2458042/HERA_imaging/LST_analysis'\n",
    "    try:\n",
    "                folders = sys.argv[1:]\n",
    "                for folder in folders:\n",
    "                        freq_select_uv(folder,n,path = path)\n",
    "        except IndexError:\n",
    "                print('No file specified for conversion from miriad to uvfits')\n",
    "\n"
   ]
  },
  {
   "cell_type": "markdown",
   "metadata": {},
   "source": [
    "This code follows much the same structure of the time example, though a few extra steps are necessary. "
   ]
  },
  {
   "cell_type": "code",
   "execution_count": 27,
   "metadata": {
    "collapsed": true
   },
   "outputs": [],
   "source": [
    "uv = UVData() #Create the UVData object \"uv\"\n",
    "\n",
    "uv.read_miriad('/data6/HERA/data/2458042/zen.2458042.12552.xx.HH.uv') #Read in a uv file\n"
   ]
  },
  {
   "cell_type": "markdown",
   "metadata": {},
   "source": [
    "Many arrays and variables are created in order to make future processes cleaner and more simple. The fact that the first channel is actually at a frequency of 100 MHz, means that adjustments are needed to easily seperate the frequencies into specific ranges."
   ]
  },
  {
   "cell_type": "code",
   "execution_count": 28,
   "metadata": {
    "collapsed": true
   },
   "outputs": [],
   "source": [
    "freqs = uv.freq_array[0] #Store the frequency array into a local array \"freqs\"\n",
    "\n",
    "rang = 20*(1e6) #Determine the range of each frequency set (it is set to 20 MHz in this example)\n",
    "\n",
    "last = uv.freq_array[0][-1] #Find the last value of the original frequency array\n",
    "\n",
    "end_freqs = [] #Instantiate an array for the final frequency range if necessary\n",
    "\n",
    "offset = 1e8 #This is to account for the fact the first frequency is 100 MHz\n",
    "\n",
    "true_end = last - offset #The relative end value is the difference between the original value and the offset\n",
    "\n",
    "mod = true_end%rang #Find the modulus between the true end value and the range set\n",
    "\n",
    "n_times = int(true_end/rang) #Find how many times the range divides the frequency set evenly"
   ]
  },
  {
   "cell_type": "markdown",
   "metadata": {},
   "source": [
    "Moving on, the fact that the final frequency is not exactly 200 MHz, means that there will likely be a slight offset in the final range. Therefore, a for loop is constructed if the final value isn't divided into evenly. This loop finds the first frequency value that would be found in the final range as well as its index and seperates the entire frequency range into those part of full ranges, and those part of the final incomplete range. "
   ]
  },
  {
   "cell_type": "code",
   "execution_count": 29,
   "metadata": {
    "collapsed": true
   },
   "outputs": [],
   "source": [
    "if mod != 0: #If the mod is not zero, then the final frequency range will not be the same size as the first ones\n",
    "    \n",
    "    count = 0 #Set a count variable\n",
    "    \n",
    "    for i in uv.freq_array[0]: #Loop through each of the frequency values in the original array\n",
    "        \n",
    "        if (i>=last-mod): #The first value of the last frequency range will be equivalent to the last - mod value \n",
    "            \n",
    "            first = i #Store the value of this first frequency\n",
    "            \n",
    "            break #End the for loop\n",
    "        \n",
    "        count += 1 #Increment the count each loop. When the loop is broken, this will be the index value of the first value\n",
    "    \n",
    "    end_freqs = uv.freq_array[0][count:] #Store the frequencies from the first value onward in the array end_freqs\n",
    "\n",
    "    freqs = uv.freq_array[0][:count] #Store the frequencies up until the first value in the array freqs"
   ]
  },
  {
   "cell_type": "markdown",
   "metadata": {},
   "source": [
    "Now, we create an array to store arrays filled with each of the full frequency ranges. We loop through this code as many times as there are the aforementioned ranges. "
   ]
  },
  {
   "cell_type": "code",
   "execution_count": 30,
   "metadata": {
    "collapsed": true
   },
   "outputs": [],
   "source": [
    "count = 0 #Reinitialize count\n",
    "l = 1e8 #Set a value for the start boundary of the first range\n",
    "m = 1e8 + rang #Set a value for the end boundary of the first range\n",
    "freq_hold = [] #Instantiate an array to hold the different frequency ranges\n",
    "\n",
    "for i in np.arange(0,n_times): #Loop through for each full frequency range as determined by n_times\n",
    "    \n",
    "    freq_hold.append([]) #Add an empty array to freq_hold in order to store the next range\n",
    "        \n",
    "    for j in freqs: #Loop through each frequency value\n",
    "        \n",
    "        if (j>= l + i*rang) & (j<= m + i*rang): #If the frequency value falls within this range...\n",
    "            \n",
    "            freq_hold[i].append(j) #Then append it to the ith freq_hold array\n",
    "            \n",
    "        elif (j > m + i*rang): #In order to save computation time, once we reach a frequency higher than the upper bound,\n",
    "                               #Then break the for loop\n",
    "                break\n",
    "                \n",
    "    freq_hold[i] = np.array(freq_hold[i]) #Convert the ith list of freq_hold into an array\n",
    "    \n",
    "freqs = np.array(freq_hold) #Convert the list freq_hold into the array freqs"
   ]
  },
  {
   "cell_type": "markdown",
   "metadata": {},
   "source": [
    "Finally, with all necessary frequency arrays being constructed, we first loop through all of the seperate arrays containing ranges in freqs and store a uv file with that range in a holder array: uv_holder. Then, we check to see if end_freqs is nonempty, and if it is, we then create a uv file with the frequencies found in end_freqs and append it to uv_holder."
   ]
  },
  {
   "cell_type": "code",
   "execution_count": null,
   "metadata": {
    "collapsed": true
   },
   "outputs": [],
   "source": [
    "\n",
    "uv_holder = [] #Instantiate an array to contain our uv files\n",
    "\n",
    "for freq in freqs: #loop through each frequency range\n",
    "        \n",
    "        v = deepcopy(uv) #Create a deepcopy of uv in v\n",
    "        \n",
    "        v.select(frequencies = freq) #Use the method select in order to set the frequency range to those found in freqs\n",
    "        \n",
    "        uv_holder.append(v) #Append the new uv file to uv_holder\n",
    "    \n",
    "if (len(end_freqs) != 0): #If end_freqs is non-empty, then...\n",
    "    \n",
    "    v = deepcopy(uv) #Create a deepcopy of uv in v\n",
    "        \n",
    "    v.select(frequencies = end_freqs) #Use the method select in order to set the frequency range to that of end_freqs\n",
    "    \n",
    "    uv_holder.append(v) #Append the new uv file to uv_holder\n",
    "    \n",
    "\n",
    "uv_holder = np.array(uv_holder) #Convert the uv_holder list into an array\n",
    "    "
   ]
  },
  {
   "cell_type": "markdown",
   "metadata": {},
   "source": [
    "We now have a holder array filled with uv files with seperate frequency ranges. The ones produced from the freqs array will all have nearly the exact same number of elements in them (if not the exact same), and the final range will have a varied amount of elements. There will likely be no shared frequencies, unless a complex range is chosen, and no frequency will be excluded from every uv file. "
   ]
  },
  {
   "cell_type": "code",
   "execution_count": 40,
   "metadata": {
    "scrolled": true
   },
   "outputs": [
    {
     "name": "stdout",
     "output_type": "stream",
     "text": [
      "(1, 205)\n",
      "(1, 204)\n",
      "[  1.00000000e+08   1.00097656e+08   1.00195312e+08   1.00292969e+08\n",
      "   1.00390625e+08   1.00488281e+08   1.00585938e+08   1.00683594e+08\n",
      "   1.00781250e+08   1.00878906e+08   1.00976562e+08   1.01074219e+08\n",
      "   1.01171875e+08   1.01269531e+08   1.01367188e+08   1.01464844e+08\n",
      "   1.01562500e+08   1.01660156e+08   1.01757812e+08   1.01855469e+08\n",
      "   1.01953125e+08   1.02050781e+08   1.02148438e+08   1.02246094e+08\n",
      "   1.02343750e+08   1.02441406e+08   1.02539062e+08   1.02636719e+08\n",
      "   1.02734375e+08   1.02832031e+08   1.02929688e+08   1.03027344e+08\n",
      "   1.03125000e+08   1.03222656e+08   1.03320312e+08   1.03417969e+08\n",
      "   1.03515625e+08   1.03613281e+08   1.03710938e+08   1.03808594e+08\n",
      "   1.03906250e+08   1.04003906e+08   1.04101562e+08   1.04199219e+08\n",
      "   1.04296875e+08   1.04394531e+08   1.04492188e+08   1.04589844e+08\n",
      "   1.04687500e+08   1.04785156e+08   1.04882812e+08   1.04980469e+08\n",
      "   1.05078125e+08   1.05175781e+08   1.05273438e+08   1.05371094e+08\n",
      "   1.05468750e+08   1.05566406e+08   1.05664062e+08   1.05761719e+08\n",
      "   1.05859375e+08   1.05957031e+08   1.06054688e+08   1.06152344e+08\n",
      "   1.06250000e+08   1.06347656e+08   1.06445312e+08   1.06542969e+08\n",
      "   1.06640625e+08   1.06738281e+08   1.06835938e+08   1.06933594e+08\n",
      "   1.07031250e+08   1.07128906e+08   1.07226562e+08   1.07324219e+08\n",
      "   1.07421875e+08   1.07519531e+08   1.07617188e+08   1.07714844e+08\n",
      "   1.07812500e+08   1.07910156e+08   1.08007812e+08   1.08105469e+08\n",
      "   1.08203125e+08   1.08300781e+08   1.08398438e+08   1.08496094e+08\n",
      "   1.08593750e+08   1.08691406e+08   1.08789062e+08   1.08886719e+08\n",
      "   1.08984375e+08   1.09082031e+08   1.09179688e+08   1.09277344e+08\n",
      "   1.09375000e+08   1.09472656e+08   1.09570312e+08   1.09667969e+08\n",
      "   1.09765625e+08   1.09863281e+08   1.09960938e+08   1.10058594e+08\n",
      "   1.10156250e+08   1.10253906e+08   1.10351562e+08   1.10449219e+08\n",
      "   1.10546875e+08   1.10644531e+08   1.10742188e+08   1.10839844e+08\n",
      "   1.10937500e+08   1.11035156e+08   1.11132812e+08   1.11230469e+08\n",
      "   1.11328125e+08   1.11425781e+08   1.11523438e+08   1.11621094e+08\n",
      "   1.11718750e+08   1.11816406e+08   1.11914062e+08   1.12011719e+08\n",
      "   1.12109375e+08   1.12207031e+08   1.12304688e+08   1.12402344e+08\n",
      "   1.12500000e+08   1.12597656e+08   1.12695312e+08   1.12792969e+08\n",
      "   1.12890625e+08   1.12988281e+08   1.13085938e+08   1.13183594e+08\n",
      "   1.13281250e+08   1.13378906e+08   1.13476562e+08   1.13574219e+08\n",
      "   1.13671875e+08   1.13769531e+08   1.13867188e+08   1.13964844e+08\n",
      "   1.14062500e+08   1.14160156e+08   1.14257812e+08   1.14355469e+08\n",
      "   1.14453125e+08   1.14550781e+08   1.14648438e+08   1.14746094e+08\n",
      "   1.14843750e+08   1.14941406e+08   1.15039062e+08   1.15136719e+08\n",
      "   1.15234375e+08   1.15332031e+08   1.15429688e+08   1.15527344e+08\n",
      "   1.15625000e+08   1.15722656e+08   1.15820312e+08   1.15917969e+08\n",
      "   1.16015625e+08   1.16113281e+08   1.16210938e+08   1.16308594e+08\n",
      "   1.16406250e+08   1.16503906e+08   1.16601562e+08   1.16699219e+08\n",
      "   1.16796875e+08   1.16894531e+08   1.16992188e+08   1.17089844e+08\n",
      "   1.17187500e+08   1.17285156e+08   1.17382812e+08   1.17480469e+08\n",
      "   1.17578125e+08   1.17675781e+08   1.17773438e+08   1.17871094e+08\n",
      "   1.17968750e+08   1.18066406e+08   1.18164062e+08   1.18261719e+08\n",
      "   1.18359375e+08   1.18457031e+08   1.18554688e+08   1.18652344e+08\n",
      "   1.18750000e+08   1.18847656e+08   1.18945312e+08   1.19042969e+08\n",
      "   1.19140625e+08   1.19238281e+08   1.19335938e+08   1.19433594e+08\n",
      "   1.19531250e+08   1.19628906e+08   1.19726562e+08   1.19824219e+08\n",
      "   1.19921875e+08]\n",
      "[  1.20019531e+08   1.20117188e+08   1.20214844e+08   1.20312500e+08\n",
      "   1.20410156e+08   1.20507812e+08   1.20605469e+08   1.20703125e+08\n",
      "   1.20800781e+08   1.20898438e+08   1.20996094e+08   1.21093750e+08\n",
      "   1.21191406e+08   1.21289062e+08   1.21386719e+08   1.21484375e+08\n",
      "   1.21582031e+08   1.21679688e+08   1.21777344e+08   1.21875000e+08\n",
      "   1.21972656e+08   1.22070312e+08   1.22167969e+08   1.22265625e+08\n",
      "   1.22363281e+08   1.22460938e+08   1.22558594e+08   1.22656250e+08\n",
      "   1.22753906e+08   1.22851562e+08   1.22949219e+08   1.23046875e+08\n",
      "   1.23144531e+08   1.23242188e+08   1.23339844e+08   1.23437500e+08\n",
      "   1.23535156e+08   1.23632812e+08   1.23730469e+08   1.23828125e+08\n",
      "   1.23925781e+08   1.24023438e+08   1.24121094e+08   1.24218750e+08\n",
      "   1.24316406e+08   1.24414062e+08   1.24511719e+08   1.24609375e+08\n",
      "   1.24707031e+08   1.24804688e+08   1.24902344e+08   1.25000000e+08\n",
      "   1.25097656e+08   1.25195312e+08   1.25292969e+08   1.25390625e+08\n",
      "   1.25488281e+08   1.25585938e+08   1.25683594e+08   1.25781250e+08\n",
      "   1.25878906e+08   1.25976562e+08   1.26074219e+08   1.26171875e+08\n",
      "   1.26269531e+08   1.26367188e+08   1.26464844e+08   1.26562500e+08\n",
      "   1.26660156e+08   1.26757812e+08   1.26855469e+08   1.26953125e+08\n",
      "   1.27050781e+08   1.27148438e+08   1.27246094e+08   1.27343750e+08\n",
      "   1.27441406e+08   1.27539062e+08   1.27636719e+08   1.27734375e+08\n",
      "   1.27832031e+08   1.27929688e+08   1.28027344e+08   1.28125000e+08\n",
      "   1.28222656e+08   1.28320312e+08   1.28417969e+08   1.28515625e+08\n",
      "   1.28613281e+08   1.28710938e+08   1.28808594e+08   1.28906250e+08\n",
      "   1.29003906e+08   1.29101562e+08   1.29199219e+08   1.29296875e+08\n",
      "   1.29394531e+08   1.29492188e+08   1.29589844e+08   1.29687500e+08\n",
      "   1.29785156e+08   1.29882812e+08   1.29980469e+08   1.30078125e+08\n",
      "   1.30175781e+08   1.30273438e+08   1.30371094e+08   1.30468750e+08\n",
      "   1.30566406e+08   1.30664062e+08   1.30761719e+08   1.30859375e+08\n",
      "   1.30957031e+08   1.31054688e+08   1.31152344e+08   1.31250000e+08\n",
      "   1.31347656e+08   1.31445312e+08   1.31542969e+08   1.31640625e+08\n",
      "   1.31738281e+08   1.31835938e+08   1.31933594e+08   1.32031250e+08\n",
      "   1.32128906e+08   1.32226562e+08   1.32324219e+08   1.32421875e+08\n",
      "   1.32519531e+08   1.32617188e+08   1.32714844e+08   1.32812500e+08\n",
      "   1.32910156e+08   1.33007812e+08   1.33105469e+08   1.33203125e+08\n",
      "   1.33300781e+08   1.33398438e+08   1.33496094e+08   1.33593750e+08\n",
      "   1.33691406e+08   1.33789062e+08   1.33886719e+08   1.33984375e+08\n",
      "   1.34082031e+08   1.34179688e+08   1.34277344e+08   1.34375000e+08\n",
      "   1.34472656e+08   1.34570312e+08   1.34667969e+08   1.34765625e+08\n",
      "   1.34863281e+08   1.34960938e+08   1.35058594e+08   1.35156250e+08\n",
      "   1.35253906e+08   1.35351562e+08   1.35449219e+08   1.35546875e+08\n",
      "   1.35644531e+08   1.35742188e+08   1.35839844e+08   1.35937500e+08\n",
      "   1.36035156e+08   1.36132812e+08   1.36230469e+08   1.36328125e+08\n",
      "   1.36425781e+08   1.36523438e+08   1.36621094e+08   1.36718750e+08\n",
      "   1.36816406e+08   1.36914062e+08   1.37011719e+08   1.37109375e+08\n",
      "   1.37207031e+08   1.37304688e+08   1.37402344e+08   1.37500000e+08\n",
      "   1.37597656e+08   1.37695312e+08   1.37792969e+08   1.37890625e+08\n",
      "   1.37988281e+08   1.38085938e+08   1.38183594e+08   1.38281250e+08\n",
      "   1.38378906e+08   1.38476562e+08   1.38574219e+08   1.38671875e+08\n",
      "   1.38769531e+08   1.38867188e+08   1.38964844e+08   1.39062500e+08\n",
      "   1.39160156e+08   1.39257812e+08   1.39355469e+08   1.39453125e+08\n",
      "   1.39550781e+08   1.39648438e+08   1.39746094e+08   1.39843750e+08\n",
      "   1.39941406e+08]\n",
      "[  1.40039062e+08   1.40136719e+08   1.40234375e+08   1.40332031e+08\n",
      "   1.40429688e+08   1.40527344e+08   1.40625000e+08   1.40722656e+08\n",
      "   1.40820312e+08   1.40917969e+08   1.41015625e+08   1.41113281e+08\n",
      "   1.41210938e+08   1.41308594e+08   1.41406250e+08   1.41503906e+08\n",
      "   1.41601562e+08   1.41699219e+08   1.41796875e+08   1.41894531e+08\n",
      "   1.41992188e+08   1.42089844e+08   1.42187500e+08   1.42285156e+08\n",
      "   1.42382812e+08   1.42480469e+08   1.42578125e+08   1.42675781e+08\n",
      "   1.42773438e+08   1.42871094e+08   1.42968750e+08   1.43066406e+08\n",
      "   1.43164062e+08   1.43261719e+08   1.43359375e+08   1.43457031e+08\n",
      "   1.43554688e+08   1.43652344e+08   1.43750000e+08   1.43847656e+08\n",
      "   1.43945312e+08   1.44042969e+08   1.44140625e+08   1.44238281e+08\n",
      "   1.44335938e+08   1.44433594e+08   1.44531250e+08   1.44628906e+08\n",
      "   1.44726562e+08   1.44824219e+08   1.44921875e+08   1.45019531e+08\n",
      "   1.45117188e+08   1.45214844e+08   1.45312500e+08   1.45410156e+08\n",
      "   1.45507812e+08   1.45605469e+08   1.45703125e+08   1.45800781e+08\n",
      "   1.45898438e+08   1.45996094e+08   1.46093750e+08   1.46191406e+08\n",
      "   1.46289062e+08   1.46386719e+08   1.46484375e+08   1.46582031e+08\n",
      "   1.46679688e+08   1.46777344e+08   1.46875000e+08   1.46972656e+08\n",
      "   1.47070312e+08   1.47167969e+08   1.47265625e+08   1.47363281e+08\n",
      "   1.47460938e+08   1.47558594e+08   1.47656250e+08   1.47753906e+08\n",
      "   1.47851562e+08   1.47949219e+08   1.48046875e+08   1.48144531e+08\n",
      "   1.48242188e+08   1.48339844e+08   1.48437500e+08   1.48535156e+08\n",
      "   1.48632812e+08   1.48730469e+08   1.48828125e+08   1.48925781e+08\n",
      "   1.49023438e+08   1.49121094e+08   1.49218750e+08   1.49316406e+08\n",
      "   1.49414062e+08   1.49511719e+08   1.49609375e+08   1.49707031e+08\n",
      "   1.49804688e+08   1.49902344e+08   1.50000000e+08   1.50097656e+08\n",
      "   1.50195312e+08   1.50292969e+08   1.50390625e+08   1.50488281e+08\n",
      "   1.50585938e+08   1.50683594e+08   1.50781250e+08   1.50878906e+08\n",
      "   1.50976562e+08   1.51074219e+08   1.51171875e+08   1.51269531e+08\n",
      "   1.51367188e+08   1.51464844e+08   1.51562500e+08   1.51660156e+08\n",
      "   1.51757812e+08   1.51855469e+08   1.51953125e+08   1.52050781e+08\n",
      "   1.52148438e+08   1.52246094e+08   1.52343750e+08   1.52441406e+08\n",
      "   1.52539062e+08   1.52636719e+08   1.52734375e+08   1.52832031e+08\n",
      "   1.52929688e+08   1.53027344e+08   1.53125000e+08   1.53222656e+08\n",
      "   1.53320312e+08   1.53417969e+08   1.53515625e+08   1.53613281e+08\n",
      "   1.53710938e+08   1.53808594e+08   1.53906250e+08   1.54003906e+08\n",
      "   1.54101562e+08   1.54199219e+08   1.54296875e+08   1.54394531e+08\n",
      "   1.54492188e+08   1.54589844e+08   1.54687500e+08   1.54785156e+08\n",
      "   1.54882812e+08   1.54980469e+08   1.55078125e+08   1.55175781e+08\n",
      "   1.55273438e+08   1.55371094e+08   1.55468750e+08   1.55566406e+08\n",
      "   1.55664062e+08   1.55761719e+08   1.55859375e+08   1.55957031e+08\n",
      "   1.56054688e+08   1.56152344e+08   1.56250000e+08   1.56347656e+08\n",
      "   1.56445312e+08   1.56542969e+08   1.56640625e+08   1.56738281e+08\n",
      "   1.56835938e+08   1.56933594e+08   1.57031250e+08   1.57128906e+08\n",
      "   1.57226562e+08   1.57324219e+08   1.57421875e+08   1.57519531e+08\n",
      "   1.57617188e+08   1.57714844e+08   1.57812500e+08   1.57910156e+08\n",
      "   1.58007812e+08   1.58105469e+08   1.58203125e+08   1.58300781e+08\n",
      "   1.58398438e+08   1.58496094e+08   1.58593750e+08   1.58691406e+08\n",
      "   1.58789062e+08   1.58886719e+08   1.58984375e+08   1.59082031e+08\n",
      "   1.59179688e+08   1.59277344e+08   1.59375000e+08   1.59472656e+08\n",
      "   1.59570312e+08   1.59667969e+08   1.59765625e+08   1.59863281e+08\n",
      "   1.59960938e+08]\n",
      "[  1.60058594e+08   1.60156250e+08   1.60253906e+08   1.60351562e+08\n",
      "   1.60449219e+08   1.60546875e+08   1.60644531e+08   1.60742188e+08\n",
      "   1.60839844e+08   1.60937500e+08   1.61035156e+08   1.61132812e+08\n",
      "   1.61230469e+08   1.61328125e+08   1.61425781e+08   1.61523438e+08\n",
      "   1.61621094e+08   1.61718750e+08   1.61816406e+08   1.61914062e+08\n",
      "   1.62011719e+08   1.62109375e+08   1.62207031e+08   1.62304688e+08\n",
      "   1.62402344e+08   1.62500000e+08   1.62597656e+08   1.62695312e+08\n",
      "   1.62792969e+08   1.62890625e+08   1.62988281e+08   1.63085938e+08\n",
      "   1.63183594e+08   1.63281250e+08   1.63378906e+08   1.63476562e+08\n",
      "   1.63574219e+08   1.63671875e+08   1.63769531e+08   1.63867188e+08\n",
      "   1.63964844e+08   1.64062500e+08   1.64160156e+08   1.64257812e+08\n",
      "   1.64355469e+08   1.64453125e+08   1.64550781e+08   1.64648438e+08\n",
      "   1.64746094e+08   1.64843750e+08   1.64941406e+08   1.65039062e+08\n",
      "   1.65136719e+08   1.65234375e+08   1.65332031e+08   1.65429688e+08\n",
      "   1.65527344e+08   1.65625000e+08   1.65722656e+08   1.65820312e+08\n",
      "   1.65917969e+08   1.66015625e+08   1.66113281e+08   1.66210938e+08\n",
      "   1.66308594e+08   1.66406250e+08   1.66503906e+08   1.66601562e+08\n",
      "   1.66699219e+08   1.66796875e+08   1.66894531e+08   1.66992188e+08\n",
      "   1.67089844e+08   1.67187500e+08   1.67285156e+08   1.67382812e+08\n",
      "   1.67480469e+08   1.67578125e+08   1.67675781e+08   1.67773438e+08\n",
      "   1.67871094e+08   1.67968750e+08   1.68066406e+08   1.68164062e+08\n",
      "   1.68261719e+08   1.68359375e+08   1.68457031e+08   1.68554688e+08\n",
      "   1.68652344e+08   1.68750000e+08   1.68847656e+08   1.68945312e+08\n",
      "   1.69042969e+08   1.69140625e+08   1.69238281e+08   1.69335938e+08\n",
      "   1.69433594e+08   1.69531250e+08   1.69628906e+08   1.69726562e+08\n",
      "   1.69824219e+08   1.69921875e+08   1.70019531e+08   1.70117188e+08\n",
      "   1.70214844e+08   1.70312500e+08   1.70410156e+08   1.70507812e+08\n",
      "   1.70605469e+08   1.70703125e+08   1.70800781e+08   1.70898438e+08\n",
      "   1.70996094e+08   1.71093750e+08   1.71191406e+08   1.71289062e+08\n",
      "   1.71386719e+08   1.71484375e+08   1.71582031e+08   1.71679688e+08\n",
      "   1.71777344e+08   1.71875000e+08   1.71972656e+08   1.72070312e+08\n",
      "   1.72167969e+08   1.72265625e+08   1.72363281e+08   1.72460938e+08\n",
      "   1.72558594e+08   1.72656250e+08   1.72753906e+08   1.72851562e+08\n",
      "   1.72949219e+08   1.73046875e+08   1.73144531e+08   1.73242188e+08\n",
      "   1.73339844e+08   1.73437500e+08   1.73535156e+08   1.73632812e+08\n",
      "   1.73730469e+08   1.73828125e+08   1.73925781e+08   1.74023438e+08\n",
      "   1.74121094e+08   1.74218750e+08   1.74316406e+08   1.74414062e+08\n",
      "   1.74511719e+08   1.74609375e+08   1.74707031e+08   1.74804688e+08\n",
      "   1.74902344e+08   1.75000000e+08   1.75097656e+08   1.75195312e+08\n",
      "   1.75292969e+08   1.75390625e+08   1.75488281e+08   1.75585938e+08\n",
      "   1.75683594e+08   1.75781250e+08   1.75878906e+08   1.75976562e+08\n",
      "   1.76074219e+08   1.76171875e+08   1.76269531e+08   1.76367188e+08\n",
      "   1.76464844e+08   1.76562500e+08   1.76660156e+08   1.76757812e+08\n",
      "   1.76855469e+08   1.76953125e+08   1.77050781e+08   1.77148438e+08\n",
      "   1.77246094e+08   1.77343750e+08   1.77441406e+08   1.77539062e+08\n",
      "   1.77636719e+08   1.77734375e+08   1.77832031e+08   1.77929688e+08\n",
      "   1.78027344e+08   1.78125000e+08   1.78222656e+08   1.78320312e+08\n",
      "   1.78417969e+08   1.78515625e+08   1.78613281e+08   1.78710938e+08\n",
      "   1.78808594e+08   1.78906250e+08   1.79003906e+08   1.79101562e+08\n",
      "   1.79199219e+08   1.79296875e+08   1.79394531e+08   1.79492188e+08\n",
      "   1.79589844e+08   1.79687500e+08   1.79785156e+08   1.79882812e+08\n",
      "   1.79980469e+08]\n",
      "[  1.80078125e+08   1.80175781e+08   1.80273438e+08   1.80371094e+08\n",
      "   1.80468750e+08   1.80566406e+08   1.80664062e+08   1.80761719e+08\n",
      "   1.80859375e+08   1.80957031e+08   1.81054688e+08   1.81152344e+08\n",
      "   1.81250000e+08   1.81347656e+08   1.81445312e+08   1.81542969e+08\n",
      "   1.81640625e+08   1.81738281e+08   1.81835938e+08   1.81933594e+08\n",
      "   1.82031250e+08   1.82128906e+08   1.82226562e+08   1.82324219e+08\n",
      "   1.82421875e+08   1.82519531e+08   1.82617188e+08   1.82714844e+08\n",
      "   1.82812500e+08   1.82910156e+08   1.83007812e+08   1.83105469e+08\n",
      "   1.83203125e+08   1.83300781e+08   1.83398438e+08   1.83496094e+08\n",
      "   1.83593750e+08   1.83691406e+08   1.83789062e+08   1.83886719e+08\n",
      "   1.83984375e+08   1.84082031e+08   1.84179688e+08   1.84277344e+08\n",
      "   1.84375000e+08   1.84472656e+08   1.84570312e+08   1.84667969e+08\n",
      "   1.84765625e+08   1.84863281e+08   1.84960938e+08   1.85058594e+08\n",
      "   1.85156250e+08   1.85253906e+08   1.85351562e+08   1.85449219e+08\n",
      "   1.85546875e+08   1.85644531e+08   1.85742188e+08   1.85839844e+08\n",
      "   1.85937500e+08   1.86035156e+08   1.86132812e+08   1.86230469e+08\n",
      "   1.86328125e+08   1.86425781e+08   1.86523438e+08   1.86621094e+08\n",
      "   1.86718750e+08   1.86816406e+08   1.86914062e+08   1.87011719e+08\n",
      "   1.87109375e+08   1.87207031e+08   1.87304688e+08   1.87402344e+08\n",
      "   1.87500000e+08   1.87597656e+08   1.87695312e+08   1.87792969e+08\n",
      "   1.87890625e+08   1.87988281e+08   1.88085938e+08   1.88183594e+08\n",
      "   1.88281250e+08   1.88378906e+08   1.88476562e+08   1.88574219e+08\n",
      "   1.88671875e+08   1.88769531e+08   1.88867188e+08   1.88964844e+08\n",
      "   1.89062500e+08   1.89160156e+08   1.89257812e+08   1.89355469e+08\n",
      "   1.89453125e+08   1.89550781e+08   1.89648438e+08   1.89746094e+08\n",
      "   1.89843750e+08   1.89941406e+08   1.90039062e+08   1.90136719e+08\n",
      "   1.90234375e+08   1.90332031e+08   1.90429688e+08   1.90527344e+08\n",
      "   1.90625000e+08   1.90722656e+08   1.90820312e+08   1.90917969e+08\n",
      "   1.91015625e+08   1.91113281e+08   1.91210938e+08   1.91308594e+08\n",
      "   1.91406250e+08   1.91503906e+08   1.91601562e+08   1.91699219e+08\n",
      "   1.91796875e+08   1.91894531e+08   1.91992188e+08   1.92089844e+08\n",
      "   1.92187500e+08   1.92285156e+08   1.92382812e+08   1.92480469e+08\n",
      "   1.92578125e+08   1.92675781e+08   1.92773438e+08   1.92871094e+08\n",
      "   1.92968750e+08   1.93066406e+08   1.93164062e+08   1.93261719e+08\n",
      "   1.93359375e+08   1.93457031e+08   1.93554688e+08   1.93652344e+08\n",
      "   1.93750000e+08   1.93847656e+08   1.93945312e+08   1.94042969e+08\n",
      "   1.94140625e+08   1.94238281e+08   1.94335938e+08   1.94433594e+08\n",
      "   1.94531250e+08   1.94628906e+08   1.94726562e+08   1.94824219e+08\n",
      "   1.94921875e+08   1.95019531e+08   1.95117188e+08   1.95214844e+08\n",
      "   1.95312500e+08   1.95410156e+08   1.95507812e+08   1.95605469e+08\n",
      "   1.95703125e+08   1.95800781e+08   1.95898438e+08   1.95996094e+08\n",
      "   1.96093750e+08   1.96191406e+08   1.96289062e+08   1.96386719e+08\n",
      "   1.96484375e+08   1.96582031e+08   1.96679688e+08   1.96777344e+08\n",
      "   1.96875000e+08   1.96972656e+08   1.97070312e+08   1.97167969e+08\n",
      "   1.97265625e+08   1.97363281e+08   1.97460938e+08   1.97558594e+08\n",
      "   1.97656250e+08   1.97753906e+08   1.97851562e+08   1.97949219e+08\n",
      "   1.98046875e+08   1.98144531e+08   1.98242188e+08   1.98339844e+08\n",
      "   1.98437500e+08   1.98535156e+08   1.98632812e+08   1.98730469e+08\n",
      "   1.98828125e+08   1.98925781e+08   1.99023438e+08   1.99121094e+08\n",
      "   1.99218750e+08   1.99316406e+08   1.99414062e+08   1.99511719e+08\n",
      "   1.99609375e+08   1.99707031e+08   1.99804688e+08   1.99902344e+08]\n"
     ]
    }
   ],
   "source": [
    "print uv_holder[0].freq_array.shape #The first 4 uv files have 205 frequencies\n",
    "print uv_holder[4].freq_array.shape #The final uv file has 204 frequencies\n",
    "\n",
    "print uv_holder[0].freq_array[0] #Each range of frequencies is contained within 20 MHz and \n",
    "print uv_holder[1].freq_array[0] #Connects directly with the start of the next one. \n",
    "print uv_holder[2].freq_array[0] #No frequency is left out, and each range is a seperate uv file\n",
    "print uv_holder[3].freq_array[0]\n",
    "print uv_holder[4].freq_array[0]"
   ]
  }
 ],
 "metadata": {
  "kernelspec": {
   "display_name": "Python 2",
   "language": "python",
   "name": "python2"
  },
  "language_info": {
   "codemirror_mode": {
    "name": "ipython",
    "version": 2
   },
   "file_extension": ".py",
   "mimetype": "text/x-python",
   "name": "python",
   "nbconvert_exporter": "python",
   "pygments_lexer": "ipython2",
   "version": "2.7.13"
  }
 },
 "nbformat": 4,
 "nbformat_minor": 2
}
