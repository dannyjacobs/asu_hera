{
 "cells": [
  {
   "cell_type": "code",
   "execution_count": 1,
   "metadata": {
    "collapsed": true
   },
   "outputs": [],
   "source": [
    "from astropy.io import fits\n",
    "from glob import glob\n",
    "import numpy as np\n",
    "import matplotlib.pyplot as plt\n",
    "from astropy.wcs import WCS\n",
    "from HERA_calibration_sources import add_fluxes"
   ]
  },
  {
   "cell_type": "code",
   "execution_count": 2,
   "metadata": {
    "collapsed": true
   },
   "outputs": [],
   "source": [
    "files = np.sort(glob('/home/tcox/data/HERA_data/2458042/KM_uvR_files/run_3/imgs/*.fits'))\n",
    "HDUS = []\n",
    "files = files\n",
    "for f in files:\n",
    "    HDUS.append(fits.open(f))"
   ]
  },
  {
   "cell_type": "code",
   "execution_count": 3,
   "metadata": {},
   "outputs": [
    {
     "name": "stdout",
     "output_type": "stream",
     "text": [
      "Number of objects found in a 10.0 degree band around the center of declination of the HERA FoV with a minimum apparent flux of 5.0 Jy: 21\n",
      "              DEC                      Name     Peak flux          RA  \\\n",
      "11065  -29.480061  TGSSADR J002430.1-292848   9955.299805    6.125430   \n",
      "62742  -30.891060  TGSSADR J020012.1-305327  16858.000000   30.050440   \n",
      "73142  -30.630619  TGSSADR J022720.2-303750   4679.000000   36.834339   \n",
      "151276 -30.122379  TGSSADR J045826.4-300720    911.900024   74.610413   \n",
      "151307 -30.113991  TGSSADR J045514.2-300650   9501.200195   73.809464   \n",
      "161630 -30.511909  TGSSADR J051330.6-303042   1145.199951   78.377602   \n",
      "233226 -30.418230  TGSSADR J073819.7-302505   7336.100098  114.582474   \n",
      "250979 -30.184980  TGSSADR J082126.4-301105   2536.199951  125.360031   \n",
      "306740 -31.737730  TGSSADR J101809.2-314415  13791.000000  154.538345   \n",
      "414236 -29.999001  TGSSADR J142529.1-295956  16865.800781  216.371628   \n",
      "414254 -31.074530  TGSSADR J142155.5-310428   8898.400391  215.481415   \n",
      "428265 -30.751249  TGSSADR J151155.5-304504   4109.700195  227.981674   \n",
      "457563 -31.135880  TGSSADR J162555.4-310809  11250.200195  246.481018   \n",
      "472765 -30.510910  TGSSADR J170745.4-303039   4520.799805  256.939178   \n",
      "472833 -29.911631  TGSSADR J170109.7-295441  11050.000000  255.290695   \n",
      "472851 -30.868139  TGSSADR J165956.9-305205  10641.299805  254.987228   \n",
      "487086 -30.962481  TGSSADR J174024.3-305744   1763.900024  265.101349   \n",
      "487087 -30.975340  TGSSADR J174012.7-305831   3152.800049  265.053101   \n",
      "514414 -30.328739  TGSSADR J185710.6-301943   9529.799805  284.294281   \n",
      "563333 -30.320959  TGSSADR J211810.6-301915  12245.599609  319.544403   \n",
      "593648 -30.746460  TGSSADR J224633.8-304447   4719.000000  341.641205   \n",
      "\n",
      "          Total flux  Apparent peak flux  Apparent total flux  \n",
      "11065   17585.800781         2877.050480          5082.241376  \n",
      "62742   22309.199219        14227.339722         18827.889205  \n",
      "73142    5546.700195         4272.945752          5065.344953  \n",
      "151276  15692.200195          500.951688          8620.500012  \n",
      "151307  20822.900391         5175.877607         11343.491520  \n",
      "161630   8509.000000          928.754105          6900.776295  \n",
      "233226   8153.799805         5417.516155          6021.365790  \n",
      "250979  19141.800781         1483.267272         11194.861280  \n",
      "306740  15222.400391         4991.249001          5509.302497  \n",
      "414236  20589.900391         8189.791982          9998.161565  \n",
      "414254  10054.900391         6251.002691          7063.427879  \n",
      "428265   6464.899902         3988.841219          6274.778689  \n",
      "457563  12690.900391         7432.828012          8384.675675  \n",
      "472765   7440.500000         3662.694066          6028.197748  \n",
      "472833  11497.599609         4916.815469          5115.979693  \n",
      "472851  11182.099609         9188.965588          9655.956546  \n",
      "487086  29006.199219         1386.034421         22792.442877  \n",
      "487087  34535.800781         2445.748162         26790.747899  \n",
      "514414  13460.599609         6435.071016          9089.373982  \n",
      "563333  14077.599609         8204.852504          9432.337501  \n",
      "593648   5228.700195         4602.211514          5099.297360  \n"
     ]
    },
    {
     "data": {
      "text/html": [
       "<div>\n",
       "<style>\n",
       "    .dataframe thead tr:only-child th {\n",
       "        text-align: right;\n",
       "    }\n",
       "\n",
       "    .dataframe thead th {\n",
       "        text-align: left;\n",
       "    }\n",
       "\n",
       "    .dataframe tbody tr th {\n",
       "        vertical-align: top;\n",
       "    }\n",
       "</style>\n",
       "<table border=\"1\" class=\"dataframe\">\n",
       "  <thead>\n",
       "    <tr style=\"text-align: right;\">\n",
       "      <th></th>\n",
       "      <th>Name of Center</th>\n",
       "      <th>RA</th>\n",
       "      <th>DEC</th>\n",
       "      <th>Total flux</th>\n",
       "    </tr>\n",
       "  </thead>\n",
       "  <tbody>\n",
       "    <tr>\n",
       "      <th>0</th>\n",
       "      <td>TGSSADR J002430.1-292848</td>\n",
       "      <td>6.125430</td>\n",
       "      <td>-29.480061</td>\n",
       "      <td>20084.700779</td>\n",
       "    </tr>\n",
       "    <tr>\n",
       "      <th>1</th>\n",
       "      <td>TGSSADR J020012.1-305327</td>\n",
       "      <td>30.050440</td>\n",
       "      <td>-30.891060</td>\n",
       "      <td>25311.699249</td>\n",
       "    </tr>\n",
       "    <tr>\n",
       "      <th>2</th>\n",
       "      <td>TGSSADR J022720.2-303750</td>\n",
       "      <td>36.834339</td>\n",
       "      <td>-30.630619</td>\n",
       "      <td>9238.400185</td>\n",
       "    </tr>\n",
       "    <tr>\n",
       "      <th>3</th>\n",
       "      <td>TGSSADR J045826.4-300720</td>\n",
       "      <td>74.610413</td>\n",
       "      <td>-30.122379</td>\n",
       "      <td>19984.100246</td>\n",
       "    </tr>\n",
       "    <tr>\n",
       "      <th>4</th>\n",
       "      <td>TGSSADR J045514.2-300650</td>\n",
       "      <td>73.809464</td>\n",
       "      <td>-30.113991</td>\n",
       "      <td>23645.400387</td>\n",
       "    </tr>\n",
       "    <tr>\n",
       "      <th>5</th>\n",
       "      <td>TGSSADR J051330.6-303042</td>\n",
       "      <td>78.377602</td>\n",
       "      <td>-30.511909</td>\n",
       "      <td>18364.499821</td>\n",
       "    </tr>\n",
       "    <tr>\n",
       "      <th>6</th>\n",
       "      <td>TGSSADR J073819.7-302505</td>\n",
       "      <td>114.582474</td>\n",
       "      <td>-30.418230</td>\n",
       "      <td>14347.499702</td>\n",
       "    </tr>\n",
       "    <tr>\n",
       "      <th>7</th>\n",
       "      <td>TGSSADR J082126.4-301105</td>\n",
       "      <td>125.360031</td>\n",
       "      <td>-30.184980</td>\n",
       "      <td>20358.700781</td>\n",
       "    </tr>\n",
       "    <tr>\n",
       "      <th>8</th>\n",
       "      <td>TGSSADR J101809.2-314415</td>\n",
       "      <td>154.538345</td>\n",
       "      <td>-31.737730</td>\n",
       "      <td>16862.600403</td>\n",
       "    </tr>\n",
       "    <tr>\n",
       "      <th>9</th>\n",
       "      <td>TGSSADR J142529.1-295956</td>\n",
       "      <td>216.371628</td>\n",
       "      <td>-29.999001</td>\n",
       "      <td>22982.300377</td>\n",
       "    </tr>\n",
       "    <tr>\n",
       "      <th>10</th>\n",
       "      <td>TGSSADR J142155.5-310428</td>\n",
       "      <td>215.481415</td>\n",
       "      <td>-31.074530</td>\n",
       "      <td>12421.300392</td>\n",
       "    </tr>\n",
       "    <tr>\n",
       "      <th>11</th>\n",
       "      <td>TGSSADR J151155.5-304504</td>\n",
       "      <td>227.981674</td>\n",
       "      <td>-30.751249</td>\n",
       "      <td>9922.599945</td>\n",
       "    </tr>\n",
       "    <tr>\n",
       "      <th>12</th>\n",
       "      <td>TGSSADR J162555.4-310809</td>\n",
       "      <td>246.481018</td>\n",
       "      <td>-31.135880</td>\n",
       "      <td>15390.600384</td>\n",
       "    </tr>\n",
       "    <tr>\n",
       "      <th>13</th>\n",
       "      <td>TGSSADR J170745.4-303039</td>\n",
       "      <td>256.939178</td>\n",
       "      <td>-30.510910</td>\n",
       "      <td>12612.200081</td>\n",
       "    </tr>\n",
       "    <tr>\n",
       "      <th>14</th>\n",
       "      <td>TGSSADR J170109.7-295441</td>\n",
       "      <td>255.290695</td>\n",
       "      <td>-29.911631</td>\n",
       "      <td>13686.599632</td>\n",
       "    </tr>\n",
       "    <tr>\n",
       "      <th>15</th>\n",
       "      <td>TGSSADR J165956.9-305205</td>\n",
       "      <td>254.987228</td>\n",
       "      <td>-30.868139</td>\n",
       "      <td>18871.499599</td>\n",
       "    </tr>\n",
       "    <tr>\n",
       "      <th>16</th>\n",
       "      <td>TGSSADR J174024.3-305744</td>\n",
       "      <td>265.101349</td>\n",
       "      <td>-30.962481</td>\n",
       "      <td>67464.900024</td>\n",
       "    </tr>\n",
       "    <tr>\n",
       "      <th>17</th>\n",
       "      <td>TGSSADR J174012.7-305831</td>\n",
       "      <td>265.053101</td>\n",
       "      <td>-30.975340</td>\n",
       "      <td>67636.000031</td>\n",
       "    </tr>\n",
       "    <tr>\n",
       "      <th>18</th>\n",
       "      <td>TGSSADR J185710.6-301943</td>\n",
       "      <td>284.294281</td>\n",
       "      <td>-30.328739</td>\n",
       "      <td>14750.599586</td>\n",
       "    </tr>\n",
       "    <tr>\n",
       "      <th>19</th>\n",
       "      <td>TGSSADR J211810.6-301915</td>\n",
       "      <td>319.544403</td>\n",
       "      <td>-30.320959</td>\n",
       "      <td>14464.699615</td>\n",
       "    </tr>\n",
       "    <tr>\n",
       "      <th>20</th>\n",
       "      <td>TGSSADR J224633.8-304447</td>\n",
       "      <td>341.641205</td>\n",
       "      <td>-30.746460</td>\n",
       "      <td>7199.100218</td>\n",
       "    </tr>\n",
       "  </tbody>\n",
       "</table>\n",
       "</div>"
      ],
      "text/plain": [
       "              Name of Center          RA        DEC    Total flux\n",
       "0   TGSSADR J002430.1-292848    6.125430 -29.480061  20084.700779\n",
       "1   TGSSADR J020012.1-305327   30.050440 -30.891060  25311.699249\n",
       "2   TGSSADR J022720.2-303750   36.834339 -30.630619   9238.400185\n",
       "3   TGSSADR J045826.4-300720   74.610413 -30.122379  19984.100246\n",
       "4   TGSSADR J045514.2-300650   73.809464 -30.113991  23645.400387\n",
       "5   TGSSADR J051330.6-303042   78.377602 -30.511909  18364.499821\n",
       "6   TGSSADR J073819.7-302505  114.582474 -30.418230  14347.499702\n",
       "7   TGSSADR J082126.4-301105  125.360031 -30.184980  20358.700781\n",
       "8   TGSSADR J101809.2-314415  154.538345 -31.737730  16862.600403\n",
       "9   TGSSADR J142529.1-295956  216.371628 -29.999001  22982.300377\n",
       "10  TGSSADR J142155.5-310428  215.481415 -31.074530  12421.300392\n",
       "11  TGSSADR J151155.5-304504  227.981674 -30.751249   9922.599945\n",
       "12  TGSSADR J162555.4-310809  246.481018 -31.135880  15390.600384\n",
       "13  TGSSADR J170745.4-303039  256.939178 -30.510910  12612.200081\n",
       "14  TGSSADR J170109.7-295441  255.290695 -29.911631  13686.599632\n",
       "15  TGSSADR J165956.9-305205  254.987228 -30.868139  18871.499599\n",
       "16  TGSSADR J174024.3-305744  265.101349 -30.962481  67464.900024\n",
       "17  TGSSADR J174012.7-305831  265.053101 -30.975340  67636.000031\n",
       "18  TGSSADR J185710.6-301943  284.294281 -30.328739  14750.599586\n",
       "19  TGSSADR J211810.6-301915  319.544403 -30.320959  14464.699615\n",
       "20  TGSSADR J224633.8-304447  341.641205 -30.746460   7199.100218"
      ]
     },
     "execution_count": 3,
     "metadata": {},
     "output_type": "execute_result"
    }
   ],
   "source": [
    "tb = add_fluxes(DEC_range=10.0, min_flux=5000.0)\n",
    "tb"
   ]
  },
  {
   "cell_type": "code",
   "execution_count": 4,
   "metadata": {
    "collapsed": true
   },
   "outputs": [],
   "source": [
    "plot_data = {k: [] for k in tb['Name of Center']}\n",
    "source_info = {v['Name of Center']: {'RA': v['RA'], 'DEC': v['DEC'], \n",
    "                                     'Total_Flux': v['Total flux']} \n",
    "                                     for _,v in tb.iterrows()}"
   ]
  },
  {
   "cell_type": "code",
   "execution_count": 5,
   "metadata": {},
   "outputs": [
    {
     "name": "stdout",
     "output_type": "stream",
     "text": [
      "('Processing: ', '/home/tcox/data/HERA_data/2458042/KM_uvR_files/run_3/imgs/zen.2458042.12552.xx.HH.uvR.uvfits.msFinal.combined.img.fits')\n"
     ]
    },
    {
     "name": "stderr",
     "output_type": "stream",
     "text": [
      "WARNING: FITSFixedWarning: PC01_01 = 1.000000000000E+00 \n",
      "indices in parameterized keywords must not have leading zeroes. [astropy.wcs.wcs]\n",
      "WARNING: FITSFixedWarning: PC02_01 = 0.000000000000E+00 \n",
      "indices in parameterized keywords must not have leading zeroes. [astropy.wcs.wcs]\n",
      "WARNING: FITSFixedWarning: PC03_01 = 0.000000000000E+00 \n",
      "indices in parameterized keywords must not have leading zeroes. [astropy.wcs.wcs]\n",
      "WARNING: FITSFixedWarning: PC04_01 = 0.000000000000E+00 \n",
      "indices in parameterized keywords must not have leading zeroes. [astropy.wcs.wcs]\n",
      "WARNING: FITSFixedWarning: PC01_02 = 0.000000000000E+00 \n",
      "indices in parameterized keywords must not have leading zeroes. [astropy.wcs.wcs]\n",
      "WARNING: FITSFixedWarning: PC02_02 = 1.000000000000E+00 \n",
      "indices in parameterized keywords must not have leading zeroes. [astropy.wcs.wcs]\n",
      "WARNING: FITSFixedWarning: PC03_02 = 0.000000000000E+00 \n",
      "indices in parameterized keywords must not have leading zeroes. [astropy.wcs.wcs]\n",
      "WARNING: FITSFixedWarning: PC04_02 = 0.000000000000E+00 \n",
      "indices in parameterized keywords must not have leading zeroes. [astropy.wcs.wcs]\n",
      "WARNING: FITSFixedWarning: PC01_03 = 0.000000000000E+00 \n",
      "indices in parameterized keywords must not have leading zeroes. [astropy.wcs.wcs]\n",
      "WARNING: FITSFixedWarning: PC02_03 = 0.000000000000E+00 \n",
      "indices in parameterized keywords must not have leading zeroes. [astropy.wcs.wcs]\n",
      "WARNING: FITSFixedWarning: PC03_03 = 1.000000000000E+00 \n",
      "indices in parameterized keywords must not have leading zeroes. [astropy.wcs.wcs]\n",
      "WARNING: FITSFixedWarning: PC04_03 = 0.000000000000E+00 \n",
      "indices in parameterized keywords must not have leading zeroes. [astropy.wcs.wcs]\n",
      "WARNING: FITSFixedWarning: PC01_04 = 0.000000000000E+00 \n",
      "indices in parameterized keywords must not have leading zeroes. [astropy.wcs.wcs]\n",
      "WARNING: FITSFixedWarning: PC02_04 = 0.000000000000E+00 \n",
      "indices in parameterized keywords must not have leading zeroes. [astropy.wcs.wcs]\n",
      "WARNING: FITSFixedWarning: PC03_04 = 0.000000000000E+00 \n",
      "indices in parameterized keywords must not have leading zeroes. [astropy.wcs.wcs]\n",
      "WARNING: FITSFixedWarning: PC04_04 = 1.000000000000E+00 \n",
      "indices in parameterized keywords must not have leading zeroes. [astropy.wcs.wcs]\n"
     ]
    },
    {
     "name": "stdout",
     "output_type": "stream",
     "text": [
      "('Processing: ', '/home/tcox/data/HERA_data/2458042/KM_uvR_files/run_3/imgs/zen.2458042.13298.xx.HH.uvR.uvfits.msFinal.combined.img.fits')\n",
      "('Processing: ', '/home/tcox/data/HERA_data/2458042/KM_uvR_files/run_3/imgs/zen.2458042.14043.xx.HH.uvR.uvfits.msFinal.combined.img.fits')\n",
      "('Processing: ', '/home/tcox/data/HERA_data/2458042/KM_uvR_files/run_3/imgs/zen.2458042.14789.xx.HH.uvR.uvfits.msFinal.combined.img.fits')\n",
      "('Processing: ', '/home/tcox/data/HERA_data/2458042/KM_uvR_files/run_3/imgs/zen.2458042.15535.xx.HH.uvR.uvfits.msFinal.combined.img.fits')\n",
      "('Processing: ', '/home/tcox/data/HERA_data/2458042/KM_uvR_files/run_3/imgs/zen.2458042.16280.xx.HH.uvR.uvfits.msFinal.combined.img.fits')\n",
      "('Processing: ', '/home/tcox/data/HERA_data/2458042/KM_uvR_files/run_3/imgs/zen.2458042.17026.xx.HH.uvR.uvfits.msFinal.combined.img.fits')\n",
      "('Processing: ', '/home/tcox/data/HERA_data/2458042/KM_uvR_files/run_3/imgs/zen.2458042.17772.xx.HH.uvR.uvfits.msFinal.combined.img.fits')\n",
      "('Processing: ', '/home/tcox/data/HERA_data/2458042/KM_uvR_files/run_3/imgs/zen.2458042.18517.xx.HH.uvR.uvfits.msFinal.combined.img.fits')\n",
      "('Processing: ', '/home/tcox/data/HERA_data/2458042/KM_uvR_files/run_3/imgs/zen.2458042.19263.xx.HH.uvR.uvfits.msFinal.combined.img.fits')\n",
      "('Processing: ', '/home/tcox/data/HERA_data/2458042/KM_uvR_files/run_3/imgs/zen.2458042.20009.xx.HH.uvR.uvfits.msFinal.combined.img.fits')\n",
      "('Processing: ', '/home/tcox/data/HERA_data/2458042/KM_uvR_files/run_3/imgs/zen.2458042.20754.xx.HH.uvR.uvfits.msFinal.combined.img.fits')\n",
      "('Processing: ', '/home/tcox/data/HERA_data/2458042/KM_uvR_files/run_3/imgs/zen.2458042.21500.xx.HH.uvR.uvfits.msFinal.combined.img.fits')\n",
      "('Processing: ', '/home/tcox/data/HERA_data/2458042/KM_uvR_files/run_3/imgs/zen.2458042.22245.xx.HH.uvR.uvfits.msFinal.combined.img.fits')\n",
      "('Processing: ', '/home/tcox/data/HERA_data/2458042/KM_uvR_files/run_3/imgs/zen.2458042.22991.xx.HH.uvR.uvfits.msFinal.combined.img.fits')\n",
      "('Processing: ', '/home/tcox/data/HERA_data/2458042/KM_uvR_files/run_3/imgs/zen.2458042.23737.xx.HH.uvR.uvfits.msFinal.combined.img.fits')\n",
      "('Processing: ', '/home/tcox/data/HERA_data/2458042/KM_uvR_files/run_3/imgs/zen.2458042.24482.xx.HH.uvR.uvfits.msFinal.combined.img.fits')\n",
      "('Processing: ', '/home/tcox/data/HERA_data/2458042/KM_uvR_files/run_3/imgs/zen.2458042.25228.xx.HH.uvR.uvfits.msFinal.combined.img.fits')\n",
      "('Processing: ', '/home/tcox/data/HERA_data/2458042/KM_uvR_files/run_3/imgs/zen.2458042.25974.xx.HH.uvR.uvfits.msFinal.combined.img.fits')\n",
      "('Processing: ', '/home/tcox/data/HERA_data/2458042/KM_uvR_files/run_3/imgs/zen.2458042.26719.xx.HH.uvR.uvfits.msFinal.combined.img.fits')\n",
      "('Processing: ', '/home/tcox/data/HERA_data/2458042/KM_uvR_files/run_3/imgs/zen.2458042.27465.xx.HH.uvR.uvfits.msFinal.combined.img.fits')\n",
      "('Processing: ', '/home/tcox/data/HERA_data/2458042/KM_uvR_files/run_3/imgs/zen.2458042.28211.xx.HH.uvR.uvfits.msFinal.combined.img.fits')\n",
      "('Processing: ', '/home/tcox/data/HERA_data/2458042/KM_uvR_files/run_3/imgs/zen.2458042.28956.xx.HH.uvR.uvfits.msFinal.combined.img.fits')\n",
      "('Processing: ', '/home/tcox/data/HERA_data/2458042/KM_uvR_files/run_3/imgs/zen.2458042.29702.xx.HH.uvR.uvfits.msFinal.combined.img.fits')\n",
      "('Processing: ', '/home/tcox/data/HERA_data/2458042/KM_uvR_files/run_3/imgs/zen.2458042.30448.xx.HH.uvR.uvfits.msFinal.combined.img.fits')\n",
      "('Processing: ', '/home/tcox/data/HERA_data/2458042/KM_uvR_files/run_3/imgs/zen.2458042.31193.xx.HH.uvR.uvfits.msFinal.combined.img.fits')\n",
      "('Processing: ', '/home/tcox/data/HERA_data/2458042/KM_uvR_files/run_3/imgs/zen.2458042.31939.xx.HH.uvR.uvfits.msFinal.combined.img.fits')\n",
      "('Processing: ', '/home/tcox/data/HERA_data/2458042/KM_uvR_files/run_3/imgs/zen.2458042.32685.xx.HH.uvR.uvfits.msFinal.combined.img.fits')\n",
      "('Processing: ', '/home/tcox/data/HERA_data/2458042/KM_uvR_files/run_3/imgs/zen.2458042.33430.xx.HH.uvR.uvfits.msFinal.combined.img.fits')\n",
      "('Processing: ', '/home/tcox/data/HERA_data/2458042/KM_uvR_files/run_3/imgs/zen.2458042.34176.xx.HH.uvR.uvfits.msFinal.combined.img.fits')\n",
      "('Processing: ', '/home/tcox/data/HERA_data/2458042/KM_uvR_files/run_3/imgs/zen.2458042.34922.xx.HH.uvR.uvfits.msFinal.combined.img.fits')\n",
      "('Processing: ', '/home/tcox/data/HERA_data/2458042/KM_uvR_files/run_3/imgs/zen.2458042.35667.xx.HH.uvR.uvfits.msFinal.combined.img.fits')\n",
      "('Processing: ', '/home/tcox/data/HERA_data/2458042/KM_uvR_files/run_3/imgs/zen.2458042.36413.xx.HH.uvR.uvfits.msFinal.combined.img.fits')\n",
      "('Processing: ', '/home/tcox/data/HERA_data/2458042/KM_uvR_files/run_3/imgs/zen.2458042.37159.xx.HH.uvR.uvfits.msFinal.combined.img.fits')\n",
      "('Processing: ', '/home/tcox/data/HERA_data/2458042/KM_uvR_files/run_3/imgs/zen.2458042.37904.xx.HH.uvR.uvfits.msFinal.combined.img.fits')\n",
      "('Processing: ', '/home/tcox/data/HERA_data/2458042/KM_uvR_files/run_3/imgs/zen.2458042.38650.xx.HH.uvR.uvfits.msFinal.combined.img.fits')\n",
      "('Processing: ', '/home/tcox/data/HERA_data/2458042/KM_uvR_files/run_3/imgs/zen.2458042.39396.xx.HH.uvR.uvfits.msFinal.combined.img.fits')\n",
      "('Processing: ', '/home/tcox/data/HERA_data/2458042/KM_uvR_files/run_3/imgs/zen.2458042.40141.xx.HH.uvR.uvfits.msFinal.combined.img.fits')\n",
      "('Processing: ', '/home/tcox/data/HERA_data/2458042/KM_uvR_files/run_3/imgs/zen.2458042.40887.xx.HH.uvR.uvfits.msFinal.combined.img.fits')\n",
      "('Processing: ', '/home/tcox/data/HERA_data/2458042/KM_uvR_files/run_3/imgs/zen.2458042.41632.xx.HH.uvR.uvfits.msFinal.combined.img.fits')\n",
      "('Processing: ', '/home/tcox/data/HERA_data/2458042/KM_uvR_files/run_3/imgs/zen.2458042.42378.xx.HH.uvR.uvfits.msFinal.combined.img.fits')\n",
      "('Processing: ', '/home/tcox/data/HERA_data/2458042/KM_uvR_files/run_3/imgs/zen.2458042.43124.xx.HH.uvR.uvfits.msFinal.combined.img.fits')\n",
      "('Processing: ', '/home/tcox/data/HERA_data/2458042/KM_uvR_files/run_3/imgs/zen.2458042.43869.xx.HH.uvR.uvfits.msFinal.combined.img.fits')\n",
      "('Processing: ', '/home/tcox/data/HERA_data/2458042/KM_uvR_files/run_3/imgs/zen.2458042.44615.xx.HH.uvR.uvfits.msFinal.combined.img.fits')\n",
      "('Processing: ', '/home/tcox/data/HERA_data/2458042/KM_uvR_files/run_3/imgs/zen.2458042.45361.xx.HH.uvR.uvfits.msFinal.combined.img.fits')\n",
      "('Processing: ', '/home/tcox/data/HERA_data/2458042/KM_uvR_files/run_3/imgs/zen.2458042.46106.xx.HH.uvR.uvfits.msFinal.combined.img.fits')\n",
      "('Processing: ', '/home/tcox/data/HERA_data/2458042/KM_uvR_files/run_3/imgs/zen.2458042.46852.xx.HH.uvR.uvfits.msFinal.combined.img.fits')\n",
      "('Processing: ', '/home/tcox/data/HERA_data/2458042/KM_uvR_files/run_3/imgs/zen.2458042.47598.xx.HH.uvR.uvfits.msFinal.combined.img.fits')\n",
      "('Processing: ', '/home/tcox/data/HERA_data/2458042/KM_uvR_files/run_3/imgs/zen.2458042.48343.xx.HH.uvR.uvfits.msFinal.combined.img.fits')\n",
      "('Processing: ', '/home/tcox/data/HERA_data/2458042/KM_uvR_files/run_3/imgs/zen.2458042.49089.xx.HH.uvR.uvfits.msFinal.combined.img.fits')\n",
      "('Processing: ', '/home/tcox/data/HERA_data/2458042/KM_uvR_files/run_3/imgs/zen.2458042.49835.xx.HH.uvR.uvfits.msFinal.combined.img.fits')\n",
      "('Processing: ', '/home/tcox/data/HERA_data/2458042/KM_uvR_files/run_3/imgs/zen.2458042.50580.xx.HH.uvR.uvfits.msFinal.combined.img.fits')\n",
      "('Processing: ', '/home/tcox/data/HERA_data/2458042/KM_uvR_files/run_3/imgs/zen.2458042.51326.xx.HH.uvR.uvfits.msFinal.combined.img.fits')\n",
      "('Processing: ', '/home/tcox/data/HERA_data/2458042/KM_uvR_files/run_3/imgs/zen.2458042.52072.xx.HH.uvR.uvfits.msFinal.combined.img.fits')\n",
      "('Processing: ', '/home/tcox/data/HERA_data/2458042/KM_uvR_files/run_3/imgs/zen.2458042.52817.xx.HH.uvR.uvfits.msFinal.combined.img.fits')\n",
      "('Processing: ', '/home/tcox/data/HERA_data/2458042/KM_uvR_files/run_3/imgs/zen.2458042.53563.xx.HH.uvR.uvfits.msFinal.combined.img.fits')\n",
      "('Processing: ', '/home/tcox/data/HERA_data/2458042/KM_uvR_files/run_3/imgs/zen.2458042.54309.xx.HH.uvR.uvfits.msFinal.combined.img.fits')\n",
      "('Processing: ', '/home/tcox/data/HERA_data/2458042/KM_uvR_files/run_3/imgs/zen.2458042.55054.xx.HH.uvR.uvfits.msFinal.combined.img.fits')\n",
      "('Processing: ', '/home/tcox/data/HERA_data/2458042/KM_uvR_files/run_3/imgs/zen.2458042.55800.xx.HH.uvR.uvfits.msFinal.combined.img.fits')\n",
      "('Processing: ', '/home/tcox/data/HERA_data/2458042/KM_uvR_files/run_3/imgs/zen.2458042.56546.xx.HH.uvR.uvfits.msFinal.combined.img.fits')\n"
     ]
    },
    {
     "name": "stdout",
     "output_type": "stream",
     "text": [
      "('Processing: ', '/home/tcox/data/HERA_data/2458042/KM_uvR_files/run_3/imgs/zen.2458042.57291.xx.HH.uvR.uvfits.msFinal.combined.img.fits')\n",
      "('Processing: ', '/home/tcox/data/HERA_data/2458042/KM_uvR_files/run_3/imgs/zen.2458042.58037.xx.HH.uvR.uvfits.msFinal.combined.img.fits')\n",
      "('Processing: ', '/home/tcox/data/HERA_data/2458042/KM_uvR_files/run_3/imgs/zen.2458042.58783.xx.HH.uvR.uvfits.msFinal.combined.img.fits')\n",
      "('Processing: ', '/home/tcox/data/HERA_data/2458042/KM_uvR_files/run_3/imgs/zen.2458042.59528.xx.HH.uvR.uvfits.msFinal.combined.img.fits')\n",
      "('Processing: ', '/home/tcox/data/HERA_data/2458042/KM_uvR_files/run_3/imgs/zen.2458042.60274.xx.HH.uvR.uvfits.msFinal.combined.img.fits')\n",
      "('Processing: ', '/home/tcox/data/HERA_data/2458042/KM_uvR_files/run_3/imgs/zen.2458042.61020.xx.HH.uvR.uvfits.msFinal.combined.img.fits')\n",
      "('Processing: ', '/home/tcox/data/HERA_data/2458042/KM_uvR_files/run_3/imgs/zen.2458042.61765.xx.HH.uvR.uvfits.msFinal.combined.img.fits')\n",
      "('Processing: ', '/home/tcox/data/HERA_data/2458042/KM_uvR_files/run_3/imgs/zen.2458042.62511.xx.HH.uvR.uvfits.msFinal.combined.img.fits')\n",
      "('Processing: ', '/home/tcox/data/HERA_data/2458042/KM_uvR_files/run_3/imgs/zen.2458042.63256.xx.HH.uvR.uvfits.msFinal.combined.img.fits')\n",
      "('Processing: ', '/home/tcox/data/HERA_data/2458042/KM_uvR_files/run_3/imgs/zen.2458042.64002.xx.HH.uvR.uvfits.msFinal.combined.img.fits')\n",
      "('Processing: ', '/home/tcox/data/HERA_data/2458042/KM_uvR_files/run_3/imgs/zen.2458042.64748.xx.HH.uvR.uvfits.msFinal.combined.img.fits')\n",
      "('Processing: ', '/home/tcox/data/HERA_data/2458042/KM_uvR_files/run_3/imgs/zen.2458042.65493.xx.HH.uvR.uvfits.msFinal.combined.img.fits')\n",
      "('Processing: ', '/home/tcox/data/HERA_data/2458042/KM_uvR_files/run_3/imgs/zen.2458042.66239.xx.HH.uvR.uvfits.msFinal.combined.img.fits')\n"
     ]
    }
   ],
   "source": [
    "err = 5\n",
    "\n",
    "for HDU,f in zip(HDUS,files):\n",
    "    print ('Processing: ', f)\n",
    "    # Read in file information\n",
    "    fits_info = HDU[0].header\n",
    "    ax1        = fits_info['NAXIS1']\n",
    "    ax2        = fits_info['NAXIS2']\n",
    "    units      = fits_info['BUNIT']\n",
    "    c_ra       = fits_info['OBSRA']\n",
    "    c_dec      = fits_info['OBSDEC']\n",
    "    pix_size   = fits_info['CDELT2']\n",
    "    c_pix1     = fits_info['CRPIX1']\n",
    "    c_pix2     = fits_info['CRPIX2']\n",
    "    \n",
    "    data = HDU[0].data\n",
    "    data = np.flip(data[0][0],axis=0)\n",
    "    \n",
    "    w = WCS(f)\n",
    "    \n",
    "    l_bound = w.all_pix2world(0,c_pix2,0,0,0)[0]\n",
    "    r_bound = w.all_pix2world(ax1,c_pix2,0,0,0)[0]\n",
    "    \n",
    "    if l_bound < r_bound:\n",
    "        r_bound -= 360\n",
    "    \n",
    "    for _,src in tb.iterrows():\n",
    "        # Convert a position to pixel values\n",
    "        \n",
    "        if l_bound-err*pix_size > src['RA'] > r_bound+err*pix_size:\n",
    "            i,j = w.all_world2pix(src['RA'],src['DEC'],0,0,0)[:2]\n",
    "            i = int(i)\n",
    "            j = int(ax2-j)\n",
    "            plot_data[src['Name of Center']].append(data[j-err:j+err,i-err:i+err].max()/src['Total flux'])"
   ]
  },
  {
   "cell_type": "code",
   "execution_count": 6,
   "metadata": {},
   "outputs": [
    {
     "data": {
      "text/plain": [
       "6"
      ]
     },
     "execution_count": 6,
     "metadata": {},
     "output_type": "execute_result"
    }
   ],
   "source": [
    "cleaned_set = {k: v for k,v in plot_data.iteritems() if len(v) == 15 }\n",
    "len(cleaned_set)"
   ]
  },
  {
   "cell_type": "code",
   "execution_count": 7,
   "metadata": {},
   "outputs": [
    {
     "data": {
      "image/png": "[encoded data removed]",
      "text/plain": [
       "<Figure size 432x288 with 1 Axes>"
      ]
     },
     "metadata": {},
     "output_type": "display_data"
    }
   ],
   "source": [
    "l = np.zeros(15)\n",
    "\n",
    "for key,item in cleaned_set.items():\n",
    "    theta = np.linspace(c_ra-l_bound,c_ra-r_bound,len(item))\n",
    "    flux = np.array(item)\n",
    "    plt.xlabel(r'$\\theta$')\n",
    "    plt.ylabel('Normalized Flux Density')\n",
    "    plt.title(key)\n",
    "    plt.plot(theta,flux,label=source_info[key]['DEC'])\n",
    "    #plt.legend()\n",
    "plt.show()"
   ]
  },
  {
   "cell_type": "code",
   "execution_count": 12,
   "metadata": {},
   "outputs": [
    {
     "name": "stderr",
     "output_type": "stream",
     "text": [
      "/data4/tcox/src/anaconda/envs/HERA/lib/python2.7/site-packages/ipykernel_launcher.py:11: RuntimeWarning: invalid value encountered in log10\n",
      "  # This is added back by InteractiveShellApp.init_path()\n"
     ]
    },
    {
     "data": {
      "image/png": "[encoded data removed]",
      "text/plain": [
       "<Figure size 432x288 with 1 Axes>"
      ]
     },
     "metadata": {},
     "output_type": "display_data"
    }
   ],
   "source": [
    "l = np.zeros(15)\n",
    "\n",
    "#del cleaned_set['TGSSADR J022720.2-303750']\n",
    "\n",
    "for key,item in cleaned_set.items():\n",
    "    theta = np.linspace(c_ra-l_bound,c_ra-r_bound,len(item))\n",
    "    flux = np.array(item)\n",
    "    plt.xlabel(r'$\\theta$')\n",
    "    plt.ylabel('Normalized Flux Density')\n",
    "    plt.title(key)\n",
    "    plt.plot(theta,flux,label=source_info[key]['DEC'])\n",
    "plt.legend()\n",
    "plt.show()"
   ]
  },
  {
   "cell_type": "code",
   "execution_count": 10,
   "metadata": {
    "collapsed": true
   },
   "outputs": [],
   "source": [
    "from mpl_toolkits.mplot3d import Axes3D\n",
    "\n",
    "fig = plt.figure()\n",
    "ax = fig.add_subplot(111, projection='3d')"
   ]
  },
  {
   "cell_type": "code",
   "execution_count": 15,
   "metadata": {},
   "outputs": [
    {
     "data": {
      "text/plain": [
       "{'TGSSADR J002430.1-292848': [8.253629479657875e-09,\n",
       "  6.472825998895542e-09,\n",
       "  1.2927874994490282e-08,\n",
       "  3.532928719567853e-08,\n",
       "  1.2937806235916952e-07,\n",
       "  2.2609797862313264e-07,\n",
       "  3.620709672299858e-07,\n",
       "  4.3917041596366986e-07,\n",
       "  4.097843281649602e-07,\n",
       "  2.681085557277866e-07,\n",
       "  1.428164914973663e-07,\n",
       "  4.368754494684217e-08,\n",
       "  8.725987990008826e-09,\n",
       "  4.173240279464798e-09,\n",
       "  1.2908351880252289e-08],\n",
       " 'TGSSADR J020012.1-305327': [5.946379208056246e-09,\n",
       "  7.689948984858876e-09,\n",
       "  1.8068912520191182e-08,\n",
       "  7.912938003942951e-08,\n",
       "  1.8533936822509207e-07,\n",
       "  3.033423612745576e-07,\n",
       "  4.195874767952706e-07,\n",
       "  4.553484882994288e-07,\n",
       "  3.8421008114666275e-07,\n",
       "  2.478679983996307e-07,\n",
       "  1.2266779276004765e-07,\n",
       "  3.738957137740393e-08,\n",
       "  1.2327373269531995e-08,\n",
       "  2.6703279491844885e-08,\n",
       "  1.730285247295008e-08],\n",
       " 'TGSSADR J043300.3-295615': [5.1439099087378936e-08,\n",
       "  2.0157149284666953e-08,\n",
       "  4.3583033381779846e-08,\n",
       "  6.51215468285285e-08,\n",
       "  1.0713557446976581e-07,\n",
       "  1.8768718545056082e-07,\n",
       "  3.0809589745806764e-07,\n",
       "  4.020448484550987e-07,\n",
       "  3.3686908555184693e-07,\n",
       "  2.0759889646001745e-07,\n",
       "  1.1609738693148825e-07,\n",
       "  7.30955475319221e-08,\n",
       "  6.507246502053641e-08,\n",
       "  5.444227202765161e-08,\n",
       "  3.140859551279961e-08],\n",
       " 'TGSSADR J045514.2-300650': [1.3673487762485676e-08,\n",
       "  1.3038627592077516e-08,\n",
       "  7.737243242811843e-09,\n",
       "  3.82115905648033e-08,\n",
       "  1.2693469515793916e-07,\n",
       "  2.5880261836710036e-07,\n",
       "  3.8686563435524595e-07,\n",
       "  4.483824170417551e-07,\n",
       "  4.0579252996260747e-07,\n",
       "  2.7946632534489446e-07,\n",
       "  1.591710067899443e-07,\n",
       "  7.5929169051104e-08,\n",
       "  3.0512729387095076e-08,\n",
       "  3.220690181387739e-08,\n",
       "  4.60998683754069e-09],\n",
       " 'TGSSADR J045826.4-300720': [1.8116061998735325e-08,\n",
       "  1.6223128302217657e-08,\n",
       "  6.393482664558466e-09,\n",
       "  3.669721788534791e-08,\n",
       "  1.1125736224101273e-07,\n",
       "  2.3519225681184734e-07,\n",
       "  3.6682670703434213e-07,\n",
       "  4.4473277313492217e-07,\n",
       "  4.1081400175064025e-07,\n",
       "  3.020611525322739e-07,\n",
       "  1.784652494759041e-07,\n",
       "  8.261750172938204e-08,\n",
       "  1.9737740443200885e-08,\n",
       "  3.6851404498711486e-08,\n",
       "  5.838106042540534e-09],\n",
       " 'TGSSADR J051330.6-303042': [1.8937700777038073e-08,\n",
       "  9.192802586431887e-09,\n",
       "  1.9002841883998392e-08,\n",
       "  4.1398013410677954e-08,\n",
       "  1.459961810924336e-07,\n",
       "  3.0468285901344156e-07,\n",
       "  4.471346944729778e-07,\n",
       "  4.784555225356028e-07,\n",
       "  3.8874526419978094e-07,\n",
       "  2.662062968330159e-07,\n",
       "  1.2388802726717896e-07,\n",
       "  -9.245537184151284e-09,\n",
       "  9.671482907910175e-09,\n",
       "  4.763630055205935e-09,\n",
       "  4.183120795263548e-09],\n",
       " 'TGSSADR J051342.7-302455': [1.8979704112775e-08,\n",
       "  9.224774582212362e-09,\n",
       "  1.9605157785318163e-08,\n",
       "  4.271016881945906e-08,\n",
       "  1.506236900692873e-07,\n",
       "  3.143401161733771e-07,\n",
       "  4.613071186902005e-07,\n",
       "  4.936206947270382e-07,\n",
       "  4.010669714275536e-07,\n",
       "  2.746439971829301e-07,\n",
       "  1.2781479407719983e-07,\n",
       "  -7.905530795664896e-09,\n",
       "  9.978031158973714e-09,\n",
       "  4.914618530917632e-09,\n",
       "  4.315709393722091e-09]}"
      ]
     },
     "execution_count": 15,
     "metadata": {},
     "output_type": "execute_result"
    }
   ],
   "source": [
    "ax = fig.gca(projection='3d')\n",
    "ax.plot_trisurf(theta, , z, cmap=cm.jet, linewidth=0.1)"
   ]
  },
  {
   "cell_type": "code",
   "execution_count": 22,
   "metadata": {},
   "outputs": [
    {
     "data": {
      "text/plain": [
       "TGSSADR J051330.6-303042   -30.511909\n",
       "TGSSADR J045826.4-300720   -30.122379\n",
       "TGSSADR J051342.7-302455   -30.415541\n",
       "TGSSADR J043300.3-295615   -29.937559\n",
       "TGSSADR J020012.1-305327   -30.891060\n",
       "TGSSADR J002430.1-292848   -29.480061\n",
       "TGSSADR J045514.2-300650   -30.113991\n",
       "Name: DEC, dtype: float64"
      ]
     },
     "execution_count": 22,
     "metadata": {},
     "output_type": "execute_result"
    }
   ],
   "source": [
    "import pandas as pd\n",
    "\n",
    "source_info = pd.DataFrame.from_dict(source_info)\n",
    "source_info[cleaned_set.keys()].loc['DEC']"
   ]
  },
  {
   "cell_type": "code",
   "execution_count": 12,
   "metadata": {
    "collapsed": true
   },
   "outputs": [],
   "source": [
    "from pyuvdata import UVData"
   ]
  },
  {
   "cell_type": "code",
   "execution_count": 13,
   "metadata": {
    "collapsed": true
   },
   "outputs": [],
   "source": [
    "u = UVData()"
   ]
  },
  {
   "cell_type": "code",
   "execution_count": 55,
   "metadata": {
    "collapsed": true
   },
   "outputs": [],
   "source": [
    "u.read_miriad('/home/tcox/data/HERA_data/2458042/zen.2458042.12552.xx.HH.uv')"
   ]
  },
  {
   "cell_type": "code",
   "execution_count": 56,
   "metadata": {},
   "outputs": [
    {
     "data": {
      "text/plain": [
       "(67680,)"
      ]
     },
     "execution_count": 56,
     "metadata": {},
     "output_type": "execute_result"
    }
   ],
   "source": [
    "u.time_array.shape"
   ]
  },
  {
   "cell_type": "code",
   "execution_count": 71,
   "metadata": {},
   "outputs": [
    {
     "data": {
      "text/plain": [
       "16920"
      ]
     },
     "execution_count": 71,
     "metadata": {},
     "output_type": "execute_result"
    }
   ],
   "source": [
    "from copy import deepcopy\n",
    "\n",
    "n = int(len(u.time_array)/4)\n",
    "n"
   ]
  },
  {
   "cell_type": "code",
   "execution_count": null,
   "metadata": {
    "collapsed": true
   },
   "outputs": [],
   "source": [
    "def new_uvs(n):\n",
    "    times = np.split(u.time_array,n)\n",
    "    for time in times:\n",
    "        v = deepcopy(u)\n",
    "        v.select(time)\n",
    "        "
   ]
  },
  {
   "cell_type": "code",
   "execution_count": 63,
   "metadata": {
    "collapsed": true
   },
   "outputs": [],
   "source": [
    "v.select(times=times[:])"
   ]
  },
  {
   "cell_type": "code",
   "execution_count": 66,
   "metadata": {},
   "outputs": [
    {
     "data": {
      "text/plain": [
       "(33840,)"
      ]
     },
     "execution_count": 66,
     "metadata": {},
     "output_type": "execute_result"
    }
   ],
   "source": [
    "v.time_array.shape"
   ]
  },
  {
   "cell_type": "code",
   "execution_count": 67,
   "metadata": {},
   "outputs": [
    {
     "data": {
      "text/plain": [
       "(33840, 1, 1024, 1)"
      ]
     },
     "execution_count": 67,
     "metadata": {},
     "output_type": "execute_result"
    }
   ],
   "source": [
    "v.data_array.shape"
   ]
  },
  {
   "cell_type": "code",
   "execution_count": null,
   "metadata": {
    "collapsed": true
   },
   "outputs": [],
   "source": []
  }
 ],
 "metadata": {
  "kernelspec": {
   "display_name": "Python 2",
   "language": "python",
   "name": "python2"
  },
  "language_info": {
   "codemirror_mode": {
    "name": "ipython",
    "version": 2
   },
   "file_extension": ".py",
   "mimetype": "text/x-python",
   "name": "python",
   "nbconvert_exporter": "python",
   "pygments_lexer": "ipython2",
   "version": "2.7.15"
  }
 },
 "nbformat": 4,
 "nbformat_minor": 2
}
