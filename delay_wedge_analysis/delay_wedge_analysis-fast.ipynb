{
 "cells": [
  {
   "cell_type": "markdown",
   "metadata": {},
   "source": [
    "# IDR2 Delay Filtered Data Analysis\n",
    "\n",
    "### Shane Bechtel & Tyler Cox"
   ]
  },
  {
   "cell_type": "markdown",
   "metadata": {},
   "source": [
    "When imaging delay filtered IDR2 data, it was noted that the average visibility was much higher in images created using the full spectral range than images created using channels 100-800. Ideally when using the technique of delay filtering, all foregrounds should be removed. However, we are still seeing a visibility dependence on the foregrounds especially when using the full spectral range. This notebook is used to analyze the delay filtered IDR2 data to understand why we are seeing an increase in visibilites when using the entire spectral range. We start by importing the necessary libraries and selecting our plot settings."
   ]
  },
  {
   "cell_type": "code",
   "execution_count": 5,
   "metadata": {},
   "outputs": [],
   "source": [
    "% matplotlib notebook \n",
    "\n",
    "import numpy as np\n",
    "import matplotlib.pyplot as plt\n",
    "from pyuvdata import UVData\n",
    "from matplotlib.colors import SymLogNorm\n",
    "import os\n",
    "import glob\n",
    "from astropy.io import fits\n",
    "from astropy.wcs import WCS\n",
    "from astropy.time import Time\n",
    "\n",
    "plt.rc('font', family='serif')\n",
    "plt.rc('xtick', labelsize='small')\n",
    "plt.rc('ytick', labelsize='small')"
   ]
  },
  {
   "cell_type": "code",
   "execution_count": 6,
   "metadata": {
    "collapsed": true
   },
   "outputs": [],
   "source": [
    "folders = np.sort(glob.glob('/data6/HERA/data/IDR2.1/LSTBIN/zen.grp1.of1.xx.LST.*.uvOCRSDL'))\n",
    "folders_nf = np.sort(glob.glob('/data6/HERA/data/IDR2.1/LSTBIN/zen.grp1.of1.xx.LST.*.uvOCRSL'))"
   ]
  },
  {
   "cell_type": "code",
   "execution_count": 7,
   "metadata": {},
   "outputs": [],
   "source": [
    "uvxy = UVData()"
   ]
  },
  {
   "cell_type": "code",
   "execution_count": 8,
   "metadata": {},
   "outputs": [
    {
     "name": "stdout",
     "output_type": "stream",
     "text": [
      "/data6/HERA/data/IDR2.1/LSTBIN/zen.grp1.of1.xx.LST.0.06682.uvOCRSL\n"
     ]
    },
    {
     "name": "stderr",
     "output_type": "stream",
     "text": [
      "Mean of empty slice.\n",
      "invalid value encountered in double_scalars\n",
      "antenna_diameters is not set. Using known values for HERA.\n"
     ]
    },
    {
     "name": "stdout",
     "output_type": "stream",
     "text": [
      "/data6/HERA/data/IDR2.1/LSTBIN/zen.grp1.of1.xx.LST.0.16078.uvOCRSL\n",
      "/data6/HERA/data/IDR2.1/LSTBIN/zen.grp1.of1.xx.LST.0.25474.uvOCRSL\n",
      "/data6/HERA/data/IDR2.1/LSTBIN/zen.grp1.of1.xx.LST.0.34870.uvOCRSL\n",
      "/data6/HERA/data/IDR2.1/LSTBIN/zen.grp1.of1.xx.LST.0.44266.uvOCRSL\n",
      "/data6/HERA/data/IDR2.1/LSTBIN/zen.grp1.of1.xx.LST.0.53661.uvOCRSL\n",
      "/data6/HERA/data/IDR2.1/LSTBIN/zen.grp1.of1.xx.LST.0.63057.uvOCRSL\n",
      "/data6/HERA/data/IDR2.1/LSTBIN/zen.grp1.of1.xx.LST.0.72453.uvOCRSL\n",
      "/data6/HERA/data/IDR2.1/LSTBIN/zen.grp1.of1.xx.LST.0.81849.uvOCRSL\n",
      "/data6/HERA/data/IDR2.1/LSTBIN/zen.grp1.of1.xx.LST.0.91245.uvOCRSL\n",
      "/data6/HERA/data/IDR2.1/LSTBIN/zen.grp1.of1.xx.LST.1.00641.uvOCRSL\n",
      "/data6/HERA/data/IDR2.1/LSTBIN/zen.grp1.of1.xx.LST.1.10036.uvOCRSL\n",
      "/data6/HERA/data/IDR2.1/LSTBIN/zen.grp1.of1.xx.LST.1.19432.uvOCRSL\n",
      "/data6/HERA/data/IDR2.1/LSTBIN/zen.grp1.of1.xx.LST.1.28828.uvOCRSL\n",
      "/data6/HERA/data/IDR2.1/LSTBIN/zen.grp1.of1.xx.LST.1.38224.uvOCRSL\n",
      "/data6/HERA/data/IDR2.1/LSTBIN/zen.grp1.of1.xx.LST.1.47620.uvOCRSL\n",
      "/data6/HERA/data/IDR2.1/LSTBIN/zen.grp1.of1.xx.LST.1.57015.uvOCRSL\n"
     ]
    },
    {
     "ename": "KeyboardInterrupt",
     "evalue": "",
     "output_type": "error",
     "traceback": [
      "\u001b[0;31m---------------------------------------------------------------------------\u001b[0m",
      "\u001b[0;31mKeyboardInterrupt\u001b[0m                         Traceback (most recent call last)",
      "\u001b[0;32m<ipython-input-8-25464a3cf7aa>\u001b[0m in \u001b[0;36m<module>\u001b[0;34m()\u001b[0m\n\u001b[1;32m      3\u001b[0m \u001b[0;32mfor\u001b[0m \u001b[0mfolder\u001b[0m \u001b[0;32min\u001b[0m \u001b[0mfolders_nf\u001b[0m\u001b[0;34m:\u001b[0m\u001b[0;34m\u001b[0m\u001b[0m\n\u001b[1;32m      4\u001b[0m     \u001b[0;32mprint\u001b[0m \u001b[0mfolder\u001b[0m\u001b[0;34m\u001b[0m\u001b[0m\n\u001b[0;32m----> 5\u001b[0;31m     \u001b[0muvxy\u001b[0m\u001b[0;34m.\u001b[0m\u001b[0mread_miriad\u001b[0m\u001b[0;34m(\u001b[0m\u001b[0mfolder\u001b[0m\u001b[0;34m)\u001b[0m\u001b[0;34m\u001b[0m\u001b[0m\n\u001b[0m\u001b[1;32m      6\u001b[0m     \u001b[0mblin_len\u001b[0m \u001b[0;34m=\u001b[0m \u001b[0mnp\u001b[0m\u001b[0;34m.\u001b[0m\u001b[0msqrt\u001b[0m\u001b[0;34m(\u001b[0m\u001b[0mnp\u001b[0m\u001b[0;34m.\u001b[0m\u001b[0mdiag\u001b[0m\u001b[0;34m(\u001b[0m\u001b[0mnp\u001b[0m\u001b[0;34m.\u001b[0m\u001b[0mdot\u001b[0m\u001b[0;34m(\u001b[0m\u001b[0muvxy\u001b[0m\u001b[0;34m.\u001b[0m\u001b[0muvw_array\u001b[0m\u001b[0;34m,\u001b[0m \u001b[0muvxy\u001b[0m\u001b[0;34m.\u001b[0m\u001b[0muvw_array\u001b[0m\u001b[0;34m.\u001b[0m\u001b[0mT\u001b[0m\u001b[0;34m)\u001b[0m\u001b[0;34m)\u001b[0m\u001b[0;34m)\u001b[0m\u001b[0;34m\u001b[0m\u001b[0m\n\u001b[1;32m      7\u001b[0m     \u001b[0mblins_inds\u001b[0m \u001b[0;34m=\u001b[0m \u001b[0mnp\u001b[0m\u001b[0;34m.\u001b[0m\u001b[0margsort\u001b[0m\u001b[0;34m(\u001b[0m\u001b[0mblin_len\u001b[0m\u001b[0;34m)\u001b[0m\u001b[0;34m\u001b[0m\u001b[0m\n",
      "\u001b[0;32m/home/tcox/src/anaconda2/envs/HERA/lib/python2.7/site-packages/pyuvdata-1.2.1-py2.7.egg/pyuvdata/uvdata.pyc\u001b[0m in \u001b[0;36mread_miriad\u001b[0;34m(self, filepath, correct_lat_lon, run_check, check_extra, run_check_acceptability, phase_type, antenna_nums, ant_str, ant_pairs_nums, polarizations, time_range)\u001b[0m\n\u001b[1;32m   1695\u001b[0m                                    \u001b[0mphase_type\u001b[0m\u001b[0;34m=\u001b[0m\u001b[0mphase_type\u001b[0m\u001b[0;34m,\u001b[0m \u001b[0mantenna_nums\u001b[0m\u001b[0;34m=\u001b[0m\u001b[0mantenna_nums\u001b[0m\u001b[0;34m,\u001b[0m\u001b[0;34m\u001b[0m\u001b[0m\n\u001b[1;32m   1696\u001b[0m                                    \u001b[0mant_str\u001b[0m\u001b[0;34m=\u001b[0m\u001b[0mant_str\u001b[0m\u001b[0;34m,\u001b[0m \u001b[0mant_pairs_nums\u001b[0m\u001b[0;34m=\u001b[0m\u001b[0mant_pairs_nums\u001b[0m\u001b[0;34m,\u001b[0m\u001b[0;34m\u001b[0m\u001b[0m\n\u001b[0;32m-> 1697\u001b[0;31m                                    polarizations=polarizations, time_range=time_range)\n\u001b[0m\u001b[1;32m   1698\u001b[0m             \u001b[0mself\u001b[0m\u001b[0;34m.\u001b[0m\u001b[0m_convert_from_filetype\u001b[0m\u001b[0;34m(\u001b[0m\u001b[0mmiriad_obj\u001b[0m\u001b[0;34m)\u001b[0m\u001b[0;34m\u001b[0m\u001b[0m\n\u001b[1;32m   1699\u001b[0m             \u001b[0;32mdel\u001b[0m\u001b[0;34m(\u001b[0m\u001b[0mmiriad_obj\u001b[0m\u001b[0;34m)\u001b[0m\u001b[0;34m\u001b[0m\u001b[0m\n",
      "\u001b[0;32m/home/tcox/src/anaconda2/envs/HERA/lib/python2.7/site-packages/pyuvdata-1.2.1-py2.7.egg/pyuvdata/miriad.pyc\u001b[0m in \u001b[0;36mread_miriad\u001b[0;34m(self, filepath, correct_lat_lon, run_check, check_extra, run_check_acceptability, phase_type, antenna_nums, ant_str, ant_pairs_nums, polarizations, time_range)\u001b[0m\n\u001b[1;32m    636\u001b[0m         \u001b[0;31m# axis of the visdata array\u001b[0m\u001b[0;34m\u001b[0m\u001b[0;34m\u001b[0m\u001b[0m\n\u001b[1;32m    637\u001b[0m \u001b[0;34m\u001b[0m\u001b[0m\n\u001b[0;32m--> 638\u001b[0;31m         \u001b[0mtij_grid\u001b[0m \u001b[0;34m=\u001b[0m \u001b[0mnp\u001b[0m\u001b[0;34m.\u001b[0m\u001b[0marray\u001b[0m\u001b[0;34m(\u001b[0m\u001b[0mmap\u001b[0m\u001b[0;34m(\u001b[0m\u001b[0;32mlambda\u001b[0m \u001b[0mx\u001b[0m\u001b[0;34m:\u001b[0m \u001b[0mmap\u001b[0m\u001b[0;34m(\u001b[0m\u001b[0mfloat\u001b[0m\u001b[0;34m,\u001b[0m \u001b[0mx\u001b[0m\u001b[0;34m.\u001b[0m\u001b[0msplit\u001b[0m\u001b[0;34m(\u001b[0m\u001b[0;34m\"_\"\u001b[0m\u001b[0;34m)\u001b[0m\u001b[0;34m)\u001b[0m\u001b[0;34m,\u001b[0m \u001b[0munique_blts\u001b[0m\u001b[0;34m)\u001b[0m\u001b[0;34m)\u001b[0m\u001b[0;34m\u001b[0m\u001b[0m\n\u001b[0m\u001b[1;32m    639\u001b[0m         \u001b[0mt_grid\u001b[0m\u001b[0;34m,\u001b[0m \u001b[0mant_i_grid\u001b[0m\u001b[0;34m,\u001b[0m \u001b[0mant_j_grid\u001b[0m \u001b[0;34m=\u001b[0m \u001b[0mtij_grid\u001b[0m\u001b[0;34m.\u001b[0m\u001b[0mT\u001b[0m\u001b[0;34m\u001b[0m\u001b[0m\n\u001b[1;32m    640\u001b[0m         \u001b[0;31m# set the data sizes\u001b[0m\u001b[0;34m\u001b[0m\u001b[0;34m\u001b[0m\u001b[0m\n",
      "\u001b[0;32m/home/tcox/src/anaconda2/envs/HERA/lib/python2.7/site-packages/pyuvdata-1.2.1-py2.7.egg/pyuvdata/miriad.pyc\u001b[0m in \u001b[0;36m<lambda>\u001b[0;34m(x)\u001b[0m\n\u001b[1;32m    636\u001b[0m         \u001b[0;31m# axis of the visdata array\u001b[0m\u001b[0;34m\u001b[0m\u001b[0;34m\u001b[0m\u001b[0m\n\u001b[1;32m    637\u001b[0m \u001b[0;34m\u001b[0m\u001b[0m\n\u001b[0;32m--> 638\u001b[0;31m         \u001b[0mtij_grid\u001b[0m \u001b[0;34m=\u001b[0m \u001b[0mnp\u001b[0m\u001b[0;34m.\u001b[0m\u001b[0marray\u001b[0m\u001b[0;34m(\u001b[0m\u001b[0mmap\u001b[0m\u001b[0;34m(\u001b[0m\u001b[0;32mlambda\u001b[0m \u001b[0mx\u001b[0m\u001b[0;34m:\u001b[0m \u001b[0mmap\u001b[0m\u001b[0;34m(\u001b[0m\u001b[0mfloat\u001b[0m\u001b[0;34m,\u001b[0m \u001b[0mx\u001b[0m\u001b[0;34m.\u001b[0m\u001b[0msplit\u001b[0m\u001b[0;34m(\u001b[0m\u001b[0;34m\"_\"\u001b[0m\u001b[0;34m)\u001b[0m\u001b[0;34m)\u001b[0m\u001b[0;34m,\u001b[0m \u001b[0munique_blts\u001b[0m\u001b[0;34m)\u001b[0m\u001b[0;34m)\u001b[0m\u001b[0;34m\u001b[0m\u001b[0m\n\u001b[0m\u001b[1;32m    639\u001b[0m         \u001b[0mt_grid\u001b[0m\u001b[0;34m,\u001b[0m \u001b[0mant_i_grid\u001b[0m\u001b[0;34m,\u001b[0m \u001b[0mant_j_grid\u001b[0m \u001b[0;34m=\u001b[0m \u001b[0mtij_grid\u001b[0m\u001b[0;34m.\u001b[0m\u001b[0mT\u001b[0m\u001b[0;34m\u001b[0m\u001b[0m\n\u001b[1;32m    640\u001b[0m         \u001b[0;31m# set the data sizes\u001b[0m\u001b[0;34m\u001b[0m\u001b[0;34m\u001b[0m\u001b[0m\n",
      "\u001b[0;31mKeyboardInterrupt\u001b[0m: "
     ]
    }
   ],
   "source": [
    "create_arr = True\n",
    "\n",
    "for folder in folders_nf:\n",
    "    print folder\n",
    "    uvxy.read_miriad(folder)\n",
    "    blin_len = np.sqrt(np.diag(np.dot(uvxy.uvw_array, uvxy.uvw_array.T)))\n",
    "    blins_inds = np.argsort(blin_len)\n",
    "    \n",
    "    if create_arr:\n",
    "        uvxy_delay_nf = np.fft.fft(uvxy.data_array,axis=2).squeeze()\n",
    "        uvxy_delay_nf = uvxy_delay_nf[blins_inds].T\n",
    "        create_arr = False\n",
    "    else:\n",
    "        wedge = np.fft.fft(uvxy.data_array,axis=2).squeeze()\n",
    "        uvxy_delay_nf += wedge[blins_inds].T\n",
    "        \n",
    "    freq_width = np.diff(uvxy.freq_array[0,:])[0]\n",
    "    delays_nf = np.fft.fftfreq(uvxy.Nfreqs,freq_width)*1e9\n",
    "    "
   ]
  },
  {
   "cell_type": "code",
   "execution_count": null,
   "metadata": {
    "collapsed": true
   },
   "outputs": [],
   "source": [
    "create_arr = True\n",
    "\n",
    "for folder in folders:\n",
    "    print folder\n",
    "    uvxy.read_miriad(folder)\n",
    "    blin_len = np.sqrt(np.diag(np.dot(uvxy.uvw_array, uvxy.uvw_array.T)))\n",
    "    blins_inds = np.argsort(blin_len)\n",
    "    \n",
    "    if create_arr:\n",
    "        uvxy_delay_nf = np.fft.fft(uvxy.data_array,axis=2).squeeze()\n",
    "        uvxy_delay_nf = uvxy_delay_nf[blins_inds].T\n",
    "        create_arr = False\n",
    "    else:\n",
    "        wedge = np.fft.fft(uvxy.data_array,axis=2).squeeze()\n",
    "        uvxy_delay_nf += wedge[blins_inds].T\n",
    "        \n",
    "    freq_width = np.diff(uvxy.freq_array[0,:])[0]\n",
    "    delays = np.fft.fftfreq(uvxy.Nfreqs,freq_width)*1e9"
   ]
  },
  {
   "cell_type": "code",
   "execution_count": null,
   "metadata": {
    "collapsed": true
   },
   "outputs": [],
   "source": [
    "uvxy_delay_fft_nf = np.abs(np.fft.fftshift(uvxy_delay,axes=0))"
   ]
  },
  {
   "cell_type": "code",
   "execution_count": null,
   "metadata": {},
   "outputs": [],
   "source": [
    "plt.figure(figsize=(8,6))\n",
    "\n",
    "plt.imshow(uvxy_delay_fft_nf[:512]**2,\n",
    "               aspect='auto',\n",
    "               norm=SymLogNorm(vmin=1e3,vmax=1e7,linthresh=.1),\n",
    "               extent=(blin_len.min(),blin_len.max(),delays.min(),delays.max()))\n",
    "plt.xlabel('Baseline index ordered by length (~m?)')\n",
    "plt.ylabel('Delay (ns)')\n",
    "plt.colorbar()"
   ]
  },
  {
   "cell_type": "code",
   "execution_count": null,
   "metadata": {},
   "outputs": [],
   "source": [
    "plt.figure(figsize=(8,6))\n",
    "\n",
    "plt.imshow(uvxy_delay_fft[:512]**2,\n",
    "               aspect='auto',\n",
    "               norm=SymLogNorm(vmin=1e3,vmax=1e7,linthresh=.1),\n",
    "               extent=(blin_len.min(),blin_len.max(),delays.min(),delays.max()))\n",
    "plt.xlabel('Baseline index ordered by length (~m?)')\n",
    "plt.ylabel('Delay (ns)')\n",
    "plt.colorbar()"
   ]
  },
  {
   "cell_type": "code",
   "execution_count": null,
   "metadata": {},
   "outputs": [],
   "source": [
    "plt.figure(figsize=(8,6))\n",
    "\n",
    "plt.imshow(uvxy_delay_fft_nf[:512]**2-uvxy_delay_fft[:512]**2,\n",
    "               aspect='auto',\n",
    "               norm=SymLogNorm(vmin=1e3,vmax=1e7,linthresh=.1),\n",
    "               extent=(blin_len.min(),blin_len.max(),delays.min(),delays.max()))\n",
    "plt.xlabel('Baseline index ordered by length (~m?)')\n",
    "plt.ylabel('Delay (ns)')\n",
    "plt.colorbar()"
   ]
  },
  {
   "cell_type": "code",
   "execution_count": 35,
   "metadata": {},
   "outputs": [
    {
     "data": {
      "text/plain": [
       "2704"
      ]
     },
     "execution_count": 35,
     "metadata": {},
     "output_type": "execute_result"
    }
   ],
   "source": [
    "(np.unique(uvxy.ant_1_array).shape[0]*np.unique(uvxy.ant_2_array).shape[0])"
   ]
  },
  {
   "cell_type": "code",
   "execution_count": 30,
   "metadata": {},
   "outputs": [
    {
     "data": {
      "text/plain": [
       "82680"
      ]
     },
     "execution_count": 30,
     "metadata": {},
     "output_type": "execute_result"
    }
   ],
   "source": [
    "uvxy.Nbls*60"
   ]
  }
 ],
 "metadata": {
  "kernelspec": {
   "display_name": "Python 2",
   "language": "python",
   "name": "python2"
  },
  "language_info": {
   "codemirror_mode": {
    "name": "ipython",
    "version": 2
   },
   "file_extension": ".py",
   "mimetype": "text/x-python",
   "name": "python",
   "nbconvert_exporter": "python",
   "pygments_lexer": "ipython2",
   "version": "2.7.15"
  }
 },
 "nbformat": 4,
 "nbformat_minor": 2
}
