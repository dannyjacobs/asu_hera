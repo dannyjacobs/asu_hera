{
 "cells": [
  {
   "cell_type": "code",
   "execution_count": 2,
   "metadata": {},
   "outputs": [
    {
     "data": {
      "text/latex": [
       "$3^\\mathrm{h}11^\\mathrm{m}30.8712^\\mathrm{s}$"
      ],
      "text/plain": [
       "<Longitude 3.191908660253994 hourangle>"
      ]
     },
     "execution_count": 2,
     "metadata": {},
     "output_type": "execute_result"
    }
   ],
   "source": [
    "#Quick notebook to do a couple of things\n",
    "from astropy.time import Time\n",
    "import matplotlib as np\n",
    "\n",
    "JD_0=2458099.34921\n",
    "\n",
    "date0=Time(JD_0, format='jd', scale='utc')\n",
    "\n",
    "date0.sidereal_time('apparent','21d25m39.0s')\n"
   ]
  },
  {
   "cell_type": "code",
   "execution_count": 3,
   "metadata": {},
   "outputs": [
    {
     "name": "stdout",
     "output_type": "stream",
     "text": [
      "2458042.50485\n"
     ]
    },
    {
     "data": {
      "text/latex": [
       "$3^\\mathrm{h}11^\\mathrm{m}31.0339^\\mathrm{s}$"
      ],
      "text/plain": [
       "<Longitude 3.1919538508074234 hourangle>"
      ]
     },
     "execution_count": 3,
     "metadata": {},
     "output_type": "execute_result"
    }
   ],
   "source": [
    "#find associate JD date from 2458042 measurement, 56 days earlier\n",
    "JD_1=JD_0-(57*0.99726955) #original date minus 56 julian days,\n",
    "print(JD_1)\n",
    "date1=Time(JD_1, format='jd',scale='utc')\n",
    "date1.sidereal_time('apparent','21d25m39.0s')"
   ]
  },
  {
   "cell_type": "code",
   "execution_count": 5,
   "metadata": {},
   "outputs": [
    {
     "data": {
      "text/latex": [
       "$5^\\mathrm{h}17^\\mathrm{m}50.7708^\\mathrm{s}$"
      ],
      "text/plain": [
       "<Longitude 5.297436338798217 hourangle>"
      ]
     },
     "execution_count": 5,
     "metadata": {},
     "output_type": "execute_result"
    }
   ],
   "source": [
    "JD_2=2458101.43124\n",
    "date2=Time(JD_2, format='jd',scale='utc')\n",
    "date2.sidereal_time('apparent','21d25m39.0s')"
   ]
  },
  {
   "cell_type": "code",
   "execution_count": 6,
   "metadata": {},
   "outputs": [
    {
     "name": "stdout",
     "output_type": "stream",
     "text": [
      "2458042.59234\n"
     ]
    },
    {
     "data": {
      "text/latex": [
       "$5^\\mathrm{h}17^\\mathrm{m}50.9434^\\mathrm{s}$"
      ],
      "text/plain": [
       "<Longitude 5.297484280889351 hourangle>"
      ]
     },
     "execution_count": 6,
     "metadata": {},
     "output_type": "execute_result"
    }
   ],
   "source": [
    "#find associated JD date from 2458042 measurement, \n",
    "JD_3=JD_2-(59*0.99726955) #original date minus 58 julian days,\n",
    "print(JD_3)\n",
    "date1=Time(JD_3, format='jd',scale='utc')\n",
    "date1.sidereal_time('apparent','21d25m39.0s')"
   ]
  },
  {
   "cell_type": "code",
   "execution_count": null,
   "metadata": {
    "collapsed": true
   },
   "outputs": [],
   "source": []
  }
 ],
 "metadata": {
  "kernelspec": {
   "display_name": "Python 2",
   "language": "python",
   "name": "python2"
  },
  "language_info": {
   "codemirror_mode": {
    "name": "ipython",
    "version": 2
   },
   "file_extension": ".py",
   "mimetype": "text/x-python",
   "name": "python",
   "nbconvert_exporter": "python",
   "pygments_lexer": "ipython2",
   "version": "2.7.13"
  }
 },
 "nbformat": 4,
 "nbformat_minor": 2
}
