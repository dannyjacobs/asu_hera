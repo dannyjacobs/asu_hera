{
 "cells": [
  {
   "cell_type": "markdown",
   "metadata": {},
   "source": [
    "## David Lewis - Calibrating Observations for RFI Search\n",
    "<p>From the previous notebook findSun, we have a list of valid observations (valid meaning that the sun is below the horizon and eliminated as a possible source of RFI). To continue, the appropriate observations must first be calibrated in preparation for imaging in CASA. This notebook is intended to keep track of the procedure and commands."
   ]
  },
  {
   "cell_type": "code",
   "execution_count": 3,
   "metadata": {
    "collapsed": true
   },
   "outputs": [],
   "source": [
    "#Packages\n",
    "from astropy.time import Time\n",
    "from astropy import coordinates as coord\n",
    "from glob import glob\n",
    "import hera_cal\n",
    "from hera_cal import apply_cal as ac\n",
    "from hera_qm import xrfi as xrfi\n",
    "import itertools\n",
    "import matplotlib.pyplot as plt\n",
    "from matplotlib.colors import SymLogNorm\n",
    "import numpy as np\n",
    "import numpy.ma as ma\n",
    "from numpy import ndarray\n",
    "import os\n",
    "from pyuvdata import UVData\n",
    "import sys\n",
    "\n",
    "#set notebook to print entire table\n",
    "np.set_printoptions(threshold='nan')"
   ]
  },
  {
   "cell_type": "markdown",
   "metadata": {},
   "source": [
    "So here's the plan:<br />\n",
    "-Use a hera_cal script to apply calibration files from 2458042 to .uv files from 2458140.<br />\n",
    "-Use pyuvdata to convert to uvfits.<br />\n",
    "-Run an imaging script in CASA and image it appropriately(in this case, extend it past the horizon)<br />\n",
    "-RFI?<br />\n",
    "-Profit<br />\n",
    "\n",
    "<p>The .calfit file we are using is from 2458140.31206, which is a portion of the night where the observation is somewhat tamer than the rest."
   ]
  },
  {
   "cell_type": "code",
   "execution_count": 4,
   "metadata": {
    "collapsed": true
   },
   "outputs": [],
   "source": [
    "#calfile='/data6/HERA/data/2458140/zen.2458140.31206.xx.HH.uv.first.calfits'\n",
    "calfile='/data6/HERA/data/2458140/zen.2458140.45373.xx.HH.uv.first.calfits'"
   ]
  },
  {
   "cell_type": "code",
   "execution_count": null,
   "metadata": {
    "collapsed": true
   },
   "outputs": [],
   "source": []
  },
  {
   "cell_type": "code",
   "execution_count": 5,
   "metadata": {
    "collapsed": true
   },
   "outputs": [],
   "source": [
    "uv=UVData()\n",
    "file_list=glob('/data6/HERA/data/2458140/*.uv')\n",
    "#file_list=['../zen.2458140.66252.xx.HH.uv']\n",
    "file_list.sort()\n",
    "file_names=[file[3:] for file in file_list]\n",
    "#file_out=['/data6/HERA/data/2458140/dml_uv_files/'+file+'c' for file in file_names]\n",
    "file_out=['/data6/HERA/data/2458140/dml_uv_files2/'+file+'c' for file in file_names] #second run with different cal file\n",
    "file_names2=[file+'c' for file in file_names]\n",
    "#print(file_list)\n",
    "#print(file_names)\n",
    "#print(file_out)"
   ]
  },
  {
   "cell_type": "code",
   "execution_count": 6,
   "metadata": {},
   "outputs": [
    {
     "name": "stdout",
     "output_type": "stream",
     "text": [
      "['../zen.2458140.12564.xx.HH.uv', '../zen.2458140.13310.xx.HH.uv', '../zen.2458140.14056.xx.HH.uv', '../zen.2458140.14801.xx.HH.uv', '../zen.2458140.15547.xx.HH.uv', '../zen.2458140.16293.xx.HH.uv', '../zen.2458140.17038.xx.HH.uv', '../zen.2458140.17784.xx.HH.uv', '../zen.2458140.18530.xx.HH.uv', '../zen.2458140.19275.xx.HH.uv', '../zen.2458140.20021.xx.HH.uv', '../zen.2458140.20767.xx.HH.uv', '../zen.2458140.21512.xx.HH.uv', '../zen.2458140.22258.xx.HH.uv', '../zen.2458140.23004.xx.HH.uv', '../zen.2458140.23749.xx.HH.uv', '../zen.2458140.24495.xx.HH.uv', '../zen.2458140.25241.xx.HH.uv', '../zen.2458140.25986.xx.HH.uv', '../zen.2458140.26732.xx.HH.uv', '../zen.2458140.27478.xx.HH.uv', '../zen.2458140.28223.xx.HH.uv', '../zen.2458140.28969.xx.HH.uv', '../zen.2458140.29715.xx.HH.uv', '../zen.2458140.30460.xx.HH.uv', '../zen.2458140.31206.xx.HH.uv', '../zen.2458140.31951.xx.HH.uv', '../zen.2458140.32697.xx.HH.uv', '../zen.2458140.33443.xx.HH.uv', '../zen.2458140.34188.xx.HH.uv', '../zen.2458140.34934.xx.HH.uv', '../zen.2458140.35680.xx.HH.uv', '../zen.2458140.36425.xx.HH.uv', '../zen.2458140.37171.xx.HH.uv', '../zen.2458140.37917.xx.HH.uv', '../zen.2458140.38662.xx.HH.uv', '../zen.2458140.39408.xx.HH.uv', '../zen.2458140.40154.xx.HH.uv', '../zen.2458140.40899.xx.HH.uv', '../zen.2458140.41645.xx.HH.uv', '../zen.2458140.42391.xx.HH.uv', '../zen.2458140.43136.xx.HH.uv', '../zen.2458140.43882.xx.HH.uv', '../zen.2458140.44628.xx.HH.uv', '../zen.2458140.45373.xx.HH.uv', '../zen.2458140.46119.xx.HH.uv', '../zen.2458140.46865.xx.HH.uv', '../zen.2458140.47610.xx.HH.uv', '../zen.2458140.48356.xx.HH.uv', '../zen.2458140.49102.xx.HH.uv', '../zen.2458140.49847.xx.HH.uv', '../zen.2458140.50593.xx.HH.uv', '../zen.2458140.51338.xx.HH.uv', '../zen.2458140.52084.xx.HH.uv', '../zen.2458140.52830.xx.HH.uv', '../zen.2458140.53575.xx.HH.uv', '../zen.2458140.54321.xx.HH.uv', '../zen.2458140.55067.xx.HH.uv', '../zen.2458140.55812.xx.HH.uv', '../zen.2458140.56558.xx.HH.uv', '../zen.2458140.57304.xx.HH.uv', '../zen.2458140.58049.xx.HH.uv', '../zen.2458140.58795.xx.HH.uv', '../zen.2458140.59541.xx.HH.uv', '../zen.2458140.60286.xx.HH.uv', '../zen.2458140.61032.xx.HH.uv', '../zen.2458140.61778.xx.HH.uv', '../zen.2458140.62523.xx.HH.uv', '../zen.2458140.63269.xx.HH.uv', '../zen.2458140.64015.xx.HH.uv', '../zen.2458140.64760.xx.HH.uv', '../zen.2458140.65506.xx.HH.uv', '../zen.2458140.66252.xx.HH.uv']\n",
      "['zen.2458140.12564.xx.HH.uv', 'zen.2458140.13310.xx.HH.uv', 'zen.2458140.14056.xx.HH.uv', 'zen.2458140.14801.xx.HH.uv', 'zen.2458140.15547.xx.HH.uv', 'zen.2458140.16293.xx.HH.uv', 'zen.2458140.17038.xx.HH.uv', 'zen.2458140.17784.xx.HH.uv', 'zen.2458140.18530.xx.HH.uv', 'zen.2458140.19275.xx.HH.uv', 'zen.2458140.20021.xx.HH.uv', 'zen.2458140.20767.xx.HH.uv', 'zen.2458140.21512.xx.HH.uv', 'zen.2458140.22258.xx.HH.uv', 'zen.2458140.23004.xx.HH.uv', 'zen.2458140.23749.xx.HH.uv', 'zen.2458140.24495.xx.HH.uv', 'zen.2458140.25241.xx.HH.uv', 'zen.2458140.25986.xx.HH.uv', 'zen.2458140.26732.xx.HH.uv', 'zen.2458140.27478.xx.HH.uv', 'zen.2458140.28223.xx.HH.uv', 'zen.2458140.28969.xx.HH.uv', 'zen.2458140.29715.xx.HH.uv', 'zen.2458140.30460.xx.HH.uv', 'zen.2458140.31206.xx.HH.uv', 'zen.2458140.31951.xx.HH.uv', 'zen.2458140.32697.xx.HH.uv', 'zen.2458140.33443.xx.HH.uv', 'zen.2458140.34188.xx.HH.uv', 'zen.2458140.34934.xx.HH.uv', 'zen.2458140.35680.xx.HH.uv', 'zen.2458140.36425.xx.HH.uv', 'zen.2458140.37171.xx.HH.uv', 'zen.2458140.37917.xx.HH.uv', 'zen.2458140.38662.xx.HH.uv', 'zen.2458140.39408.xx.HH.uv', 'zen.2458140.40154.xx.HH.uv', 'zen.2458140.40899.xx.HH.uv', 'zen.2458140.41645.xx.HH.uv', 'zen.2458140.42391.xx.HH.uv', 'zen.2458140.43136.xx.HH.uv', 'zen.2458140.43882.xx.HH.uv', 'zen.2458140.44628.xx.HH.uv', 'zen.2458140.45373.xx.HH.uv', 'zen.2458140.46119.xx.HH.uv', 'zen.2458140.46865.xx.HH.uv', 'zen.2458140.47610.xx.HH.uv', 'zen.2458140.48356.xx.HH.uv', 'zen.2458140.49102.xx.HH.uv', 'zen.2458140.49847.xx.HH.uv', 'zen.2458140.50593.xx.HH.uv', 'zen.2458140.51338.xx.HH.uv', 'zen.2458140.52084.xx.HH.uv', 'zen.2458140.52830.xx.HH.uv', 'zen.2458140.53575.xx.HH.uv', 'zen.2458140.54321.xx.HH.uv', 'zen.2458140.55067.xx.HH.uv', 'zen.2458140.55812.xx.HH.uv', 'zen.2458140.56558.xx.HH.uv', 'zen.2458140.57304.xx.HH.uv', 'zen.2458140.58049.xx.HH.uv', 'zen.2458140.58795.xx.HH.uv', 'zen.2458140.59541.xx.HH.uv', 'zen.2458140.60286.xx.HH.uv', 'zen.2458140.61032.xx.HH.uv', 'zen.2458140.61778.xx.HH.uv', 'zen.2458140.62523.xx.HH.uv', 'zen.2458140.63269.xx.HH.uv', 'zen.2458140.64015.xx.HH.uv', 'zen.2458140.64760.xx.HH.uv', 'zen.2458140.65506.xx.HH.uv', 'zen.2458140.66252.xx.HH.uv']\n",
      "['../dml_uv_files2/zen.2458140.12564.xx.HH.uvc', '../dml_uv_files2/zen.2458140.13310.xx.HH.uvc', '../dml_uv_files2/zen.2458140.14056.xx.HH.uvc', '../dml_uv_files2/zen.2458140.14801.xx.HH.uvc', '../dml_uv_files2/zen.2458140.15547.xx.HH.uvc', '../dml_uv_files2/zen.2458140.16293.xx.HH.uvc', '../dml_uv_files2/zen.2458140.17038.xx.HH.uvc', '../dml_uv_files2/zen.2458140.17784.xx.HH.uvc', '../dml_uv_files2/zen.2458140.18530.xx.HH.uvc', '../dml_uv_files2/zen.2458140.19275.xx.HH.uvc', '../dml_uv_files2/zen.2458140.20021.xx.HH.uvc', '../dml_uv_files2/zen.2458140.20767.xx.HH.uvc', '../dml_uv_files2/zen.2458140.21512.xx.HH.uvc', '../dml_uv_files2/zen.2458140.22258.xx.HH.uvc', '../dml_uv_files2/zen.2458140.23004.xx.HH.uvc', '../dml_uv_files2/zen.2458140.23749.xx.HH.uvc', '../dml_uv_files2/zen.2458140.24495.xx.HH.uvc', '../dml_uv_files2/zen.2458140.25241.xx.HH.uvc', '../dml_uv_files2/zen.2458140.25986.xx.HH.uvc', '../dml_uv_files2/zen.2458140.26732.xx.HH.uvc', '../dml_uv_files2/zen.2458140.27478.xx.HH.uvc', '../dml_uv_files2/zen.2458140.28223.xx.HH.uvc', '../dml_uv_files2/zen.2458140.28969.xx.HH.uvc', '../dml_uv_files2/zen.2458140.29715.xx.HH.uvc', '../dml_uv_files2/zen.2458140.30460.xx.HH.uvc', '../dml_uv_files2/zen.2458140.31206.xx.HH.uvc', '../dml_uv_files2/zen.2458140.31951.xx.HH.uvc', '../dml_uv_files2/zen.2458140.32697.xx.HH.uvc', '../dml_uv_files2/zen.2458140.33443.xx.HH.uvc', '../dml_uv_files2/zen.2458140.34188.xx.HH.uvc', '../dml_uv_files2/zen.2458140.34934.xx.HH.uvc', '../dml_uv_files2/zen.2458140.35680.xx.HH.uvc', '../dml_uv_files2/zen.2458140.36425.xx.HH.uvc', '../dml_uv_files2/zen.2458140.37171.xx.HH.uvc', '../dml_uv_files2/zen.2458140.37917.xx.HH.uvc', '../dml_uv_files2/zen.2458140.38662.xx.HH.uvc', '../dml_uv_files2/zen.2458140.39408.xx.HH.uvc', '../dml_uv_files2/zen.2458140.40154.xx.HH.uvc', '../dml_uv_files2/zen.2458140.40899.xx.HH.uvc', '../dml_uv_files2/zen.2458140.41645.xx.HH.uvc', '../dml_uv_files2/zen.2458140.42391.xx.HH.uvc', '../dml_uv_files2/zen.2458140.43136.xx.HH.uvc', '../dml_uv_files2/zen.2458140.43882.xx.HH.uvc', '../dml_uv_files2/zen.2458140.44628.xx.HH.uvc', '../dml_uv_files2/zen.2458140.45373.xx.HH.uvc', '../dml_uv_files2/zen.2458140.46119.xx.HH.uvc', '../dml_uv_files2/zen.2458140.46865.xx.HH.uvc', '../dml_uv_files2/zen.2458140.47610.xx.HH.uvc', '../dml_uv_files2/zen.2458140.48356.xx.HH.uvc', '../dml_uv_files2/zen.2458140.49102.xx.HH.uvc', '../dml_uv_files2/zen.2458140.49847.xx.HH.uvc', '../dml_uv_files2/zen.2458140.50593.xx.HH.uvc', '../dml_uv_files2/zen.2458140.51338.xx.HH.uvc', '../dml_uv_files2/zen.2458140.52084.xx.HH.uvc', '../dml_uv_files2/zen.2458140.52830.xx.HH.uvc', '../dml_uv_files2/zen.2458140.53575.xx.HH.uvc', '../dml_uv_files2/zen.2458140.54321.xx.HH.uvc', '../dml_uv_files2/zen.2458140.55067.xx.HH.uvc', '../dml_uv_files2/zen.2458140.55812.xx.HH.uvc', '../dml_uv_files2/zen.2458140.56558.xx.HH.uvc', '../dml_uv_files2/zen.2458140.57304.xx.HH.uvc', '../dml_uv_files2/zen.2458140.58049.xx.HH.uvc', '../dml_uv_files2/zen.2458140.58795.xx.HH.uvc', '../dml_uv_files2/zen.2458140.59541.xx.HH.uvc', '../dml_uv_files2/zen.2458140.60286.xx.HH.uvc', '../dml_uv_files2/zen.2458140.61032.xx.HH.uvc', '../dml_uv_files2/zen.2458140.61778.xx.HH.uvc', '../dml_uv_files2/zen.2458140.62523.xx.HH.uvc', '../dml_uv_files2/zen.2458140.63269.xx.HH.uvc', '../dml_uv_files2/zen.2458140.64015.xx.HH.uvc', '../dml_uv_files2/zen.2458140.64760.xx.HH.uvc', '../dml_uv_files2/zen.2458140.65506.xx.HH.uvc', '../dml_uv_files2/zen.2458140.66252.xx.HH.uvc']\n"
     ]
    }
   ],
   "source": [
    "print(file_list)\n",
    "print(file_names)\n",
    "print(file_out)"
   ]
  },
  {
   "cell_type": "code",
   "execution_count": 7,
   "metadata": {
    "scrolled": true
   },
   "outputs": [
    {
     "name": "stdout",
     "output_type": "stream",
     "text": [
      "Calibrating zen.2458140.12564.xx.HH.uv...\n"
     ]
    },
    {
     "name": "stderr",
     "output_type": "stream",
     "text": [
      "../zen.2458140.45373.xx.HH.uv.first.calfits appears to be an old calfits format which has been depricated. Rewrite this file with write_calfits to ensure future compatibility.\n"
     ]
    },
    {
     "name": "stdout",
     "output_type": "stream",
     "text": [
      "Accessing zen.2458140.12564.xx.HH.uvc...\n",
      "Phasing...\n",
      "Writing...\n",
      "Calibrating zen.2458140.13310.xx.HH.uv...\n",
      "Accessing zen.2458140.13310.xx.HH.uvc...\n",
      "Phasing...\n",
      "Writing...\n",
      "Calibrating zen.2458140.14056.xx.HH.uv...\n"
     ]
    },
    {
     "ename": "KeyboardInterrupt",
     "evalue": "",
     "output_type": "error",
     "traceback": [
      "\u001b[0;31m---------------------------------------------------------------------------\u001b[0m",
      "\u001b[0;31mKeyboardInterrupt\u001b[0m                         Traceback (most recent call last)",
      "\u001b[0;32m<ipython-input-7-d4a5d6020836>\u001b[0m in \u001b[0;36m<module>\u001b[0;34m()\u001b[0m\n\u001b[1;32m      2\u001b[0m     \u001b[0;31m#calibrate\u001b[0m\u001b[0;34m\u001b[0m\u001b[0;34m\u001b[0m\u001b[0m\n\u001b[1;32m      3\u001b[0m     \u001b[0;32mprint\u001b[0m\u001b[0;34m(\u001b[0m\u001b[0;34m'Calibrating '\u001b[0m\u001b[0;34m+\u001b[0m\u001b[0mfile_names\u001b[0m\u001b[0;34m[\u001b[0m\u001b[0mi\u001b[0m\u001b[0;34m]\u001b[0m\u001b[0;34m+\u001b[0m\u001b[0;34m'...'\u001b[0m\u001b[0;34m)\u001b[0m\u001b[0;34m\u001b[0m\u001b[0m\n\u001b[0;32m----> 4\u001b[0;31m     \u001b[0mac\u001b[0m\u001b[0;34m.\u001b[0m\u001b[0mapply_cal\u001b[0m\u001b[0;34m(\u001b[0m\u001b[0mfile_list\u001b[0m\u001b[0;34m[\u001b[0m\u001b[0mi\u001b[0m\u001b[0;34m]\u001b[0m\u001b[0;34m,\u001b[0m\u001b[0mfile_out\u001b[0m\u001b[0;34m[\u001b[0m\u001b[0mi\u001b[0m\u001b[0;34m]\u001b[0m\u001b[0;34m,\u001b[0m\u001b[0mcalfile\u001b[0m\u001b[0;34m)\u001b[0m\u001b[0;34m\u001b[0m\u001b[0m\n\u001b[0m\u001b[1;32m      5\u001b[0m     \u001b[0;31m#read\u001b[0m\u001b[0;34m\u001b[0m\u001b[0;34m\u001b[0m\u001b[0m\n\u001b[1;32m      6\u001b[0m     \u001b[0;32mprint\u001b[0m\u001b[0;34m(\u001b[0m\u001b[0;34m'Accessing '\u001b[0m \u001b[0;34m+\u001b[0m\u001b[0mfile_names2\u001b[0m\u001b[0;34m[\u001b[0m\u001b[0mi\u001b[0m\u001b[0;34m]\u001b[0m\u001b[0;34m+\u001b[0m\u001b[0;34m'...'\u001b[0m\u001b[0;34m)\u001b[0m\u001b[0;34m\u001b[0m\u001b[0m\n",
      "\u001b[0;32m/home/dmlewis/src/anaconda/envs/HERA/lib/python2.7/site-packages/hera_cal-1.0-py2.7.egg/hera_cal/apply_cal.pyc\u001b[0m in \u001b[0;36mapply_cal\u001b[0;34m(data_infilename, data_outfilename, new_calibration, old_calibration, flags_npz, flag_nchan_low, flag_nchan_high, filetype, gain_convention, add_to_history, clobber, **kwargs)\u001b[0m\n\u001b[1;32m    134\u001b[0m     \u001b[0mrecalibrate_in_place\u001b[0m\u001b[0;34m(\u001b[0m\u001b[0mdata\u001b[0m\u001b[0;34m,\u001b[0m \u001b[0mdata_flags\u001b[0m\u001b[0;34m,\u001b[0m \u001b[0mnew_gains\u001b[0m\u001b[0;34m,\u001b[0m \u001b[0mnew_flags\u001b[0m\u001b[0;34m,\u001b[0m \u001b[0mold_gains\u001b[0m\u001b[0;34m=\u001b[0m\u001b[0mold_calibration\u001b[0m\u001b[0;34m,\u001b[0m \u001b[0mgain_convention\u001b[0m\u001b[0;34m=\u001b[0m\u001b[0mgain_convention\u001b[0m\u001b[0;34m)\u001b[0m\u001b[0;34m\u001b[0m\u001b[0m\n\u001b[1;32m    135\u001b[0m     io.update_vis(data_infilename, data_outfilename, filetype_in=filetype, filetype_out=filetype, data=data, \n\u001b[0;32m--> 136\u001b[0;31m                   flags=data_flags, add_to_history=add_to_history, clobber=clobber, **kwargs)\n\u001b[0m\u001b[1;32m    137\u001b[0m \u001b[0;34m\u001b[0m\u001b[0m\n\u001b[1;32m    138\u001b[0m \u001b[0;34m\u001b[0m\u001b[0m\n",
      "\u001b[0;32m/home/dmlewis/src/anaconda/envs/HERA/lib/python2.7/site-packages/hera_cal-1.0-py2.7.egg/hera_cal/io.pyc\u001b[0m in \u001b[0;36mupdate_vis\u001b[0;34m(infilename, outfilename, filetype_in, filetype_out, data, flags, add_to_history, clobber, **kwargs)\u001b[0m\n\u001b[1;32m    363\u001b[0m         \u001b[0muvd\u001b[0m \u001b[0;34m=\u001b[0m \u001b[0mUVData\u001b[0m\u001b[0;34m(\u001b[0m\u001b[0;34m)\u001b[0m\u001b[0;34m\u001b[0m\u001b[0m\n\u001b[1;32m    364\u001b[0m         \u001b[0;32mif\u001b[0m \u001b[0mfiletype_in\u001b[0m \u001b[0;34m==\u001b[0m \u001b[0;34m'miriad'\u001b[0m\u001b[0;34m:\u001b[0m\u001b[0;34m\u001b[0m\u001b[0m\n\u001b[0;32m--> 365\u001b[0;31m             \u001b[0muvd\u001b[0m\u001b[0;34m.\u001b[0m\u001b[0mread_miriad\u001b[0m\u001b[0;34m(\u001b[0m\u001b[0minfilename\u001b[0m\u001b[0;34m)\u001b[0m\u001b[0;34m\u001b[0m\u001b[0m\n\u001b[0m\u001b[1;32m    366\u001b[0m         \u001b[0;32melif\u001b[0m \u001b[0mfiletype_in\u001b[0m \u001b[0;34m==\u001b[0m \u001b[0;34m'uvfits'\u001b[0m\u001b[0;34m:\u001b[0m\u001b[0;34m\u001b[0m\u001b[0m\n\u001b[1;32m    367\u001b[0m             \u001b[0;31m# TODO: implement this\u001b[0m\u001b[0;34m\u001b[0m\u001b[0;34m\u001b[0m\u001b[0m\n",
      "\u001b[0;32m/home/dmlewis/src/anaconda/envs/HERA/lib/python2.7/site-packages/pyuvdata-1.2.1-py2.7.egg/pyuvdata/uvdata.pyc\u001b[0m in \u001b[0;36mread_miriad\u001b[0;34m(self, filepath, correct_lat_lon, run_check, check_extra, run_check_acceptability, phase_type, antenna_nums, ant_str, ant_pairs_nums, polarizations, time_range)\u001b[0m\n\u001b[1;32m   1695\u001b[0m                                    \u001b[0mphase_type\u001b[0m\u001b[0;34m=\u001b[0m\u001b[0mphase_type\u001b[0m\u001b[0;34m,\u001b[0m \u001b[0mantenna_nums\u001b[0m\u001b[0;34m=\u001b[0m\u001b[0mantenna_nums\u001b[0m\u001b[0;34m,\u001b[0m\u001b[0;34m\u001b[0m\u001b[0m\n\u001b[1;32m   1696\u001b[0m                                    \u001b[0mant_str\u001b[0m\u001b[0;34m=\u001b[0m\u001b[0mant_str\u001b[0m\u001b[0;34m,\u001b[0m \u001b[0mant_pairs_nums\u001b[0m\u001b[0;34m=\u001b[0m\u001b[0mant_pairs_nums\u001b[0m\u001b[0;34m,\u001b[0m\u001b[0;34m\u001b[0m\u001b[0m\n\u001b[0;32m-> 1697\u001b[0;31m                                    polarizations=polarizations, time_range=time_range)\n\u001b[0m\u001b[1;32m   1698\u001b[0m             \u001b[0mself\u001b[0m\u001b[0;34m.\u001b[0m\u001b[0m_convert_from_filetype\u001b[0m\u001b[0;34m(\u001b[0m\u001b[0mmiriad_obj\u001b[0m\u001b[0;34m)\u001b[0m\u001b[0;34m\u001b[0m\u001b[0m\n\u001b[1;32m   1699\u001b[0m             \u001b[0;32mdel\u001b[0m\u001b[0;34m(\u001b[0m\u001b[0mmiriad_obj\u001b[0m\u001b[0;34m)\u001b[0m\u001b[0;34m\u001b[0m\u001b[0m\n",
      "\u001b[0;32m/home/dmlewis/src/anaconda/envs/HERA/lib/python2.7/site-packages/pyuvdata-1.2.1-py2.7.egg/pyuvdata/miriad.pyc\u001b[0m in \u001b[0;36mread_miriad\u001b[0;34m(self, filepath, correct_lat_lon, run_check, check_extra, run_check_acceptability, phase_type, antenna_nums, ant_str, ant_pairs_nums, polarizations, time_range)\u001b[0m\n\u001b[1;32m    322\u001b[0m                 \u001b[0;32melse\u001b[0m\u001b[0;34m:\u001b[0m\u001b[0;34m\u001b[0m\u001b[0m\n\u001b[1;32m    323\u001b[0m                     if not np.allclose(uv[extra_variable],\n\u001b[0;32m--> 324\u001b[0;31m                                        check_variables[extra_variable]):\n\u001b[0m\u001b[1;32m    325\u001b[0m                         \u001b[0mcheck_variables\u001b[0m\u001b[0;34m.\u001b[0m\u001b[0mpop\u001b[0m\u001b[0;34m(\u001b[0m\u001b[0mextra_variable\u001b[0m\u001b[0;34m)\u001b[0m\u001b[0;34m\u001b[0m\u001b[0m\n\u001b[1;32m    326\u001b[0m \u001b[0;34m\u001b[0m\u001b[0m\n",
      "\u001b[0;32m/home/dmlewis/src/anaconda/envs/HERA/lib/python2.7/site-packages/numpy/core/numeric.pyc\u001b[0m in \u001b[0;36mallclose\u001b[0;34m(a, b, rtol, atol, equal_nan)\u001b[0m\n\u001b[1;32m   2457\u001b[0m \u001b[0;34m\u001b[0m\u001b[0m\n\u001b[1;32m   2458\u001b[0m     \"\"\"\n\u001b[0;32m-> 2459\u001b[0;31m     \u001b[0mres\u001b[0m \u001b[0;34m=\u001b[0m \u001b[0mall\u001b[0m\u001b[0;34m(\u001b[0m\u001b[0misclose\u001b[0m\u001b[0;34m(\u001b[0m\u001b[0ma\u001b[0m\u001b[0;34m,\u001b[0m \u001b[0mb\u001b[0m\u001b[0;34m,\u001b[0m \u001b[0mrtol\u001b[0m\u001b[0;34m=\u001b[0m\u001b[0mrtol\u001b[0m\u001b[0;34m,\u001b[0m \u001b[0matol\u001b[0m\u001b[0;34m=\u001b[0m\u001b[0matol\u001b[0m\u001b[0;34m,\u001b[0m \u001b[0mequal_nan\u001b[0m\u001b[0;34m=\u001b[0m\u001b[0mequal_nan\u001b[0m\u001b[0;34m)\u001b[0m\u001b[0;34m)\u001b[0m\u001b[0;34m\u001b[0m\u001b[0m\n\u001b[0m\u001b[1;32m   2460\u001b[0m     \u001b[0;32mreturn\u001b[0m \u001b[0mbool\u001b[0m\u001b[0;34m(\u001b[0m\u001b[0mres\u001b[0m\u001b[0;34m)\u001b[0m\u001b[0;34m\u001b[0m\u001b[0m\n\u001b[1;32m   2461\u001b[0m \u001b[0;34m\u001b[0m\u001b[0m\n",
      "\u001b[0;32m/home/dmlewis/src/anaconda/envs/HERA/lib/python2.7/site-packages/numpy/core/numeric.pyc\u001b[0m in \u001b[0;36misclose\u001b[0;34m(a, b, rtol, atol, equal_nan)\u001b[0m\n\u001b[1;32m   2538\u001b[0m     \u001b[0mxfin\u001b[0m \u001b[0;34m=\u001b[0m \u001b[0misfinite\u001b[0m\u001b[0;34m(\u001b[0m\u001b[0mx\u001b[0m\u001b[0;34m)\u001b[0m\u001b[0;34m\u001b[0m\u001b[0m\n\u001b[1;32m   2539\u001b[0m     \u001b[0myfin\u001b[0m \u001b[0;34m=\u001b[0m \u001b[0misfinite\u001b[0m\u001b[0;34m(\u001b[0m\u001b[0my\u001b[0m\u001b[0;34m)\u001b[0m\u001b[0;34m\u001b[0m\u001b[0m\n\u001b[0;32m-> 2540\u001b[0;31m     \u001b[0;32mif\u001b[0m \u001b[0mall\u001b[0m\u001b[0;34m(\u001b[0m\u001b[0mxfin\u001b[0m\u001b[0;34m)\u001b[0m \u001b[0;32mand\u001b[0m \u001b[0mall\u001b[0m\u001b[0;34m(\u001b[0m\u001b[0myfin\u001b[0m\u001b[0;34m)\u001b[0m\u001b[0;34m:\u001b[0m\u001b[0;34m\u001b[0m\u001b[0m\n\u001b[0m\u001b[1;32m   2541\u001b[0m         \u001b[0;32mreturn\u001b[0m \u001b[0mwithin_tol\u001b[0m\u001b[0;34m(\u001b[0m\u001b[0mx\u001b[0m\u001b[0;34m,\u001b[0m \u001b[0my\u001b[0m\u001b[0;34m,\u001b[0m \u001b[0matol\u001b[0m\u001b[0;34m,\u001b[0m \u001b[0mrtol\u001b[0m\u001b[0;34m)\u001b[0m\u001b[0;34m\u001b[0m\u001b[0m\n\u001b[1;32m   2542\u001b[0m     \u001b[0;32melse\u001b[0m\u001b[0;34m:\u001b[0m\u001b[0;34m\u001b[0m\u001b[0m\n",
      "\u001b[0;32m/home/dmlewis/src/anaconda/envs/HERA/lib/python2.7/site-packages/numpy/core/fromnumeric.pyc\u001b[0m in \u001b[0;36mall\u001b[0;34m(a, axis, out, keepdims)\u001b[0m\n\u001b[1;32m   2048\u001b[0m     \u001b[0;32mif\u001b[0m \u001b[0mkeepdims\u001b[0m \u001b[0;32mis\u001b[0m \u001b[0;32mnot\u001b[0m \u001b[0mnp\u001b[0m\u001b[0;34m.\u001b[0m\u001b[0m_NoValue\u001b[0m\u001b[0;34m:\u001b[0m\u001b[0;34m\u001b[0m\u001b[0m\n\u001b[1;32m   2049\u001b[0m         \u001b[0mkwargs\u001b[0m\u001b[0;34m[\u001b[0m\u001b[0;34m'keepdims'\u001b[0m\u001b[0;34m]\u001b[0m \u001b[0;34m=\u001b[0m \u001b[0mkeepdims\u001b[0m\u001b[0;34m\u001b[0m\u001b[0m\n\u001b[0;32m-> 2050\u001b[0;31m     \u001b[0;32mreturn\u001b[0m \u001b[0marr\u001b[0m\u001b[0;34m.\u001b[0m\u001b[0mall\u001b[0m\u001b[0;34m(\u001b[0m\u001b[0maxis\u001b[0m\u001b[0;34m=\u001b[0m\u001b[0maxis\u001b[0m\u001b[0;34m,\u001b[0m \u001b[0mout\u001b[0m\u001b[0;34m=\u001b[0m\u001b[0mout\u001b[0m\u001b[0;34m,\u001b[0m \u001b[0;34m**\u001b[0m\u001b[0mkwargs\u001b[0m\u001b[0;34m)\u001b[0m\u001b[0;34m\u001b[0m\u001b[0m\n\u001b[0m\u001b[1;32m   2051\u001b[0m \u001b[0;34m\u001b[0m\u001b[0m\n\u001b[1;32m   2052\u001b[0m \u001b[0;34m\u001b[0m\u001b[0m\n",
      "\u001b[0;32m/home/dmlewis/src/anaconda/envs/HERA/lib/python2.7/site-packages/numpy/core/_methods.pyc\u001b[0m in \u001b[0;36m_all\u001b[0;34m(a, axis, dtype, out, keepdims)\u001b[0m\n\u001b[1;32m     39\u001b[0m \u001b[0;34m\u001b[0m\u001b[0m\n\u001b[1;32m     40\u001b[0m \u001b[0;32mdef\u001b[0m \u001b[0m_all\u001b[0m\u001b[0;34m(\u001b[0m\u001b[0ma\u001b[0m\u001b[0;34m,\u001b[0m \u001b[0maxis\u001b[0m\u001b[0;34m=\u001b[0m\u001b[0mNone\u001b[0m\u001b[0;34m,\u001b[0m \u001b[0mdtype\u001b[0m\u001b[0;34m=\u001b[0m\u001b[0mNone\u001b[0m\u001b[0;34m,\u001b[0m \u001b[0mout\u001b[0m\u001b[0;34m=\u001b[0m\u001b[0mNone\u001b[0m\u001b[0;34m,\u001b[0m \u001b[0mkeepdims\u001b[0m\u001b[0;34m=\u001b[0m\u001b[0mFalse\u001b[0m\u001b[0;34m)\u001b[0m\u001b[0;34m:\u001b[0m\u001b[0;34m\u001b[0m\u001b[0m\n\u001b[0;32m---> 41\u001b[0;31m     \u001b[0;32mreturn\u001b[0m \u001b[0mumr_all\u001b[0m\u001b[0;34m(\u001b[0m\u001b[0ma\u001b[0m\u001b[0;34m,\u001b[0m \u001b[0maxis\u001b[0m\u001b[0;34m,\u001b[0m \u001b[0mdtype\u001b[0m\u001b[0;34m,\u001b[0m \u001b[0mout\u001b[0m\u001b[0;34m,\u001b[0m \u001b[0mkeepdims\u001b[0m\u001b[0;34m)\u001b[0m\u001b[0;34m\u001b[0m\u001b[0m\n\u001b[0m\u001b[1;32m     42\u001b[0m \u001b[0;34m\u001b[0m\u001b[0m\n\u001b[1;32m     43\u001b[0m \u001b[0;32mdef\u001b[0m \u001b[0m_count_reduce_items\u001b[0m\u001b[0;34m(\u001b[0m\u001b[0marr\u001b[0m\u001b[0;34m,\u001b[0m \u001b[0maxis\u001b[0m\u001b[0;34m)\u001b[0m\u001b[0;34m:\u001b[0m\u001b[0;34m\u001b[0m\u001b[0m\n",
      "\u001b[0;31mKeyboardInterrupt\u001b[0m: "
     ]
    }
   ],
   "source": [
    "#This is the loop to run the commands on the entire folder\n",
    "for i in range(len(file_list)):\n",
    "    #calibrate\n",
    "    print('Calibrating '+file_names[i]+'...')\n",
    "    ac.apply_cal(file_list[i],file_out[i],calfile)\n",
    "    #read\n",
    "    print('Accessing ' +file_names2[i]+'...')\n",
    "    uv.read_miriad(file_out[i])\n",
    "    print('Phasing...')\n",
    "    uv.phase_to_time(np.median(uv.time_array))\n",
    "    print('Writing...')\n",
    "    uv.write_uvfits(file_out2[i]+'.uvfits', force_phase=True, spoof_nonessential=True)"
   ]
  },
  {
   "cell_type": "code",
   "execution_count": 91,
   "metadata": {},
   "outputs": [
    {
     "name": "stdout",
     "output_type": "stream",
     "text": [
      "0\n",
      "1\n",
      "2\n",
      "3\n",
      "4\n",
      "5\n",
      "6\n",
      "7\n",
      "8\n",
      "9\n",
      "10\n",
      "11\n",
      "12\n",
      "13\n",
      "14\n",
      "15\n",
      "16\n",
      "17\n",
      "18\n",
      "19\n"
     ]
    }
   ],
   "source": [
    "a=np.arange(0,20,1)\n",
    "b=np.arange(0,20,1)\n",
    "for i in a:\n",
    "    print b[i]"
   ]
  },
  {
   "cell_type": "code",
   "execution_count": 92,
   "metadata": {},
   "outputs": [
    {
     "name": "stdout",
     "output_type": "stream",
     "text": [
      "[ 90  91  92  93  94  95  96  97  98  99 100 101 102]\n"
     ]
    }
   ],
   "source": [
    "c=np.arange(90,103)\n",
    "print c"
   ]
  },
  {
   "cell_type": "code",
   "execution_count": 96,
   "metadata": {},
   "outputs": [
    {
     "name": "stdout",
     "output_type": "stream",
     "text": [
      "['../dml_uv_files/zen.2458140.12564.xx.HH.uvc.uvfits', '../dml_uv_files/zen.2458140.13310.xx.HH.uvc.uvfits', '../dml_uv_files/zen.2458140.14056.xx.HH.uvc.uvfits', '../dml_uv_files/zen.2458140.14801.xx.HH.uvc.uvfits', '../dml_uv_files/zen.2458140.15547.xx.HH.uvc.uvfits', '../dml_uv_files/zen.2458140.16293.xx.HH.uvc.uvfits', '../dml_uv_files/zen.2458140.17038.xx.HH.uvc.uvfits', '../dml_uv_files/zen.2458140.17784.xx.HH.uvc.uvfits', '../dml_uv_files/zen.2458140.18530.xx.HH.uvc.uvfits', '../dml_uv_files/zen.2458140.19275.xx.HH.uvc.uvfits', '../dml_uv_files/zen.2458140.20021.xx.HH.uvc.uvfits', '../dml_uv_files/zen.2458140.20767.xx.HH.uvc.uvfits', '../dml_uv_files/zen.2458140.21512.xx.HH.uvc.uvfits', '../dml_uv_files/zen.2458140.22258.xx.HH.uvc.uvfits', '../dml_uv_files/zen.2458140.23004.xx.HH.uvc.uvfits', '../dml_uv_files/zen.2458140.23749.xx.HH.uvc.uvfits', '../dml_uv_files/zen.2458140.24495.xx.HH.uvc.uvfits', '../dml_uv_files/zen.2458140.25241.xx.HH.uvc.uvfits', '../dml_uv_files/zen.2458140.25986.xx.HH.uvc.uvfits', '../dml_uv_files/zen.2458140.26732.xx.HH.uvc.uvfits', '../dml_uv_files/zen.2458140.27478.xx.HH.uvc.uvfits', '../dml_uv_files/zen.2458140.28223.xx.HH.uvc.uvfits', '../dml_uv_files/zen.2458140.28969.xx.HH.uvc.uvfits', '../dml_uv_files/zen.2458140.29715.xx.HH.uvc.uvfits', '../dml_uv_files/zen.2458140.30460.xx.HH.uvc.uvfits', '../dml_uv_files/zen.2458140.31206.xx.HH.uvc.uvfits', '../dml_uv_files/zen.2458140.31951.xx.HH.uvc.uvfits', '../dml_uv_files/zen.2458140.32697.xx.HH.uvc.uvfits', '../dml_uv_files/zen.2458140.33443.xx.HH.uvc.uvfits', '../dml_uv_files/zen.2458140.34188.xx.HH.uvc.uvfits', '../dml_uv_files/zen.2458140.34934.xx.HH.uvc.uvfits', '../dml_uv_files/zen.2458140.35680.xx.HH.uvc.uvfits', '../dml_uv_files/zen.2458140.36425.xx.HH.uvc.uvfits', '../dml_uv_files/zen.2458140.37171.xx.HH.uvc.uvfits', '../dml_uv_files/zen.2458140.37917.xx.HH.uvc.uvfits', '../dml_uv_files/zen.2458140.38662.xx.HH.uvc.uvfits', '../dml_uv_files/zen.2458140.39408.xx.HH.uvc.uvfits', '../dml_uv_files/zen.2458140.40154.xx.HH.uvc.uvfits', '../dml_uv_files/zen.2458140.40899.xx.HH.uvc.uvfits', '../dml_uv_files/zen.2458140.41645.xx.HH.uvc.uvfits', '../dml_uv_files/zen.2458140.42391.xx.HH.uvc.uvfits', '../dml_uv_files/zen.2458140.43136.xx.HH.uvc.uvfits', '../dml_uv_files/zen.2458140.43882.xx.HH.uvc.uvfits', '../dml_uv_files/zen.2458140.44628.xx.HH.uvc.uvfits', '../dml_uv_files/zen.2458140.45373.xx.HH.uvc.uvfits', '../dml_uv_files/zen.2458140.46119.xx.HH.uvc.uvfits', '../dml_uv_files/zen.2458140.46865.xx.HH.uvc.uvfits', '../dml_uv_files/zen.2458140.47610.xx.HH.uvc.uvfits', '../dml_uv_files/zen.2458140.48356.xx.HH.uvc.uvfits', '../dml_uv_files/zen.2458140.49102.xx.HH.uvc.uvfits', '../dml_uv_files/zen.2458140.49847.xx.HH.uvc.uvfits', '../dml_uv_files/zen.2458140.50593.xx.HH.uvc.uvfits', '../dml_uv_files/zen.2458140.51338.xx.HH.uvc.uvfits', '../dml_uv_files/zen.2458140.52084.xx.HH.uvc.uvfits', '../dml_uv_files/zen.2458140.52830.xx.HH.uvc.uvfits', '../dml_uv_files/zen.2458140.53575.xx.HH.uvc.uvfits', '../dml_uv_files/zen.2458140.54321.xx.HH.uvc.uvfits', '../dml_uv_files/zen.2458140.55067.xx.HH.uvc.uvfits', '../dml_uv_files/zen.2458140.55812.xx.HH.uvc.uvfits', '../dml_uv_files/zen.2458140.56558.xx.HH.uvc.uvfits', '../dml_uv_files/zen.2458140.57304.xx.HH.uvc.uvfits', '../dml_uv_files/zen.2458140.58049.xx.HH.uvc.uvfits', '../dml_uv_files/zen.2458140.58795.xx.HH.uvc.uvfits', '../dml_uv_files/zen.2458140.59541.xx.HH.uvc.uvfits', '../dml_uv_files/zen.2458140.60286.xx.HH.uvc.uvfits', '../dml_uv_files/zen.2458140.61032.xx.HH.uvc.uvfits', '../dml_uv_files/zen.2458140.61778.xx.HH.uvc.uvfits', '../dml_uv_files/zen.2458140.62523.xx.HH.uvc.uvfits', '../dml_uv_files/zen.2458140.63269.xx.HH.uvc.uvfits', '../dml_uv_files/zen.2458140.64015.xx.HH.uvc.uvfits', '../dml_uv_files/zen.2458140.64760.xx.HH.uvc.uvfits', '../dml_uv_files/zen.2458140.65506.xx.HH.uvc.uvfits']\n",
      "72\n"
     ]
    }
   ],
   "source": [
    "file_locations2=glob('/data6/HERA/data/2458140/dml_uv_files/*.xx.HH.uvc.uvfits')\n",
    "file_locations2.sort()\n",
    "print file_locations2\n",
    "print len(file_locations2)"
   ]
  },
  {
   "cell_type": "code",
   "execution_count": null,
   "metadata": {
    "collapsed": true
   },
   "outputs": [],
   "source": []
  }
 ],
 "metadata": {
  "kernelspec": {
   "display_name": "Python 2",
   "language": "python",
   "name": "python2"
  },
  "language_info": {
   "codemirror_mode": {
    "name": "ipython",
    "version": 2
   },
   "file_extension": ".py",
   "mimetype": "text/x-python",
   "name": "python",
   "nbconvert_exporter": "python",
   "pygments_lexer": "ipython2",
   "version": "2.7.13"
  }
 },
 "nbformat": 4,
 "nbformat_minor": 2
}
