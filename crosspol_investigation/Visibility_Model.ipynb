{
 "cells": [
  {
   "cell_type": "markdown",
   "metadata": {},
   "source": [
    "The model we are hoping to build looks like: \n",
    "\n",
    "V_ij = eps_ij $*$ (V_ii $*$ e^(-i $*$ pi $*$ tau_ci $*$ nu) + V_jj $*$ e^-i $*$ pi $*$  tau_cj $*$ nu)) \n",
    "        + P_ij * e^(-i * pi * tau_aij * nu) * (V_ii + V_jj)"
   ]
  },
  {
   "cell_type": "markdown",
   "metadata": {},
   "source": [
    "The variables we are working with are: \n",
    "\n",
    "V_ij : the data averaged across time\n",
    "\n",
    "eps_ij : the amplitude of the signal traveling through cables\n",
    "\n",
    "        (getting the approx from: the amplitude array from outside baseline dependence)\n",
    "\n",
    "V_ii, V_jj : the autocorrelation for each of the two antennas\n",
    "\n",
    "P_ij : the amplitude of the signal traveling through the air\n",
    "\n",
    "        (getting the approx from: the amplitude array within baseline dependence)\n",
    "\n",
    "tau_ci, tau_cj : the \"cable\" delays \n",
    "\n",
    "        (getting the approx from: a row or column of amplitude array averaged across frequency)\n",
    "\n",
    "tau_aij : the air delay \n",
    "        \n",
    "        (getting the approx from: baseline length in ns)\n",
    "\n",
    "nu : the frequency\n",
    "\n",
    "        (getting the approx from: the frequency array)"
   ]
  },
  {
   "cell_type": "code",
   "execution_count": 37,
   "metadata": {
    "ExecuteTime": {
     "end_time": "2018-07-24T17:03:52.159370Z",
     "start_time": "2018-07-24T17:03:52.125999Z"
    }
   },
   "outputs": [],
   "source": [
    "%matplotlib notebook\n",
    "#Import needed packages\n",
    "from pyuvdata import UVData\n",
    "import numpy as np\n",
    "import glob\n",
    "import matplotlib.pyplot as plt\n",
    "from matplotlib.colors import SymLogNorm\n",
    "import cmath\n",
    "#Import the functions I defined for this notebook\n",
    "import amp_delay_plotting as adp\n",
    "\n",
    "#Create uv elements\n",
    "uvxy = UVData()\n",
    "uvyx = UVData()\n",
    "uvxx = UVData()\n",
    "uvyy = UVData()\n",
    "\n",
    "#Create constant variables\n",
    "#Variable for the speed of light, with power adjusted for desired units\n",
    "c = 0.299792\n",
    "#Variable for speed of light in a cable correction factor, based on Google search\n",
    "f = .83\n",
    "\n",
    "#Create an array of antennas we want to flag\n",
    "flagged_antennas = np.array([0,2,26,50,98,136])"
   ]
  },
  {
   "cell_type": "code",
   "execution_count": 38,
   "metadata": {
    "ExecuteTime": {
     "end_time": "2018-07-24T17:03:53.240446Z",
     "start_time": "2018-07-24T17:03:52.804576Z"
    },
    "code_folding": [
     0
    ]
   },
   "outputs": [],
   "source": [
    "#Read each of the data files into the uv objects\n",
    "\n",
    "# Read in the xy data file\n",
    "uvxy.read_uvfits('/data6/HERA/data/IDR2.1/uvOCRSL_crosspol_time_split/xy_time_split_data/combined_files/zen.grp1.of1.xy.LST.run_7.uvOCRSL.uvfits')\n",
    "\n",
    "# Read in the yx data file\n",
    "uvyx.read_uvfits('/data6/HERA/data/IDR2.1/uvOCRSL_crosspol_time_split/yx_time_split_data/combined_files/zen.grp1.of1.yx.LST.run_8.uvOCRSL.uvfits')\n",
    "\n",
    "#Read in the xx data file\n",
    "uvxx.read_uvfits('/data6/HERA/data/IDR2.1/uvOCRSL_crosspol_time_split/xx_time_split_data/combined_files/zen.grp1.of1.xx.LST.run_2.uvOCRSL.uvfits')\n",
    "\n",
    "#Read in the yy data file\n",
    "uvyy.read_uvfits('/data6/HERA/data/IDR2.1/uvOCRSL_yy_time_split_data/combined_files/zen.grp1.of1.yy.LST.run_2.uvOCRSL.uvfits')"
   ]
  },
  {
   "cell_type": "code",
   "execution_count": 39,
   "metadata": {
    "ExecuteTime": {
     "end_time": "2018-07-24T17:03:53.878048Z",
     "start_time": "2018-07-24T17:03:53.871944Z"
    },
    "code_folding": [
     0
    ]
   },
   "outputs": [],
   "source": [
    "#Read in the position and antenna numbers for all antennas\n",
    "#These will be passed into functions to plot the antennas in the correct positions\n",
    "antpos, ants = uvxy.get_ENU_antpos()"
   ]
  },
  {
   "cell_type": "code",
   "execution_count": 40,
   "metadata": {
    "ExecuteTime": {
     "end_time": "2018-07-24T17:03:54.788519Z",
     "start_time": "2018-07-24T17:03:54.771515Z"
    }
   },
   "outputs": [],
   "source": [
    "def find_bl_len(antnum1,antnum2):\n",
    "    blin_length = 0\n",
    "    #Step through each antenna pair with the entered antenna\n",
    "    for aa,ant1 in enumerate(ants):\n",
    "        for bb,ant2 in enumerate(ants):\n",
    "            if (ant1 == antnum1 or ant1 == antnum2) and (ant2==antnum1 or ant2==antnum2):\n",
    "                #Find the horizontal distance between the two antennas\n",
    "                x = antpos[aa,0] - antpos[bb,0]\n",
    "                #Find the vertical distance between the two antennas\n",
    "                y = antpos[aa,1] - antpos[bb,1]\n",
    "                #Find the hypotenus of the triangle, which is the total distance between\n",
    "                #the two antennas\n",
    "                diag = np.sqrt(x**2 + y**2)\n",
    "                #Place this value into the array\n",
    "                if diag != 0:\n",
    "                    blin_length = diag\n",
    "    return(blin_length)"
   ]
  },
  {
   "cell_type": "code",
   "execution_count": 51,
   "metadata": {
    "ExecuteTime": {
     "end_time": "2018-07-24T21:54:22.609500Z",
     "start_time": "2018-07-24T21:54:22.575831Z"
    }
   },
   "outputs": [
    {
     "name": "stdout",
     "output_type": "stream",
     "text": [
      "(1035, 3)\n",
      "(1035, 3)\n",
      "(1035, 3)\n",
      "(1035, 3)\n",
      "14.607949891367397\n",
      "48.72695032344892\n",
      "(1, 1024)\n",
      "(1, 1024)\n",
      "(1, 1024)\n",
      "(1, 1024)\n"
     ]
    }
   ],
   "source": [
    "\n",
    "#P_ij, blin_delay_xy = adp.make_blin_depd_arrays(uv = uvxy)\n",
    "#eps_ij, ind_delay_xy = adp.make_blin_ind_arrays(uv = uvxy)\n",
    "\n",
    "#Print the shape of the arrays to check that everything is working correctly\n",
    "print blin_delay_xy.shape\n",
    "print P_ij.shape\n",
    "print eps_ij.shape\n",
    "print ind_delay_xy.shape\n",
    "\n",
    "#Find the length of the baseline\n",
    "tau_aij = find_bl_len(11,12)\n",
    "print tau_aij\n",
    "\n",
    "#Convert meters to ns\n",
    "tau_aij = tau_aij / c\n",
    "print tau_aij\n",
    "\n",
    "#Get the autocorr data for the antennas\n",
    "V_ii = uvxy.get_data(11,11)\n",
    "print V_ii.shape\n",
    "V_jj = uvxy.get_data(12,12)\n",
    "print V_jj.shape\n",
    "\n",
    "#Get the data\n",
    "V_ij = uvxy.get_data(11,12)\n",
    "print V_ij.shape\n",
    "\n",
    "nu = uvxy.freq_array\n",
    "print nu.shape"
   ]
  },
  {
   "cell_type": "code",
   "execution_count": 50,
   "metadata": {
    "ExecuteTime": {
     "end_time": "2018-07-24T19:49:51.417336Z",
     "start_time": "2018-07-24T19:49:51.412160Z"
    }
   },
   "outputs": [],
   "source": [
    "#V_ij - (P_ij * np.e**(-1j * np.pi * tau_aij) * (V_ii + V_jj))\n",
    "#Arrays aren't the same size and shape, so I can't actually do this yet\n",
    "#Arrays need to be Nbls by Nfreqs, so can't use previously defined functions to get the data"
   ]
  },
  {
   "cell_type": "code",
   "execution_count": null,
   "metadata": {},
   "outputs": [],
   "source": []
  }
 ],
 "metadata": {
  "kernelspec": {
   "display_name": "Python 2",
   "language": "python",
   "name": "python2"
  },
  "language_info": {
   "codemirror_mode": {
    "name": "ipython",
    "version": 2
   },
   "file_extension": ".py",
   "mimetype": "text/x-python",
   "name": "python",
   "nbconvert_exporter": "python",
   "pygments_lexer": "ipython2",
   "version": "2.7.14"
  }
 },
 "nbformat": 4,
 "nbformat_minor": 2
}
