{
 "cells": [
  {
   "cell_type": "code",
   "execution_count": 1,
   "metadata": {
    "collapsed": true
   },
   "outputs": [],
   "source": [
    "import numpy as np\n",
    "import matplotlib.pyplot as plt\n",
    "from pyuvdata import UVData\n",
    "import glob\n",
    "from scipy.io.wavfile import write"
   ]
  },
  {
   "cell_type": "code",
   "execution_count": 57,
   "metadata": {
    "collapsed": true
   },
   "outputs": [],
   "source": [
    "def ravel_vis(vis):\n",
    "    '''\n",
    "    \n",
    "    Ravel the visibilities and scale for audio\n",
    "\n",
    "    '''\n",
    "    vis_rav = np.ravel(vis)\n",
    "    n = vis_rav.shape[0]\n",
    "    vis_scaled = vis_rav / vis_rav.max() * 32767\n",
    "    return vis_scaled"
   ]
  },
  {
   "cell_type": "code",
   "execution_count": 58,
   "metadata": {
    "collapsed": true
   },
   "outputs": [],
   "source": [
    "uv = UVData()"
   ]
  },
  {
   "cell_type": "code",
   "execution_count": 59,
   "metadata": {
    "collapsed": true
   },
   "outputs": [],
   "source": [
    "uv.read_uvfits('/data6/HERA/data/2458042/zen.2458042.12552.HH.uv.vis.uvfits')"
   ]
  },
  {
   "cell_type": "code",
   "execution_count": 60,
   "metadata": {},
   "outputs": [],
   "source": [
    "xx_vis = uv.data_array[:, 0, :, 0]"
   ]
  },
  {
   "cell_type": "code",
   "execution_count": 65,
   "metadata": {},
   "outputs": [],
   "source": [
    "# Each spectra lasts some fraction of a second\n",
    "n = xx_vis.shape[1] * 10\n",
    "raveled_vis = ravel_vis(xx_vis)\n",
    "write('test.wav', n, np.real(raveled_vis))"
   ]
  },
  {
   "cell_type": "code",
   "execution_count": 31,
   "metadata": {
    "collapsed": true
   },
   "outputs": [],
   "source": [
    "n = 40000\n",
    "l = 400\n",
    "x = np.arange(0,n)\n",
    "data = np.cos(l*2*np.pi*x/n)\n",
    "scaled = np.int16(data/np.max(np.abs(data)) * 32767)\n",
    "write('test_10.wav', n, scaled)\n"
   ]
  }
 ],
 "metadata": {
  "kernelspec": {
   "display_name": "Python 2",
   "language": "python",
   "name": "python2"
  },
  "language_info": {
   "codemirror_mode": {
    "name": "ipython",
    "version": 2
   },
   "file_extension": ".py",
   "mimetype": "text/x-python",
   "name": "python",
   "nbconvert_exporter": "python",
   "pygments_lexer": "ipython2",
   "version": "2.7.15"
  }
 },
 "nbformat": 4,
 "nbformat_minor": 2
}
