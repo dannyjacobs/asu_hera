{
 "cells": [
  {
   "cell_type": "code",
   "execution_count": 1,
   "metadata": {
    "collapsed": true
   },
   "outputs": [],
   "source": [
    "\n",
    "import numpy as np\n",
    "import matplotlib.pyplot as plt\n",
    "from pyuvdata import UVData\n",
    "from pyuvdata import uvutils\n",
    "from hera_qm import ant_metrics\n",
    "import hera_cal\n",
    "from copy import deepcopy\n",
    "import uvtools\n",
    "\n",
    "from matplotlib.colors import SymLogNorm\n",
    "import sys\n",
    "import os\n",
    "from hera_qm import xrfi as xrfi\n",
    "import numpy.ma as ma\n",
    "import glob\n",
    "import math\n"
   ]
  },
  {
   "cell_type": "code",
   "execution_count": 2,
   "metadata": {},
   "outputs": [
    {
     "name": "stderr",
     "output_type": "stream",
     "text": [
      "Combined polarizations are not evenly spaced. This will make it impossible to write this data out to some file types.\n"
     ]
    }
   ],
   "source": [
    "\n",
    "\n",
    "data_file_list = ['/data6/HERA/data/2458042/zen.2458042.12552.xx.HH.uv','/data6/HERA/data/2458042/zen.2458042.12552.yy.HH.uv','/data6/HERA/data/2458042/zen.2458042.12552.yx.HH.uv','/data6/HERA/data/2458042/zen.2458042.12552.xy.HH.uv']\n",
    "\n",
    "uv = UVData()\n",
    "\n",
    "uv.read_miriad(data_file_list)\n",
    "\n"
   ]
  },
  {
   "cell_type": "code",
   "execution_count": 3,
   "metadata": {
    "collapsed": true
   },
   "outputs": [],
   "source": [
    "\n",
    "aa = hera_cal.utils.get_aa_from_uv(uv)\n",
    "\n",
    "info = hera_cal.omni.aa_to_info(aa)\n",
    "\n",
    "reds = info.get_reds()\n"
   ]
  },
  {
   "cell_type": "code",
   "execution_count": 4,
   "metadata": {
    "collapsed": true
   },
   "outputs": [],
   "source": [
    "\n",
    "am = ant_metrics.Antenna_Metrics(data_file_list, reds, fileformat = 'miriad')\n"
   ]
  },
  {
   "cell_type": "code",
   "execution_count": 5,
   "metadata": {
    "collapsed": true
   },
   "outputs": [],
   "source": [
    "\n",
    "v = deepcopy(uv)\n"
   ]
  },
  {
   "cell_type": "code",
   "execution_count": 6,
   "metadata": {
    "collapsed": true
   },
   "outputs": [],
   "source": [
    "\n",
    "bases = []\n",
    "\n",
    "lst = uv.get_antpairpols()\n",
    "\n",
    "for i in range(uv.Nbls):\n",
    "    \n",
    "    pair = lst[4*i]\n",
    "    \n",
    "    bases.append((pair[0],pair[1]))\n"
   ]
  },
  {
   "cell_type": "code",
   "execution_count": 7,
   "metadata": {
    "collapsed": true
   },
   "outputs": [],
   "source": [
    "\n",
    "nonreds = []\n",
    "\n",
    "for i in bases:\n",
    "    \n",
    "    flag = 0\n",
    "    \n",
    "    for j in reds:\n",
    "        \n",
    "        for k in j:\n",
    "            \n",
    "            if i == k:\n",
    "                \n",
    "                flag = 1\n",
    "                \n",
    "    if flag == 0:\n",
    "        \n",
    "        nonreds.append(i)\n"
   ]
  },
  {
   "cell_type": "code",
   "execution_count": 8,
   "metadata": {
    "scrolled": true
   },
   "outputs": [
    {
     "name": "stdout",
     "output_type": "stream",
     "text": [
      "[[  28.54149635  -86.35600842   -8.04679428]\n",
      " [   0.81464083  -50.05629453  -29.82931721]\n",
      " [ -14.37481942  -63.70823565  -62.64103936]\n",
      " [  11.36289375  -77.30163178  -29.87911091]\n",
      " [  12.16759751 -131.75416811  -62.87519242]\n",
      " [  15.43729238 -122.67655585  -51.89927641]\n",
      " [  20.73930714 -136.28828108  -51.94197718]\n",
      " [  46.63678713 -149.81897474  -19.28204167]\n",
      " [  17.95328508  -59.12635392   -7.97149171]\n",
      " [  12.64313462  -45.51782375   -7.92359747]\n",
      " [  29.35423193 -140.80539348  -41.04799869]\n",
      " [  32.63513192 -131.72334248  -30.09088496]\n",
      " [  33.85156678  -99.9645706    -8.09463731]\n",
      " [  21.20681292  -50.05508841    3.01474104]\n",
      " [  24.03622569 -127.19994404  -40.99508914]\n",
      " [  27.30110754 -118.12417964  -30.02774965]\n",
      " [  23.24740407  -72.74117587   -8.00915153]\n",
      " [  18.71019041 -113.59764582  -40.9370538 ]\n",
      " [  13.3761261   -99.99849888  -40.87389266]\n",
      " [   8.08204708  -86.38366017  -40.83625807]\n",
      " [   2.79594373  -72.76569153  -40.80371512]\n",
      " [  -2.42616744  -59.12260896  -40.81202489]\n",
      " [  16.67299088  -90.91018386  -29.92697133]\n",
      " [ -13.53014803 -118.14508619  -95.66264386]\n",
      " [ -18.848221   -104.53966187  -95.60969074]\n",
      " [  -4.96312891 -122.68100045  -84.73808013]\n",
      " [ -10.32920262 -109.09441402  -84.65448298]\n",
      " [ -15.68730055  -95.50469809  -84.57597754]\n",
      " [ -20.88537837  -81.85218259  -84.59963087]\n",
      " [ -24.16632062  -90.93424829  -95.55672055]\n",
      " [   3.61663755 -127.21195258  -73.81000724]\n",
      " [  -1.67740163 -113.5970968   -73.77239788]\n",
      " [  -6.99547458  -99.99167313  -73.71944512]\n",
      " [ -12.31357417  -86.3862602   -73.66647528]\n",
      " [ -17.54367469  -72.74631206  -73.66968489]\n",
      " [   6.92958839 -118.11732412  -62.87335302]\n",
      " [   1.61152876 -104.51189534  -62.82040898]\n",
      " [  -3.72256225  -90.91275832  -62.75723034]\n",
      " [  -9.0166681   -77.29792946  -62.71957842]\n",
      " [  10.18326524 -109.04599837  -51.887211  ]\n",
      " [   4.84918756  -95.44685634  -51.82404111]\n",
      " [  -0.45290726  -81.83516302  -51.78128911]\n",
      " [  -5.78703821  -68.23604256  -51.71808508]\n",
      " [  21.99106374 -104.51560614  -29.97992338]\n",
      " [   6.06877472  -63.68680929  -29.84145083]\n",
      " [  31.81905801  -77.27530992    2.92409568]\n",
      " [  26.51695001  -63.66362355    2.96685549]]\n",
      "[121  88  41  86  36  51  50  98 123 124  65  82 120 143  66  83 122  67\n",
      "  68  69  70  71  85   0   1  11  12  13  14   2  23  24  25  26  27  37\n",
      "  38  39  40  52  53  54  55  84  87 141 142]\n"
     ]
    }
   ],
   "source": [
    "\n",
    "print uv.antenna_positions\n",
    "\n",
    "print uv.antenna_numbers\n"
   ]
  },
  {
   "cell_type": "code",
   "execution_count": 9,
   "metadata": {},
   "outputs": [
    {
     "name": "stdout",
     "output_type": "stream",
     "text": [
      "14.607952464\n"
     ]
    }
   ],
   "source": [
    "\n",
    "a = uv.antenna_positions[24]\n",
    "b = uv.antenna_positions[23]\n",
    "\n",
    "dist = np.linalg.norm(a-b)\n",
    "\n",
    "print dist\n"
   ]
  },
  {
   "cell_type": "code",
   "execution_count": 10,
   "metadata": {},
   "outputs": [
    {
     "name": "stdout",
     "output_type": "stream",
     "text": [
      "4.86456229515\n"
     ]
    }
   ],
   "source": [
    "\n",
    "c = float(3e8)\n",
    "\n",
    "B = float(uv.freq_array[0][-1]-uv.freq_array[0][0])\n",
    "\n",
    "del_tau = 1./ B\n",
    "\n",
    "tau = dist / c\n",
    "\n",
    "print tau/del_tau\n"
   ]
  },
  {
   "cell_type": "code",
   "execution_count": 11,
   "metadata": {},
   "outputs": [
    {
     "name": "stdout",
     "output_type": "stream",
     "text": [
      "0.319464619081\n"
     ]
    }
   ],
   "source": [
    "T = uv.Ntimes*10\n",
    "    \n",
    "del_nu = 1. / T\n",
    "    \n",
    "earth_rot = 2*np.pi / 86164.09053\n",
    "    \n",
    "freq_naught = np.median(uv.freq_array[0])\n",
    "    \n",
    "nu = earth_rot * dist * freq_naught / c\n",
    "\n",
    "print nu/del_nu"
   ]
  },
  {
   "cell_type": "code",
   "execution_count": 12,
   "metadata": {
    "collapsed": true
   },
   "outputs": [],
   "source": [
    "\n",
    "def signal(amp,width,baseline):\n",
    "    \n",
    "    ant_1 = baseline[0]\n",
    "    \n",
    "    ant_2 = baseline[1]\n",
    "    \n",
    "    ant_1_ind = np.where(uv.antenna_numbers==ant_1)\n",
    "    \n",
    "    ant_2_ind = np.where(uv.antenna_numbers==ant_2)\n",
    "    \n",
    "    dist = np.linalg.norm(uv.antenna_positions[ant_1_ind]-uv.antenna_positions[ant_2_ind])\n",
    "    \n",
    "    c = float(3e8)\n",
    "    \n",
    "    B = float(uv.freq_array[0][-1]-uv.freq_array[0][1])\n",
    "    \n",
    "    del_tau = 2.*np.pi / B\n",
    "    \n",
    "    tau = dist / c\n",
    "    \n",
    "    temp = np.zeros((60,1024,4))\n",
    "    \n",
    "    T = uv.Ntimes*10\n",
    "    \n",
    "    del_nu = 2.*np.pi / T\n",
    "    \n",
    "    earth_rot = 2*np.pi / 86164.09053\n",
    "    \n",
    "    freq_naught = np.median(uv.freq_array[0])\n",
    "    \n",
    "    nu = earth_rot * dist * freq_naught / c\n",
    "    \n",
    "    for i in range(uv.Ntimes/2):\n",
    "        \n",
    "        for j in range(int(math.ceil(float(tau/del_tau)))):\n",
    "            \n",
    "            temp[i][j][0]= np.random.normal(amp,width) * np.exp(-i*(del_nu/nu))\n",
    "            \n",
    "            if (i != 0):\n",
    "            \n",
    "                temp[-i][j][0] = np.random.normal(amp,width) * np.exp(-i*(del_nu/nu))\n",
    "            \n",
    "    result = np.fft.fftn(temp)\n",
    "    \n",
    "    return result\n"
   ]
  },
  {
   "cell_type": "code",
   "execution_count": null,
   "metadata": {
    "collapsed": true
   },
   "outputs": [],
   "source": []
  }
 ],
 "metadata": {
  "kernelspec": {
   "display_name": "Python 2",
   "language": "python",
   "name": "python2"
  },
  "language_info": {
   "codemirror_mode": {
    "name": "ipython",
    "version": 2
   },
   "file_extension": ".py",
   "mimetype": "text/x-python",
   "name": "python",
   "nbconvert_exporter": "python",
   "pygments_lexer": "ipython2",
   "version": "2.7.13"
  }
 },
 "nbformat": 4,
 "nbformat_minor": 2
}
