{
 "cells": [
  {
   "cell_type": "code",
   "execution_count": 1,
   "metadata": {
    "ExecuteTime": {
     "end_time": "2018-08-09T21:10:09.129877Z",
     "start_time": "2018-08-09T21:10:07.075074Z"
    },
    "collapsed": true
   },
   "outputs": [],
   "source": [
    "import time\n",
    "import numpy as np\n",
    "import matplotlib.pyplot as plt\n",
    "from pyuvdata import UVData\n",
    "from pyuvdata import uvutils\n",
    "from hera_qm import ant_metrics\n",
    "import hera_cal\n",
    "from copy import deepcopy\n",
    "from scipy import stats\n",
    "from astropy.io import fits\n",
    "\n",
    "from matplotlib.colors import SymLogNorm\n",
    "import sys\n",
    "import os\n",
    "from hera_qm import xrfi as xrfi\n",
    "import numpy.ma as ma\n",
    "from glob import glob\n",
    "import math\n"
   ]
  },
  {
   "cell_type": "code",
   "execution_count": 2,
   "metadata": {
    "ExecuteTime": {
     "end_time": "2018-08-09T21:13:01.810562Z",
     "start_time": "2018-08-09T21:10:09.132355Z"
    }
   },
   "outputs": [
    {
     "name": "stderr",
     "output_type": "stream",
     "text": [
      "Combined polarizations are not evenly spaced. This will make it impossible to write this data out to some file types.\n"
     ]
    }
   ],
   "source": [
    "\n",
    "data_file_list = ['/data6/HERA/data/2458042/zen.2458042.12552.xx.HH.uv','/data6/HERA/data/2458042/zen.2458042.12552.yy.HH.uv','/data6/HERA/data/2458042/zen.2458042.12552.yx.HH.uv','/data6/HERA/data/2458042/zen.2458042.12552.xy.HH.uv']\n",
    "\n",
    "uv = UVData()\n",
    "\n",
    "uv.read_miriad(data_file_list)\n"
   ]
  },
  {
   "cell_type": "code",
   "execution_count": 3,
   "metadata": {
    "ExecuteTime": {
     "end_time": "2018-08-09T21:13:04.726689Z",
     "start_time": "2018-08-09T21:13:01.814290Z"
    },
    "collapsed": true
   },
   "outputs": [],
   "source": [
    "\n",
    "aa = hera_cal.utils.get_aa_from_uv(uv)\n",
    "\n",
    "info = hera_cal.omni.aa_to_info(aa)\n",
    "\n",
    "reds = info.get_reds()\n"
   ]
  },
  {
   "cell_type": "code",
   "execution_count": 4,
   "metadata": {
    "ExecuteTime": {
     "end_time": "2018-08-09T21:15:59.007221Z",
     "start_time": "2018-08-09T21:13:04.730204Z"
    },
    "collapsed": true
   },
   "outputs": [],
   "source": [
    "\n",
    "am = ant_metrics.Antenna_Metrics(data_file_list, reds, fileformat = 'miriad')\n",
    "\n",
    "am.xants = []\n"
   ]
  },
  {
   "cell_type": "code",
   "execution_count": 5,
   "metadata": {
    "ExecuteTime": {
     "end_time": "2018-08-09T21:16:09.169190Z",
     "start_time": "2018-08-09T21:15:59.009579Z"
    },
    "collapsed": true
   },
   "outputs": [],
   "source": [
    "\n",
    "v = deepcopy(uv)\n"
   ]
  },
  {
   "cell_type": "code",
   "execution_count": 6,
   "metadata": {
    "ExecuteTime": {
     "end_time": "2018-08-09T21:16:09.194933Z",
     "start_time": "2018-08-09T21:16:09.172185Z"
    },
    "collapsed": true
   },
   "outputs": [],
   "source": [
    "\n",
    "bases = []\n",
    "\n",
    "lst = uv.get_antpairpols()\n",
    "\n",
    "for i in range(uv.Nbls):\n",
    "    \n",
    "    pair = lst[4*i]\n",
    "    \n",
    "    bases.append((pair[0],pair[1]))\n"
   ]
  },
  {
   "cell_type": "code",
   "execution_count": 7,
   "metadata": {
    "ExecuteTime": {
     "end_time": "2018-08-09T21:16:09.400706Z",
     "start_time": "2018-08-09T21:16:09.197033Z"
    },
    "collapsed": true
   },
   "outputs": [],
   "source": [
    "\n",
    "nonreds = []\n",
    "\n",
    "for i in bases:\n",
    "    \n",
    "    flag = 0\n",
    "    \n",
    "    for j in reds:\n",
    "        \n",
    "        for k in j:\n",
    "            \n",
    "            if i == k:\n",
    "                \n",
    "                flag = 1\n",
    "                \n",
    "    if flag == 0:\n",
    "        \n",
    "        nonreds.append(i)\n"
   ]
  },
  {
   "cell_type": "code",
   "execution_count": 8,
   "metadata": {
    "ExecuteTime": {
     "end_time": "2018-08-09T21:16:09.438695Z",
     "start_time": "2018-08-09T21:16:09.402708Z"
    },
    "collapsed": true
   },
   "outputs": [],
   "source": [
    "\n",
    "def signal(amp,width,baseline):\n",
    "    \n",
    "    ant_1 = baseline[0]\n",
    "    \n",
    "    ant_2 = baseline[1]\n",
    "    \n",
    "    ant_1_ind = np.where(uv.antenna_numbers==ant_1)\n",
    "    \n",
    "    ant_2_ind = np.where(uv.antenna_numbers==ant_2)\n",
    "    \n",
    "    if (ant_1 == ant_2):\n",
    "        \n",
    "        return np.zeros((60,1024,4))\n",
    "    \n",
    "    dist = np.linalg.norm(uv.antenna_positions[ant_1_ind]-uv.antenna_positions[ant_2_ind])\n",
    "    \n",
    "    c = float(3e8)\n",
    "    \n",
    "    B = float(uv.freq_array[0][-1]-uv.freq_array[0][1])\n",
    "    \n",
    "    del_tau = 2.*np.pi / B\n",
    "    \n",
    "    tau = dist / c\n",
    "    \n",
    "    temp = np.zeros((60,1024,4))\n",
    "    \n",
    "    T = uv.Ntimes*10\n",
    "    \n",
    "    del_nu = 2.*np.pi / T\n",
    "    \n",
    "    earth_rot = 2*np.pi / 86164.09053\n",
    "    \n",
    "    freq_naught = np.median(uv.freq_array[0])\n",
    "    \n",
    "    nu = earth_rot * dist * freq_naught / c\n",
    "    \n",
    "    for i in range(uv.Ntimes/2):\n",
    "        \n",
    "        for j in range(int(math.ceil(float(tau/del_tau)))):\n",
    "            \n",
    "            temp[i][j][0]= np.random.normal(amp,width) * np.exp(-i*(del_nu/nu))\n",
    "            \n",
    "            if (i != 0):\n",
    "            \n",
    "                temp[-i][j][0] = np.random.normal(amp,width) * np.exp(-i*(del_nu/nu))\n",
    "            \n",
    "    result = np.fft.fftn(temp)\n",
    "    \n",
    "    return result\n"
   ]
  },
  {
   "cell_type": "code",
   "execution_count": 9,
   "metadata": {
    "ExecuteTime": {
     "end_time": "2018-08-09T21:16:09.452704Z",
     "start_time": "2018-08-09T21:16:09.440813Z"
    },
    "collapsed": true
   },
   "outputs": [],
   "source": [
    "\n",
    "nu_rang = np.zeros((60,1024,4))\n",
    "    \n",
    "tau_rang = np.zeros((60,1024,4))\n",
    "    \n",
    "for i in range(uv.Ntimes):\n",
    "        \n",
    "    nu_rang[i,:,:] = -i\n",
    "        \n",
    "for j in range(uv.Nfreqs/2 + 1):\n",
    "        \n",
    "    tau_rang[:,j,:] = j\n",
    "    \n",
    "    if (j != 0):\n",
    "        \n",
    "        tau_rang[:,-j,:] = j\n",
    "  "
   ]
  },
  {
   "cell_type": "code",
   "execution_count": 10,
   "metadata": {
    "ExecuteTime": {
     "end_time": "2018-08-09T21:16:09.483798Z",
     "start_time": "2018-08-09T21:16:09.454410Z"
    },
    "collapsed": true
   },
   "outputs": [],
   "source": [
    "\n",
    "def signal(amp,width,baseline):\n",
    "    \n",
    "    ant_1 = baseline[0]\n",
    "    \n",
    "    ant_2 = baseline[1]\n",
    "    \n",
    "    if (ant_1 == ant_2):\n",
    "        \n",
    "        return np.zeros((60,1024,4))\n",
    "    \n",
    "    ant_1_ind = np.where(uv.antenna_numbers==ant_1)\n",
    "    \n",
    "    ant_2_ind = np.where(uv.antenna_numbers==ant_2)\n",
    "    \n",
    "    dist = np.linalg.norm(uv.antenna_positions[ant_1_ind]-uv.antenna_positions[ant_2_ind])\n",
    "    \n",
    "    c = float(3e8)\n",
    "    \n",
    "    B = float(uv.freq_array[0][-1]-uv.freq_array[0][1])\n",
    "    \n",
    "    del_tau = 1. / B\n",
    "    \n",
    "    tau = (c * del_tau) / (dist * np.cos(15*np.pi / 180))\n",
    "    \n",
    "    temp = np.zeros((60,1024,4),dtype = complex)\n",
    "    \n",
    "    T = uv.Ntimes*10\n",
    "    \n",
    "    del_nu = 1. / T\n",
    "    \n",
    "    earth_rot = 1. / 86164.09053\n",
    "    \n",
    "    freq_naught = np.median(uv.freq_array[0])\n",
    "    \n",
    "    nu = earth_rot * dist * freq_naught / c\n",
    "    \n",
    "    temp = np.random.normal(amp,width,(60,1024,4)) * np.exp(nu_rang*(del_nu/nu)) * np.sinc(tau_rang*tau)\n",
    "    \n",
    "    result = np.fft.fftn(temp)\n",
    "    \n",
    "    return result\n",
    "    "
   ]
  },
  {
   "cell_type": "code",
   "execution_count": 11,
   "metadata": {
    "ExecuteTime": {
     "end_time": "2018-08-09T21:16:09.489734Z",
     "start_time": "2018-08-09T21:16:09.485804Z"
    },
    "collapsed": true
   },
   "outputs": [],
   "source": [
    "\n",
    "def noise(amp,width):\n",
    "    \n",
    "    result = np.random.normal(amp,width,(60,1024,4))\n",
    "    \n",
    "    return result\n"
   ]
  },
  {
   "cell_type": "code",
   "execution_count": 12,
   "metadata": {
    "ExecuteTime": {
     "end_time": "2018-08-09T21:16:09.496419Z",
     "start_time": "2018-08-09T21:16:09.491591Z"
    },
    "collapsed": true
   },
   "outputs": [],
   "source": [
    "\n",
    "ants = uv.antenna_numbers\n",
    "\n",
    "ant_delay = {}\n",
    "\n",
    "for i in ants:\n",
    "    \n",
    "    ant_delay[i] = np.random.normal(0,2e-7)\n",
    "    #ant_delay[i] = np.random.randint(10)\n",
    "    "
   ]
  },
  {
   "cell_type": "code",
   "execution_count": 13,
   "metadata": {
    "ExecuteTime": {
     "end_time": "2018-08-09T21:16:09.762783Z",
     "start_time": "2018-08-09T21:16:09.498151Z"
    },
    "collapsed": true
   },
   "outputs": [],
   "source": [
    "\n",
    "def generate_random_data(x_width,xants):    \n",
    "    \n",
    "    new_data_array = np.zeros((67680, 1, 1024, 4),dtype = complex)\n",
    "    \n",
    "    s_amp = 0\n",
    "    \n",
    "    s_width = 1\n",
    "    \n",
    "    i_width = 0.5\n",
    "    \n",
    "    i_amp = 0\n",
    "    \n",
    "    n_amp = 0\n",
    "    \n",
    "    n_width = 0.1\n",
    "\n",
    "    x_amp = 0\n",
    "    \n",
    "    snr = 10\n",
    "    \n",
    "    for i in reds:\n",
    "        \n",
    "        sig = signal(s_amp,s_width,i[0])\n",
    "        \n",
    "        for j in i:\n",
    "            \n",
    "            sig[:,:,0] *= np.exp(1j*uv.freq_array[0][:]*ant_delay[j[0]])*np.exp(1j*uv.freq_array[0][:]*ant_delay[j[1]])\n",
    "        \n",
    "            sig[:,:,1] *= np.exp(1j*uv.freq_array[0][:]*ant_delay[j[0]])*np.exp(1j*uv.freq_array[0][:]*ant_delay[j[1]])\n",
    "        \n",
    "            sig[:,:,2] *= np.exp(1j*uv.freq_array[0][:]*ant_delay[j[0]])*np.exp(1j*uv.freq_array[0][:]*ant_delay[j[1]])\n",
    "        \n",
    "            sig[:,:,3] *= np.exp(1j*uv.freq_array[0][:]*ant_delay[j[0]])*np.exp(1j*uv.freq_array[0][:]*ant_delay[j[1]])\n",
    "            \n",
    "            indices = v.antpair2ind(j[0],j[1])\n",
    "        \n",
    "            i_sig = signal(i_amp,i_width,j)\n",
    "            \n",
    "            i_sig[:,:,0] *= np.exp(1j*uv.freq_array[0][:]*ant_delay[j[0]])*np.exp(1j*uv.freq_array[0][:]*ant_delay[j[1]])\n",
    "        \n",
    "            i_sig[:,:,1] *= np.exp(1j*uv.freq_array[0][:]*ant_delay[j[0]])*np.exp(1j*uv.freq_array[0][:]*ant_delay[j[1]])\n",
    "        \n",
    "            i_sig[:,:,2] *= np.exp(1j*uv.freq_array[0][:]*ant_delay[j[0]])*np.exp(1j*uv.freq_array[0][:]*ant_delay[j[1]])\n",
    "        \n",
    "            i_sig[:,:,3] *= np.exp(1j*uv.freq_array[0][:]*ant_delay[j[0]])*np.exp(1j*uv.freq_array[0][:]*ant_delay[j[1]])\n",
    "            \n",
    "            flag_xant = False\n",
    "            \n",
    "            for xant in xants:\n",
    "                \n",
    "                if ((j[0] == xant) or (j[1] == xant)):\n",
    "\n",
    "                    x_sig = signal(x_amp,x_width,j)\n",
    "\n",
    "                    x_sig[:,:,0] *= np.exp(1j*uv.freq_array[0][:]*ant_delay[j[0]])*np.exp(1j*uv.freq_array[0][:]*ant_delay[j[1]])\n",
    "\n",
    "                    x_sig[:,:,1] *= np.exp(1j*uv.freq_array[0][:]*ant_delay[j[0]])*np.exp(1j*uv.freq_array[0][:]*ant_delay[j[1]])\n",
    "\n",
    "                    x_sig[:,:,2] *= np.exp(1j*uv.freq_array[0][:]*ant_delay[j[0]])*np.exp(1j*uv.freq_array[0][:]*ant_delay[j[1]])\n",
    "\n",
    "                    x_sig[:,:,3] *= np.exp(1j*uv.freq_array[0][:]*ant_delay[j[0]])*np.exp(1j*uv.freq_array[0][:]*ant_delay[j[1]])\n",
    "\n",
    "                    norm_power = float(s_width**2)\n",
    "\n",
    "                    new_power = float(norm_power + i_width**2 + x_width**2)\n",
    "\n",
    "                    ratio = np.sqrt(norm_power/new_power)\n",
    "\n",
    "                    sigs = (sig + i_sig + x_sig) * ratio\n",
    "                    \n",
    "                    flag_xant = True\n",
    "                    \n",
    "                    break\n",
    "                    \n",
    "            if not flag_xant:\n",
    "\n",
    "                norm_power = float(s_width**2)\n",
    "\n",
    "                new_power = float(norm_power + i_width**2)\n",
    "\n",
    "                ratio = np.sqrt(norm_power/new_power)\n",
    "\n",
    "                sigs = (sig + i_sig) * ratio\n",
    "            \n",
    "            noi = noise(n_amp,n_width)\n",
    "        \n",
    "            noi_power = np.mean(np.abs(noi))\n",
    "        \n",
    "            sig_power = np.mean(np.abs(sigs))\n",
    "        \n",
    "            noi_mod = snr/(sig_power/noi_power)\n",
    "        \n",
    "            noi /= noi_mod\n",
    "            \n",
    "            visibility = sigs + noi\n",
    "            \n",
    "            new_data_array[indices,0,:,:] = visibility\n",
    "            \n",
    "            \n",
    "    for k in nonreds:\n",
    "        \n",
    "        sig = signal(s_amp,s_width,k)\n",
    "        \n",
    "        i_sig = signal(i_amp,i_width,j)\n",
    "        \n",
    "        norm_power = float(s_width**2)\n",
    "        \n",
    "        new_power = float(norm_power + i_width**2)\n",
    "        \n",
    "        ratio = np.sqrt(norm_power/new_power)\n",
    "        \n",
    "        sigs = (sig + i_sig) * ratio\n",
    "        \n",
    "        indices = v.antpair2ind(k[0],k[1])\n",
    "        \n",
    "        noi = noise(n_amp,n_width)\n",
    "        \n",
    "        noi_power = np.mean(np.abs(noi))\n",
    "        \n",
    "        sig_power = np.mean(np.abs(sigs))\n",
    "        \n",
    "        noi_mod = snr/(sig_power/noi_power)\n",
    "        \n",
    "        noi /= noi_mod\n",
    "        \n",
    "        visibility = sig\n",
    "        \n",
    "        new_data_array[indices,0,:,:] = visibility\n",
    "        \n",
    "        return new_data_array"
   ]
  },
  {
   "cell_type": "code",
   "execution_count": 14,
   "metadata": {
    "ExecuteTime": {
     "end_time": "2018-08-09T21:16:09.774838Z",
     "start_time": "2018-08-09T21:16:09.768746Z"
    },
    "code_folding": [
     1
    ],
    "collapsed": true
   },
   "outputs": [],
   "source": [
    "\n",
    "def new_compute_median_auto_power_dict(data, pols, reds):\n",
    "    \n",
    "    autoPower = {}\n",
    "    for pol in pols:\n",
    "        for bls in reds:\n",
    "            for (i, j) in bls:\n",
    "                autoPower[i, j, pol] = np.median(np.mean(np.abs(data.get_data(i, j, pol))**2, axis=1))\n",
    "    return autoPower\n"
   ]
  },
  {
   "cell_type": "code",
   "execution_count": 15,
   "metadata": {
    "ExecuteTime": {
     "end_time": "2018-08-09T21:16:09.823961Z",
     "start_time": "2018-08-09T21:16:09.776672Z"
    },
    "code_folding": [
     0
    ],
    "collapsed": true
   },
   "outputs": [],
   "source": [
    "def new_red_corr_metrics(data, pols, antpols, ants, reds, xants=[], rawMetric=False, crossPol=False):\n",
    "\n",
    "    # Compute power correlations and assign them to each antenna\n",
    "    autoPower = new_compute_median_auto_power_dict(data, pols, reds)\n",
    "    antCorrs = {(ant, antpol): 0.0 for ant in ants for antpol in antpols if\n",
    "                (ant, antpol) not in xants}\n",
    "    antCounts = deepcopy(antCorrs)\n",
    "    for pol0 in pols:\n",
    "        for pol1 in pols:\n",
    "            iscrossed_i = (pol0[0] != pol1[0])\n",
    "            iscrossed_j = (pol0[1] != pol1[1])\n",
    "            onlyOnePolCrossed = (iscrossed_i ^ iscrossed_j)\n",
    "            # This function can instead record correlations for antennas whose counterpart are pol-swapped\n",
    "            if (not crossPol and (pol0 is pol1)) or (crossPol and onlyOnePolCrossed):\n",
    "                for bls in reds:\n",
    "                    for n, (ant0_i, ant0_j) in enumerate(bls):\n",
    "                        data0 = data.get_data(ant0_i, ant0_j, pol0)\n",
    "                        for (ant1_i, ant1_j) in bls[n + 1:]:\n",
    "                            data1 = data.get_data(ant1_i, ant1_j, pol1)\n",
    "                            corr = np.median(np.mean(np.abs(data0) * np.abs(data1),axis=1))\n",
    "                            \n",
    "                            corr /= np.sqrt(autoPower[ant0_i, ant0_j, pol0] *\n",
    "                                            autoPower[ant1_i, ant1_j, pol1])\n",
    "                            antsInvolved = [(ant0_i, pol0[0]), (ant0_j, pol0[1]),\n",
    "                                            (ant1_i, pol1[0]), (ant1_j, pol1[1])]\n",
    "                            if not np.any([(ant, antpol) in xants for ant, antpol\n",
    "                                           in antsInvolved]):\n",
    "                                # Only record the crossed antenna if i or j is crossed\n",
    "                                if crossPol and iscrossed_i:\n",
    "                                    antsInvolved = [(ant0_i, pol0[0]),\n",
    "                                                    (ant1_i, pol1[0])]\n",
    "                                elif crossPol and iscrossed_j:\n",
    "                                    antsInvolved = [(ant0_j, pol0[1]), (ant1_j, pol1[1])]\n",
    "                                for ant, antpol in antsInvolved:\n",
    "                                    antCorrs[(ant, antpol)] += corr\n",
    "                                    antCounts[(ant, antpol)] += 1\n",
    "\n",
    "    # Compute average and return\n",
    "    for key, count in antCounts.items():\n",
    "        if count > 0:\n",
    "            antCorrs[key] /= count\n",
    "        else:\n",
    "            # Was not found in reds, should not have a valid metric.\n",
    "            antCorrs[key] = np.NaN\n",
    "    if rawMetric:\n",
    "        return antCorrs\n",
    "    else:\n",
    "        return per_antenna_modified_z_scores(antCorrs)\n"
   ]
  },
  {
   "cell_type": "code",
   "execution_count": 16,
   "metadata": {
    "ExecuteTime": {
     "end_time": "2018-08-09T21:16:09.867479Z",
     "start_time": "2018-08-09T21:16:09.826088Z"
    },
    "code_folding": [],
    "collapsed": true
   },
   "outputs": [],
   "source": [
    "\n",
    "def generate_random_array(width_array,xant_array):\n",
    "    \n",
    "    new_array = list(np.zeros((10,10,2)))\n",
    "    \n",
    "    for i in range(len(width_array)):\n",
    "        \n",
    "        print 'i: ' + str(i)\n",
    "        \n",
    "        for j in range(len(width_array[i])):\n",
    "            \n",
    "            print 'j: ' + str(j)\n",
    "            \n",
    "            x_width = float(width_array[i][j][0])\n",
    "            \n",
    "            xants = int(width_array[i][j][1])\n",
    "            \n",
    "            xants_temp = xant_array[:xants]\n",
    "            \n",
    "            temp_array = generate_random_data(x_width,xants_temp)\n",
    "            \n",
    "            v.data_array = temp_array\n",
    "            \n",
    "            am.data.data_array = temp_array\n",
    "            \n",
    "            rawRed = new_red_corr_metrics(v,['xx','yy','xy','yx'],['x','y'],uv.antenna_numbers,reds,am.xants,rawMetric = True)\n",
    "            \n",
    "            z_scores = ant_metrics.per_antenna_modified_z_scores(rawRed)\n",
    "            \n",
    "            count_good = 0\n",
    "            \n",
    "            count_bad = 0\n",
    "\n",
    "            for key in z_scores.keys():\n",
    "                \n",
    "                if z_scores[key] <= -5.0:\n",
    "                    \n",
    "                    flag_good = False\n",
    "                    \n",
    "                    for xant in xants_temp:\n",
    "                    \n",
    "                        if int(xant) == int(key[0]):\n",
    "\n",
    "                            count_good += 1\n",
    "                            \n",
    "                            flag_good = True\n",
    "                            \n",
    "                            break\n",
    "                            \n",
    "                    if not flag_good:\n",
    "                        \n",
    "                        count_bad += 1\n",
    "            \n",
    "            new_array[i][j][0] = count_good\n",
    "            \n",
    "            new_array[i][j][1] = count_bad\n",
    "            \n",
    "    return new_array\n",
    "    \n"
   ]
  },
  {
   "cell_type": "code",
   "execution_count": 17,
   "metadata": {
    "ExecuteTime": {
     "end_time": "2018-08-09T21:16:09.874124Z",
     "start_time": "2018-08-09T21:16:09.869586Z"
    },
    "collapsed": true
   },
   "outputs": [],
   "source": [
    "\n",
    "input_array = []\n",
    "\n",
    "for i in range(10):\n",
    "    \n",
    "    input_array.append([])\n",
    "    \n",
    "    for j in range(10):\n",
    "        \n",
    "        input_array[i].append([])\n"
   ]
  },
  {
   "cell_type": "code",
   "execution_count": 18,
   "metadata": {
    "ExecuteTime": {
     "end_time": "2018-08-09T21:16:09.880364Z",
     "start_time": "2018-08-09T21:16:09.875907Z"
    },
    "collapsed": true
   },
   "outputs": [],
   "source": [
    "\n",
    "x_vals = [0,0.25,0.5,0.75,1.0,1.25,1.5,2.,3.,4.]\n",
    "\n",
    "xants = [1,2,3,4,5,6,7,8,9,10]\n",
    "\n",
    "xant_array= np.array([0,1,2,11,12,39,50,51,52,121])\n"
   ]
  },
  {
   "cell_type": "code",
   "execution_count": 19,
   "metadata": {
    "ExecuteTime": {
     "end_time": "2018-08-09T21:16:09.890104Z",
     "start_time": "2018-08-09T21:16:09.882196Z"
    },
    "collapsed": true
   },
   "outputs": [],
   "source": [
    "\n",
    "for i in range(10):\n",
    "    \n",
    "    for j in range(10):\n",
    "        \n",
    "        input_array[i][j] = (x_vals[i],xants[j])\n"
   ]
  },
  {
   "cell_type": "code",
   "execution_count": null,
   "metadata": {
    "ExecuteTime": {
     "start_time": "2018-08-09T21:11:05.298Z"
    }
   },
   "outputs": [
    {
     "name": "stdout",
     "output_type": "stream",
     "text": [
      "[[(0, 1), (0, 2), (0, 3), (0, 4), (0, 5), (0, 6), (0, 7), (0, 8), (0, 9), (0, 10)], [(0.25, 1), (0.25, 2), (0.25, 3), (0.25, 4), (0.25, 5), (0.25, 6), (0.25, 7), (0.25, 8), (0.25, 9), (0.25, 10)], [(0.5, 1), (0.5, 2), (0.5, 3), (0.5, 4), (0.5, 5), (0.5, 6), (0.5, 7), (0.5, 8), (0.5, 9), (0.5, 10)], [(0.75, 1), (0.75, 2), (0.75, 3), (0.75, 4), (0.75, 5), (0.75, 6), (0.75, 7), (0.75, 8), (0.75, 9), (0.75, 10)], [(1.0, 1), (1.0, 2), (1.0, 3), (1.0, 4), (1.0, 5), (1.0, 6), (1.0, 7), (1.0, 8), (1.0, 9), (1.0, 10)], [(1.25, 1), (1.25, 2), (1.25, 3), (1.25, 4), (1.25, 5), (1.25, 6), (1.25, 7), (1.25, 8), (1.25, 9), (1.25, 10)], [(1.5, 1), (1.5, 2), (1.5, 3), (1.5, 4), (1.5, 5), (1.5, 6), (1.5, 7), (1.5, 8), (1.5, 9), (1.5, 10)], [(2.0, 1), (2.0, 2), (2.0, 3), (2.0, 4), (2.0, 5), (2.0, 6), (2.0, 7), (2.0, 8), (2.0, 9), (2.0, 10)], [(3.0, 1), (3.0, 2), (3.0, 3), (3.0, 4), (3.0, 5), (3.0, 6), (3.0, 7), (3.0, 8), (3.0, 9), (3.0, 10)], [(4.0, 1), (4.0, 2), (4.0, 3), (4.0, 4), (4.0, 5), (4.0, 6), (4.0, 7), (4.0, 8), (4.0, 9), (4.0, 10)]]\n"
     ]
    }
   ],
   "source": [
    "print input_array"
   ]
  },
  {
   "cell_type": "code",
   "execution_count": null,
   "metadata": {
    "ExecuteTime": {
     "start_time": "2018-08-09T21:11:23.232Z"
    },
    "scrolled": true
   },
   "outputs": [
    {
     "name": "stdout",
     "output_type": "stream",
     "text": [
      "i: 0\n",
      "j: 0\n",
      "j: 1\n",
      "j: 2\n",
      "j: 3\n",
      "j: 4\n",
      "j: 5\n",
      "j: 6\n",
      "j: 7\n",
      "j: 8\n",
      "j: 9\n",
      "i: 1\n",
      "j: 0\n",
      "j: 1\n",
      "j: 2\n",
      "j: 3\n",
      "j: 4\n",
      "j: 5\n",
      "j: 6\n",
      "j: 7\n",
      "j: 8\n",
      "j: 9\n",
      "i: 2\n",
      "j: 0\n",
      "j: 1\n",
      "j: 2\n",
      "j: 3\n",
      "j: 4\n",
      "j: 5\n",
      "j: 6\n",
      "j: 7\n",
      "j: 8\n"
     ]
    }
   ],
   "source": [
    "\n",
    "holder_array_jm_xants = generate_random_array(input_array,xant_array)\n",
    "\n",
    "np.savez('holder_array_jm_xants.npz',holder_array_jm_xants)\n"
   ]
  },
  {
   "cell_type": "code",
   "execution_count": null,
   "metadata": {
    "ExecuteTime": {
     "start_time": "2018-08-09T19:38:15.190Z"
    },
    "collapsed": true
   },
   "outputs": [],
   "source": [
    "\n",
    "#data = np.load('holder_array_jm_xants.npz')\n",
    "\n",
    "#holder_array = data['arr_0']\n",
    "\n",
    "holder_array = holder_array_jm_xants\n"
   ]
  },
  {
   "cell_type": "code",
   "execution_count": null,
   "metadata": {
    "ExecuteTime": {
     "start_time": "2018-08-09T19:38:15.917Z"
    },
    "collapsed": true,
    "scrolled": true
   },
   "outputs": [],
   "source": [
    "print holder_array"
   ]
  },
  {
   "cell_type": "code",
   "execution_count": null,
   "metadata": {
    "collapsed": true
   },
   "outputs": [],
   "source": [
    "array_1 = []\n",
    "\n",
    "for i in range(10):\n",
    "    \n",
    "    array_1.append([])\n",
    "    \n",
    "    for j in range(10):\n",
    "        \n",
    "        array_1[i].append(holder_array[i][j][0])\n",
    "        \n",
    "print array_1"
   ]
  },
  {
   "cell_type": "code",
   "execution_count": null,
   "metadata": {
    "collapsed": true
   },
   "outputs": [],
   "source": [
    "array_2 = []\n",
    "\n",
    "for i in range(10):\n",
    "    \n",
    "    array_2.append([])\n",
    "    \n",
    "    for j in range(10):\n",
    "        \n",
    "        array_2[i].append(holder_array[i][j][1])\n",
    "        \n",
    "print array_2"
   ]
  },
  {
   "cell_type": "code",
   "execution_count": null,
   "metadata": {
    "collapsed": true
   },
   "outputs": [],
   "source": [
    "\n",
    "plt.figure(figsize=(8,8))\n",
    "plt.imshow(array_1,aspect='auto')\n",
    "plt.title('Number of antenna correctly flagged Dead')\n",
    "plt.ylabel('Bad Signal level (Unequal Increments)')\n",
    "plt.xlabel('Number of Bad Antennas')\n",
    "plt.colorbar()\n",
    "plt.show()\n"
   ]
  },
  {
   "cell_type": "code",
   "execution_count": null,
   "metadata": {
    "collapsed": true
   },
   "outputs": [],
   "source": [
    "\n",
    "plt.figure(figsize=(8,8))\n",
    "plt.imshow(array_2,aspect='auto')\n",
    "plt.title('Number of antenna falsely flagged Dead')\n",
    "plt.ylabel('Bad Signal level (Unequal Increments)')\n",
    "plt.xlabel('Number of Bad Antennas')\n",
    "plt.colorbar()\n",
    "plt.show()\n"
   ]
  },
  {
   "cell_type": "code",
   "execution_count": null,
   "metadata": {
    "collapsed": true
   },
   "outputs": [],
   "source": [
    "\n",
    "total_flag_array = array_1 + array_2\n",
    "\n",
    "flag_diff_array = np.zeros((10,10))\n",
    "\n",
    "total_diff_array = np.zeros((10,10))\n",
    "\n",
    "for i in range(len(array_1)):\n",
    "    \n",
    "    for j in range(len(array_1[0])):\n",
    "        \n",
    "        flag_diff_array[i][j] = array_1[i][j] - 2*xants[j]\n",
    "        \n",
    "        total_diff_array[i][j] = total_flag_array - 2*xants[j]\n",
    "        "
   ]
  },
  {
   "cell_type": "code",
   "execution_count": null,
   "metadata": {
    "collapsed": true
   },
   "outputs": [],
   "source": [
    "\n",
    "plt.figure(figsize=(8,8))\n",
    "plt.imshow(flag_diff_array,aspect='auto')\n",
    "plt.title('Difference from Expected Flags (Correct Flags)')\n",
    "plt.ylabel('Bad Signal level (Unequal Increments)')\n",
    "plt.xlabel('Number of Bad Antennas')\n",
    "plt.colorbar()\n",
    "plt.show()\n"
   ]
  },
  {
   "cell_type": "code",
   "execution_count": null,
   "metadata": {
    "collapsed": true
   },
   "outputs": [],
   "source": [
    "\n",
    "plt.figure(figsize=(8,8))\n",
    "plt.imshow(total_diff_array,aspect='auto')\n",
    "plt.title('Difference from Expected Flags (All Flags)')\n",
    "plt.ylabel('Bad Signal level (Unequal Increments)')\n",
    "plt.xlabel('Number of Bad Antennas')\n",
    "plt.colorbar()\n",
    "plt.show()\n"
   ]
  }
 ],
 "metadata": {
  "kernelspec": {
   "display_name": "Python 2",
   "language": "python",
   "name": "python2"
  },
  "language_info": {
   "codemirror_mode": {
    "name": "ipython",
    "version": 2
   },
   "file_extension": ".py",
   "mimetype": "text/x-python",
   "name": "python",
   "nbconvert_exporter": "python",
   "pygments_lexer": "ipython2",
   "version": "2.7.13"
  }
 },
 "nbformat": 4,
 "nbformat_minor": 2
}
