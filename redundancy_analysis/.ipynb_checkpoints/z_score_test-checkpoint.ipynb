{
 "cells": [
  {
   "cell_type": "code",
   "execution_count": 1,
   "metadata": {
    "ExecuteTime": {
     "end_time": "2018-07-09T18:10:49.333456Z",
     "start_time": "2018-07-09T18:10:47.137465Z"
    },
    "collapsed": true
   },
   "outputs": [],
   "source": [
    "import numpy as np\n",
    "import matplotlib.pyplot as plt\n",
    "from pyuvdata import UVData\n",
    "from pyuvdata import uvutils\n",
    "from hera_qm import ant_metrics\n",
    "import hera_cal\n",
    "from copy import deepcopy\n",
    "from scipy.signal import medfilt2d\n",
    "\n",
    "from matplotlib.colors import SymLogNorm\n",
    "import sys\n",
    "import os\n",
    "from hera_qm import xrfi as xrfi\n",
    "import numpy.ma as ma\n",
    "from glob import glob\n",
    "import math"
   ]
  },
  {
   "cell_type": "code",
   "execution_count": 29,
   "metadata": {
    "ExecuteTime": {
     "end_time": "2018-07-09T18:46:40.574155Z",
     "start_time": "2018-07-09T18:46:40.567356Z"
    }
   },
   "outputs": [],
   "source": [
    "\n",
    "data_file_list = ['/data6/HERA/data/2458042/zen.2458042.12552.xx.HH.uv','/data6/HERA/data/2458042/zen.2458042.12552.yy.HH.uv','/data6/HERA/data/2458042/zen.2458042.12552.yx.HH.uv','/data6/HERA/data/2458042/zen.2458042.12552.xy.HH.uv']\n",
    "\n",
    "m_data_file_list = ['/data6/HERA/HERA_imaging/redundancy_analysis/zen.2458042.12552.xx.HH.uv.m1','/data6/HERA/HERA_imaging/redundancy_analysis/zen.2458042.12552.yy.HH.uv.m1','/data6/HERA/HERA_imaging/redundancy_analysis/zen.2458042.12552.yx.HH.uv.m1','/data6/HERA/HERA_imaging/redundancy_analysis/zen.2458042.12552.xy.HH.uv.m1']\n",
    "\n",
    "uv = UVData()\n"
   ]
  },
  {
   "cell_type": "code",
   "execution_count": null,
   "metadata": {
    "collapsed": true
   },
   "outputs": [],
   "source": [
    "\n",
    "uv.read_miriad(data_file_list)\n"
   ]
  },
  {
   "cell_type": "code",
   "execution_count": 30,
   "metadata": {
    "ExecuteTime": {
     "end_time": "2018-07-09T18:48:47.659197Z",
     "start_time": "2018-07-09T18:46:43.232579Z"
    }
   },
   "outputs": [
    {
     "name": "stdout",
     "output_type": "stream",
     "text": [
      "File exists: clobbering\n",
      "File exists: clobbering\n",
      "File exists: clobbering\n",
      "File exists: clobbering\n"
     ]
    }
   ],
   "source": [
    "\n",
    "for file_name, output_file_name in zip(data_file_list,m_data_file_list):\n",
    "    \n",
    "    uv.read_miriad(file_name)\n",
    "\n",
    "    ant1 = 1\n",
    "    ant2 = 11\n",
    "\n",
    "    ind1 = np.where(ant1 == uv.ant_1_array)[0]\n",
    "\n",
    "    ind2 = np.where(ant2 == uv.ant_1_array)[0]\n",
    "\n",
    "    uv.ant_1_array[ind1] = ant2\n",
    "\n",
    "    uv.ant_1_array[ind2] = ant1\n",
    "\n",
    "    ind1 = np.where(ant1 == uv.ant_2_array)[0]\n",
    "\n",
    "    ind2 = np.where(ant2 == uv.ant_2_array)[0]\n",
    "\n",
    "    uv.ant_2_array[ind1] = ant2\n",
    "\n",
    "    uv.ant_2_array[ind2] = ant1\n",
    "    \n",
    "    uv.write_miriad(output_file_name,clobber=True)\n"
   ]
  },
  {
   "cell_type": "code",
   "execution_count": 31,
   "metadata": {
    "ExecuteTime": {
     "end_time": "2018-07-09T18:48:50.348077Z",
     "start_time": "2018-07-09T18:48:47.661217Z"
    },
    "collapsed": true
   },
   "outputs": [],
   "source": [
    "\n",
    "aa = hera_cal.utils.get_aa_from_uv(uv)\n",
    "\n",
    "info = hera_cal.omni.aa_to_info(aa)\n",
    "\n",
    "reds = info.get_reds()\n"
   ]
  },
  {
   "cell_type": "code",
   "execution_count": 32,
   "metadata": {
    "ExecuteTime": {
     "end_time": "2018-07-09T18:51:17.325725Z",
     "start_time": "2018-07-09T18:48:50.352707Z"
    }
   },
   "outputs": [],
   "source": [
    "\n",
    "am = ant_metrics.Antenna_Metrics(m_data_file_list, reds, fileformat = 'miriad')\n"
   ]
  },
  {
   "cell_type": "code",
   "execution_count": null,
   "metadata": {
    "ExecuteTime": {
     "end_time": "2018-07-09T17:55:23.573840Z",
     "start_time": "2018-07-09T17:55:23.540723Z"
    },
    "code_folding": [
     5
    ],
    "scrolled": true
   },
   "outputs": [],
   "source": [
    "\n",
    "bases = []\n",
    "\n",
    "lst = uv.get_antpairpols()\n",
    "\n",
    "for i in range(uv.Nbls):\n",
    "    \n",
    "    pair = lst[4*i]\n",
    "    \n",
    "    bases.append((pair[0],pair[1]))\n",
    "    \n",
    "print bases\n"
   ]
  },
  {
   "cell_type": "code",
   "execution_count": null,
   "metadata": {
    "ExecuteTime": {
     "end_time": "2018-07-09T17:55:23.792543Z",
     "start_time": "2018-07-09T17:55:23.575663Z"
    },
    "code_folding": [
     3
    ]
   },
   "outputs": [],
   "source": [
    "\n",
    "nonreds = []\n",
    "\n",
    "for i in bases:\n",
    "    \n",
    "    flag = 0\n",
    "    \n",
    "    for j in reds:\n",
    "        \n",
    "        for k in j:\n",
    "            \n",
    "            if i == k:\n",
    "                \n",
    "                flag = 1\n",
    "                \n",
    "    if flag == 0:\n",
    "        \n",
    "        nonreds.append(i)\n",
    "        \n",
    "    \n",
    "print nonreds\n"
   ]
  },
  {
   "cell_type": "code",
   "execution_count": 23,
   "metadata": {
    "ExecuteTime": {
     "end_time": "2018-07-09T18:39:22.977400Z",
     "start_time": "2018-07-09T18:39:17.460249Z"
    },
    "collapsed": true
   },
   "outputs": [],
   "source": [
    "v = deepcopy (uv)\n"
   ]
  },
  {
   "cell_type": "code",
   "execution_count": null,
   "metadata": {
    "ExecuteTime": {
     "end_time": "2018-07-09T18:09:24.223527Z",
     "start_time": "2018-07-09T18:09:24.173339Z"
    },
    "code_folding": [
     1
    ],
    "collapsed": true
   },
   "outputs": [],
   "source": [
    "\n",
    "def signal(amp,width,baseline):\n",
    "    \n",
    "    ant_1 = baseline[0]\n",
    "    \n",
    "    ant_2 = baseline[1]\n",
    "    \n",
    "    if (ant_1 == ant_2):\n",
    "        \n",
    "        return np.zeros((60,1024,4))\n",
    "    \n",
    "    ant_1_ind = np.where(v.antenna_numbers==ant_1)\n",
    "    \n",
    "    ant_2_ind = np.where(v.antenna_numbers==ant_2)\n",
    "    \n",
    "    dist = np.linalg.norm(v.antenna_positions[ant_1_ind]-v.antenna_positions[ant_2_ind])\n",
    "    \n",
    "    c = float(3e8)\n",
    "    \n",
    "    B = float(v.freq_array[0][-1]-v.freq_array[0][1])\n",
    "    \n",
    "    del_tau = 1. / B\n",
    "    \n",
    "    tau = (c * del_tau) / (dist * np.cos(15*np.pi / 180))\n",
    "    \n",
    "    temp = np.zeros((60,1024,4),dtype = complex)\n",
    "    \n",
    "    T = v.Ntimes*10\n",
    "    \n",
    "    del_nu = 1. / T\n",
    "    \n",
    "    earth_rot = 1. / 86164.09053\n",
    "    \n",
    "    freq_naught = np.median(v.freq_array[0])\n",
    "    \n",
    "    nu = earth_rot * dist * freq_naught / c\n",
    "    \n",
    "    temp = np.random.normal(amp,width,(60,1024,4)) * np.exp(nu_rang*(del_nu/nu)) * np.sinc(tau_rang*tau)\n",
    "    \n",
    "    result = np.zeros((60,1024,4),dtype = complex)\n",
    "    \n",
    "    result[:,:,0] = np.fft.fftn(temp[:,:,0])\n",
    "    \n",
    "    result[:,:,1] = np.fft.fftn(temp[:,:,1])\n",
    "    \n",
    "    result[:,:,2] = np.fft.fftn(temp[:,:,2])\n",
    "    \n",
    "    result[:,:,3] = np.fft.fftn(temp[:,:,3])\n",
    "    \n",
    "    return result\n",
    "    "
   ]
  },
  {
   "cell_type": "code",
   "execution_count": null,
   "metadata": {
    "ExecuteTime": {
     "end_time": "2018-07-09T18:09:24.877958Z",
     "start_time": "2018-07-09T18:09:24.861678Z"
    },
    "code_folding": [
     1
    ],
    "collapsed": true
   },
   "outputs": [],
   "source": [
    "\n",
    "def noise(amp,width):\n",
    "    \n",
    "    real = np.random.normal(amp,width,(60,1024,4))\n",
    "    \n",
    "    imag = np.random.normal(amp,width,(60,1024,4))\n",
    "    \n",
    "    sig = np.array(real,dtype = complex)\n",
    "    \n",
    "    sig.imag = imag\n",
    "    \n",
    "    result = sig\n",
    "    \n",
    "    return result\n"
   ]
  },
  {
   "cell_type": "code",
   "execution_count": null,
   "metadata": {
    "ExecuteTime": {
     "end_time": "2018-07-09T18:09:26.188124Z",
     "start_time": "2018-07-09T18:09:26.176026Z"
    },
    "code_folding": [],
    "collapsed": true
   },
   "outputs": [],
   "source": [
    "\n",
    "nu_rang = np.zeros((60,1024,4))\n",
    "    \n",
    "tau_rang = np.zeros((60,1024,4))\n",
    "    \n",
    "for i in range(v.Ntimes):\n",
    "        \n",
    "    nu_rang[i,:,:] = -i\n",
    "        \n",
    "for j in range(v.Nfreqs/2 + 1):\n",
    "        \n",
    "    tau_rang[:,j,:] = j\n",
    "    \n",
    "    if (j != 0):\n",
    "        \n",
    "        tau_rang[:,-j,:] = j\n",
    "    "
   ]
  },
  {
   "cell_type": "code",
   "execution_count": null,
   "metadata": {
    "ExecuteTime": {
     "end_time": "2018-07-09T18:09:44.358922Z",
     "start_time": "2018-07-09T18:09:38.287489Z"
    },
    "code_folding": [
     25
    ],
    "scrolled": true
   },
   "outputs": [],
   "source": [
    "\n",
    "new_data_array = np.zeros((67680, 1, 1024, 4),dtype = complex)\n",
    "\n",
    "sig_data_array = np.zeros((67680, 1, 1024, 4),dtype = complex)\n",
    "\n",
    "noi_data_array = np.zeros((67680, 1, 1024, 4),dtype = complex)\n",
    "\n",
    "s_width = 1\n",
    "\n",
    "s_amp = 0\n",
    "\n",
    "i_width = 0.3\n",
    "\n",
    "i_amp = 0\n",
    "\n",
    "n_width = 0.5\n",
    "\n",
    "n_amp = 0\n",
    "\n",
    "xant = 23\n",
    "\n",
    "x_width = 0.\n",
    "\n",
    "x_amp = 0\n",
    "\n",
    "for i in reds:\n",
    "        \n",
    "    sig = signal(s_amp,s_width,i[0])\n",
    "    \n",
    "    print 'working'\n",
    "        \n",
    "    for j in i:\n",
    "        \n",
    "        x_sig = 0\n",
    "        \n",
    "        i_sig = signal(i_amp,i_width,j)\n",
    "        \n",
    "        if ((j[0] == xant) or (j[1] == xant)):\n",
    "            \n",
    "            x_sig = signal(x_amp,x_width,j)\n",
    "            \n",
    "            norm_power = float(s_width**2)\n",
    "            \n",
    "            new_power = float(norm_power + i_width**2 + x_width**2)\n",
    "            \n",
    "            ratio = np.sqrt(norm_power/new_power)\n",
    "            \n",
    "            sigs = (sig + i_sig + x_sig) * ratio\n",
    "            \n",
    "        else:\n",
    "            \n",
    "            norm_power = float(s_width**2)\n",
    "            \n",
    "            new_power = float(norm_power + i_width**2)\n",
    "            \n",
    "            ratio = np.sqrt(norm_power/new_power)\n",
    "            \n",
    "            sigs = (sig + i_sig) * ratio\n",
    "            \n",
    "        indices = v.antpair2ind(j[0],j[1])\n",
    "            \n",
    "        noi = noise(n_amp,n_width)\n",
    "        \n",
    "        visibility = sigs + noi\n",
    "            \n",
    "        new_data_array[indices,0,:,:] = visibility\n",
    "        \n",
    "        sig_data_array[indices,0,:,:] = sig\n",
    "        \n",
    "        noi_data_array[indices,0,:,:] = noi\n",
    "            "
   ]
  },
  {
   "cell_type": "code",
   "execution_count": null,
   "metadata": {
    "ExecuteTime": {
     "end_time": "2018-07-09T18:09:50.092648Z",
     "start_time": "2018-07-09T18:09:45.930587Z"
    },
    "code_folding": [
     1
    ],
    "scrolled": true
   },
   "outputs": [],
   "source": [
    "\n",
    "for i in nonreds:\n",
    "    \n",
    "    print 'working'\n",
    "    \n",
    "    sig = signal(s_amp,s_width,i)\n",
    "    \n",
    "    i_sig = signal(i_amp,i_width,i)\n",
    "    \n",
    "    indices = v.antpair2ind(i[0],i[1])\n",
    "            \n",
    "    noi = noise(n_amp,n_width)\n",
    "    \n",
    "    x_sig = 0\n",
    "    \n",
    "    if ((i[0] == xant) or (i[1] == xant)):\n",
    "            \n",
    "        x_sig = signal(x_amp,x_width,i)\n",
    "            \n",
    "        norm_power = float(s_width**2)\n",
    "            \n",
    "        new_power = float(norm_power + i_width**2 + x_width**2)\n",
    "            \n",
    "        ratio = np.sqrt(norm_power/new_power)\n",
    "        \n",
    "        sigs = (sig + i_sig + x_sig) * ratio\n",
    "        \n",
    "    else:\n",
    "        \n",
    "        norm_power = float(s_width**2)\n",
    "            \n",
    "        new_power = float(norm_power + i_width**2)\n",
    "            \n",
    "        ratio = np.sqrt(norm_power/new_power)        \n",
    "        \n",
    "        sigs = (sig + i_sig) * ratio\n",
    "            \n",
    "    visibility = sigs + noi\n",
    "            \n",
    "    new_data_array[indices,0,:,:] = visibility\n",
    "    \n",
    "    sig_data_array[indices,0,:,:] = sig\n",
    "        \n",
    "    noi_data_array[indices,0,:,:] = noi\n",
    "    "
   ]
  },
  {
   "cell_type": "code",
   "execution_count": null,
   "metadata": {
    "ExecuteTime": {
     "end_time": "2018-07-09T17:57:05.698847Z",
     "start_time": "2018-07-09T17:57:05.683337Z"
    },
    "scrolled": true
   },
   "outputs": [],
   "source": [
    "\n",
    "print new_data_array\n"
   ]
  },
  {
   "cell_type": "code",
   "execution_count": null,
   "metadata": {
    "ExecuteTime": {
     "end_time": "2018-07-09T17:57:05.975491Z",
     "start_time": "2018-07-09T17:57:05.700764Z"
    },
    "collapsed": true
   },
   "outputs": [],
   "source": [
    "v.data_array = new_data_array"
   ]
  },
  {
   "cell_type": "code",
   "execution_count": null,
   "metadata": {
    "ExecuteTime": {
     "end_time": "2018-07-09T17:57:06.559637Z",
     "start_time": "2018-07-09T17:57:05.978005Z"
    }
   },
   "outputs": [],
   "source": [
    "\n",
    "data = v.get_data(23,71,'xx')\n",
    "\n",
    "plt.figure(figsize=(6,6))\n",
    "#plt.imshow(np.angle(data), aspect='auto', norm=SymLogNorm(vmin=0,vmax=1,linthresh=.1))\n",
    "plt.imshow(np.abs(data), aspect='auto')\n",
    "plt.colorbar()\n",
    "plt.show()\n",
    "\n",
    "\n",
    "\n",
    "data = v.get_data(36,87,'xx')\n",
    "\n",
    "plt.figure(figsize=(6,6))\n",
    "#plt.imshow(np.angle(data), aspect='auto', norm=SymLogNorm(vmin=0,vmax=1,linthresh=.1))\n",
    "plt.imshow(np.abs(data), aspect='auto')\n",
    "plt.colorbar()\n",
    "plt.show()"
   ]
  },
  {
   "cell_type": "code",
   "execution_count": null,
   "metadata": {
    "ExecuteTime": {
     "end_time": "2018-07-09T17:57:06.955006Z",
     "start_time": "2018-07-09T17:57:06.561597Z"
    }
   },
   "outputs": [],
   "source": [
    "\n",
    "data = v.get_data(37,88,'xx')\n",
    "\n",
    "plt.figure(figsize=(10,10))\n",
    "#plt.imshow(np.angle(data), aspect='auto', norm=SymLogNorm(vmin=0,vmax=1,linthresh=.1))\n",
    "plt.imshow(np.abs(data), aspect='auto')\n",
    "plt.colorbar()\n",
    "plt.show()\n"
   ]
  },
  {
   "cell_type": "code",
   "execution_count": null,
   "metadata": {
    "ExecuteTime": {
     "end_time": "2018-07-09T17:57:07.330754Z",
     "start_time": "2018-07-09T17:57:06.956723Z"
    }
   },
   "outputs": [],
   "source": [
    "\n",
    "data = v.get_data(0,1,'xx')\n",
    "\n",
    "plt.figure(figsize=(10,10))\n",
    "#plt.imshow(np.angle(data), aspect='auto', norm=SymLogNorm(vmin=0,vmax=1,linthresh=.1))\n",
    "plt.imshow(np.abs(data), aspect='auto')\n",
    "plt.colorbar()\n",
    "plt.show()\n"
   ]
  },
  {
   "cell_type": "code",
   "execution_count": null,
   "metadata": {
    "ExecuteTime": {
     "end_time": "2018-07-09T18:36:37.646104Z",
     "start_time": "2018-07-09T18:36:36.524Z"
    },
    "collapsed": true
   },
   "outputs": [],
   "source": [
    "am.data.data_array = new_data_array"
   ]
  },
  {
   "cell_type": "code",
   "execution_count": 33,
   "metadata": {
    "ExecuteTime": {
     "end_time": "2018-07-09T18:51:17.332937Z",
     "start_time": "2018-07-09T18:51:17.329708Z"
    },
    "collapsed": true
   },
   "outputs": [],
   "source": [
    "am.xants = []"
   ]
  },
  {
   "cell_type": "code",
   "execution_count": 34,
   "metadata": {
    "ExecuteTime": {
     "end_time": "2018-07-09T18:52:07.932148Z",
     "start_time": "2018-07-09T18:51:17.334692Z"
    },
    "collapsed": true
   },
   "outputs": [],
   "source": [
    "rawRed = ant_metrics.red_corr_metrics(v,['xx','yy','xy','yx'],['x','y'],uv.antenna_numbers,reds,am.xants,rawMetric = True)"
   ]
  },
  {
   "cell_type": "code",
   "execution_count": 35,
   "metadata": {
    "ExecuteTime": {
     "end_time": "2018-07-09T18:52:07.940509Z",
     "start_time": "2018-07-09T18:52:07.935853Z"
    },
    "collapsed": true
   },
   "outputs": [],
   "source": [
    "z_scores = ant_metrics.per_antenna_modified_z_scores(rawRed)"
   ]
  },
  {
   "cell_type": "code",
   "execution_count": 36,
   "metadata": {
    "ExecuteTime": {
     "end_time": "2018-07-09T18:52:07.947045Z",
     "start_time": "2018-07-09T18:52:07.942282Z"
    },
    "collapsed": true
   },
   "outputs": [],
   "source": [
    "\n",
    "values = []\n",
    "\n",
    "values_raw = []\n",
    "\n",
    "for key in z_scores.keys():\n",
    "    \n",
    "    values.append(z_scores[key]) \n",
    "    \n",
    "    values_raw.append(rawRed[key])\n"
   ]
  },
  {
   "cell_type": "code",
   "execution_count": 37,
   "metadata": {
    "ExecuteTime": {
     "end_time": "2018-07-09T18:52:08.291557Z",
     "start_time": "2018-07-09T18:52:07.948737Z"
    },
    "scrolled": false
   },
   "outputs": [
    {
     "data": {
      "image/png": "[encoded data removed]",
      "text/plain": [
       "<matplotlib.figure.Figure at 0x7f61e602d110>"
      ]
     },
     "metadata": {},
     "output_type": "display_data"
    },
    {
     "data": {
      "image/png": "[encoded data removed]",
      "text/plain": [
       "<matplotlib.figure.Figure at 0x7f61e72c7fd0>"
      ]
     },
     "metadata": {},
     "output_type": "display_data"
    }
   ],
   "source": [
    "plt.figure()\n",
    "plt.hist(values)\n",
    "plt.xlabel('z score')\n",
    "plt.ylabel('Probability')\n",
    "#plt.xlim(-2,2)\n",
    "plt.show()\n",
    "\n",
    "plt.figure()\n",
    "plt.hist(values_raw)\n",
    "plt.xlabel('Redundancy Correlation')\n",
    "plt.ylabel('Probability')\n",
    "plt.show()"
   ]
  },
  {
   "cell_type": "code",
   "execution_count": 39,
   "metadata": {
    "ExecuteTime": {
     "end_time": "2018-07-09T19:28:08.716225Z",
     "start_time": "2018-07-09T19:10:00.265744Z"
    }
   },
   "outputs": [
    {
     "name": "stdout",
     "output_type": "stream",
     "text": [
      "[(50, 'x'), (11, 'x'), (1, 'x'), (1, 'y'), (11, 'y')]\n"
     ]
    }
   ],
   "source": [
    "\n",
    "am.iterative_antenna_metrics_and_flagging(crossCut = 5,deadCut = 5)\n",
    "\n",
    "print am.xants\n"
   ]
  },
  {
   "cell_type": "code",
   "execution_count": 40,
   "metadata": {
    "ExecuteTime": {
     "end_time": "2018-07-09T19:28:08.742284Z",
     "start_time": "2018-07-09T19:28:08.718629Z"
    },
    "code_folding": [
     1
    ],
    "collapsed": true
   },
   "outputs": [],
   "source": [
    "\n",
    "def plot_metric(metrics, ants=None, antpols=None, title='', ylabel='Modified z-Score', xlabel=''):\n",
    "    \n",
    "    if ants is None:\n",
    "        \n",
    "        ants = list(set([key[0] for key in metrics.keys()]))\n",
    "        \n",
    "    if antpols is None:\n",
    "        \n",
    "        antpols = list(set([key[1] for key in metrics.keys()]))\n",
    "        \n",
    "    for antpol in antpols:\n",
    "        \n",
    "        for i,ant in enumerate(ants):\n",
    "            \n",
    "            metric = 0\n",
    "            \n",
    "            if metrics.has_key((ant,antpol)):\n",
    "                \n",
    "                metric = metrics[(ant,antpol)]\n",
    "                \n",
    "            plt.plot(i,metric,'.')\n",
    "            \n",
    "            plt.annotate(str(ant) + antpol, xy = (i,metrics[(ant,antpol)]))\n",
    "            \n",
    "        plt.gca().set_prop_cycle(None)\n",
    "        \n",
    "    plt.title(title)\n",
    "    \n",
    "    plt.xlabel(xlabel)\n",
    "    \n",
    "    plt.ylabel(ylabel)\n",
    "    \n",
    "    plt.show()\n",
    "        "
   ]
  },
  {
   "cell_type": "code",
   "execution_count": 41,
   "metadata": {
    "ExecuteTime": {
     "end_time": "2018-07-09T19:28:10.965650Z",
     "start_time": "2018-07-09T19:28:08.744635Z"
    },
    "scrolled": false
   },
   "outputs": [
    {
     "data": {
      "image/png": "[encoded data removed]",
      "text/plain": [
       "<matplotlib.figure.Figure at 0x7f61e85cfc10>"
      ]
     },
     "metadata": {},
     "output_type": "display_data"
    },
    {
     "data": {
      "image/png": "[encoded data removed]",
      "text/plain": [
       "<matplotlib.figure.Figure at 0x7f61be520f90>"
      ]
     },
     "metadata": {},
     "output_type": "display_data"
    },
    {
     "data": {
      "image/png": "[encoded data removed]",
      "text/plain": [
       "<matplotlib.figure.Figure at 0x7f61c41df250>"
      ]
     },
     "metadata": {},
     "output_type": "display_data"
    },
    {
     "data": {
      "image/png": "[encoded data removed]",
      "text/plain": [
       "<matplotlib.figure.Figure at 0x7f61e853ff10>"
      ]
     },
     "metadata": {},
     "output_type": "display_data"
    }
   ],
   "source": [
    "\n",
    "plt.figure()\n",
    "\n",
    "plot_metric(am.finalModzScores['meanVij'],title='Mean Vij Modified z-score')\n",
    "\n",
    "plt.figure()\n",
    "\n",
    "plot_metric(am.finalModzScores['redCorr'],title = 'Redundant Visibility Correlation Modified z-score')\n",
    "\n",
    "plt.figure()\n",
    "\n",
    "plot_metric(am.finalModzScores['meanVijXPol'],antpols = ['x'], title = 'Modified z-score of (Vxy+Vyx)/(Vxx+Vyy)')\n",
    "\n",
    "plt.figure()\n",
    "\n",
    "plot_metric(am.finalModzScores['redCorrXPol'], antpols = ['x'], title = 'Modified z-Score of Power Correlation Ratio Cross/Same')\n"
   ]
  },
  {
   "cell_type": "code",
   "execution_count": 42,
   "metadata": {
    "ExecuteTime": {
     "end_time": "2018-07-09T19:29:04.175497Z",
     "start_time": "2018-07-09T19:28:10.967534Z"
    },
    "collapsed": true
   },
   "outputs": [],
   "source": [
    "rawRed = ant_metrics.red_corr_metrics(v,['xx','yy','xy','yx'],['x','y'],uv.antenna_numbers,reds,am.xants,rawMetric = True)"
   ]
  },
  {
   "cell_type": "code",
   "execution_count": 43,
   "metadata": {
    "ExecuteTime": {
     "end_time": "2018-07-09T19:29:04.182824Z",
     "start_time": "2018-07-09T19:29:04.178639Z"
    },
    "collapsed": true
   },
   "outputs": [],
   "source": [
    "z_scores = ant_metrics.per_antenna_modified_z_scores(rawRed)"
   ]
  },
  {
   "cell_type": "code",
   "execution_count": 44,
   "metadata": {
    "ExecuteTime": {
     "end_time": "2018-07-09T19:29:04.189617Z",
     "start_time": "2018-07-09T19:29:04.184683Z"
    },
    "collapsed": true
   },
   "outputs": [],
   "source": [
    "\n",
    "values = []\n",
    "\n",
    "values_raw = []\n",
    "\n",
    "for key in z_scores.keys():\n",
    "    \n",
    "    values.append(z_scores[key]) \n",
    "    \n",
    "    values_raw.append(rawRed[key])\n"
   ]
  },
  {
   "cell_type": "code",
   "execution_count": 45,
   "metadata": {
    "ExecuteTime": {
     "end_time": "2018-07-09T19:29:04.553063Z",
     "start_time": "2018-07-09T19:29:04.191349Z"
    }
   },
   "outputs": [
    {
     "data": {
      "image/png": "[encoded data removed]",
      "text/plain": [
       "<matplotlib.figure.Figure at 0x7f61e624a350>"
      ]
     },
     "metadata": {},
     "output_type": "display_data"
    },
    {
     "data": {
      "image/png": "[encoded data removed]",
      "text/plain": [
       "<matplotlib.figure.Figure at 0x7f61e5e35050>"
      ]
     },
     "metadata": {},
     "output_type": "display_data"
    }
   ],
   "source": [
    "plt.figure()\n",
    "plt.hist(values)\n",
    "plt.xlabel('z score')\n",
    "plt.ylabel('Probability')\n",
    "#plt.xlim(-2,2)\n",
    "plt.show()\n",
    "\n",
    "plt.figure()\n",
    "plt.hist(values_raw)\n",
    "plt.xlabel('Redundancy Correlation')\n",
    "plt.ylabel('Probability')\n",
    "plt.show()"
   ]
  },
  {
   "cell_type": "code",
   "execution_count": 46,
   "metadata": {
    "ExecuteTime": {
     "end_time": "2018-07-09T19:29:04.559022Z",
     "start_time": "2018-07-09T19:29:04.554695Z"
    }
   },
   "outputs": [
    {
     "name": "stdout",
     "output_type": "stream",
     "text": [
      "-0.0557495743519\n",
      "0.72194810206\n"
     ]
    }
   ],
   "source": [
    "print np.mean(values)\n",
    "print np.mean(values_raw)"
   ]
  },
  {
   "cell_type": "code",
   "execution_count": null,
   "metadata": {
    "collapsed": true
   },
   "outputs": [],
   "source": []
  }
 ],
 "metadata": {
  "kernelspec": {
   "display_name": "Python 2",
   "language": "python",
   "name": "python2"
  },
  "language_info": {
   "codemirror_mode": {
    "name": "ipython",
    "version": 2
   },
   "file_extension": ".py",
   "mimetype": "text/x-python",
   "name": "python",
   "nbconvert_exporter": "python",
   "pygments_lexer": "ipython2",
   "version": "2.7.13"
  }
 },
 "nbformat": 4,
 "nbformat_minor": 2
}
