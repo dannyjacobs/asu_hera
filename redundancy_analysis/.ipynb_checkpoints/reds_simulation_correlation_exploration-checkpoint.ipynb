{
 "cells": [
  {
   "cell_type": "code",
   "execution_count": 1,
   "metadata": {
    "ExecuteTime": {
     "end_time": "2018-07-27T16:57:58.945462Z",
     "start_time": "2018-07-27T16:57:56.554617Z"
    },
    "collapsed": true
   },
   "outputs": [],
   "source": [
    "import time\n",
    "import numpy as np\n",
    "import matplotlib.pyplot as plt\n",
    "from pyuvdata import UVData\n",
    "from pyuvdata import uvutils\n",
    "from hera_qm import ant_metrics\n",
    "import hera_cal\n",
    "from copy import deepcopy\n",
    "from scipy import stats\n",
    "from astropy.io import fits\n",
    "\n",
    "from matplotlib.colors import SymLogNorm\n",
    "import sys\n",
    "import os\n",
    "from hera_qm import xrfi as xrfi\n",
    "import numpy.ma as ma\n",
    "from glob import glob\n",
    "import math\n"
   ]
  },
  {
   "cell_type": "code",
   "execution_count": 2,
   "metadata": {
    "ExecuteTime": {
     "end_time": "2018-07-27T17:00:36.800503Z",
     "start_time": "2018-07-27T16:57:58.947741Z"
    }
   },
   "outputs": [
    {
     "name": "stderr",
     "output_type": "stream",
     "text": [
      "Combined polarizations are not evenly spaced. This will make it impossible to write this data out to some file types.\n"
     ]
    }
   ],
   "source": [
    "\n",
    "data_file_list = ['/data6/HERA/data/2458042/zen.2458042.12552.xx.HH.uv','/data6/HERA/data/2458042/zen.2458042.12552.yy.HH.uv','/data6/HERA/data/2458042/zen.2458042.12552.yx.HH.uv','/data6/HERA/data/2458042/zen.2458042.12552.xy.HH.uv']\n",
    "\n",
    "uv = UVData()\n",
    "\n",
    "uv.read_miriad(data_file_list)\n"
   ]
  },
  {
   "cell_type": "code",
   "execution_count": 3,
   "metadata": {
    "ExecuteTime": {
     "end_time": "2018-07-27T17:00:39.493882Z",
     "start_time": "2018-07-27T17:00:36.803236Z"
    },
    "collapsed": true
   },
   "outputs": [],
   "source": [
    "\n",
    "aa = hera_cal.utils.get_aa_from_uv(uv)\n",
    "\n",
    "info = hera_cal.omni.aa_to_info(aa)\n",
    "\n",
    "reds = info.get_reds()\n"
   ]
  },
  {
   "cell_type": "code",
   "execution_count": 4,
   "metadata": {
    "ExecuteTime": {
     "end_time": "2018-07-25T18:27:36.789289Z",
     "start_time": "2018-07-25T18:24:48.752671Z"
    },
    "collapsed": true
   },
   "outputs": [],
   "source": [
    "\n",
    "am = ant_metrics.Antenna_Metrics(data_file_list, reds, fileformat = 'miriad')\n",
    "\n",
    "am.xants = []\n"
   ]
  },
  {
   "cell_type": "code",
   "execution_count": 4,
   "metadata": {
    "ExecuteTime": {
     "end_time": "2018-07-27T17:00:44.982663Z",
     "start_time": "2018-07-27T17:00:39.497022Z"
    },
    "collapsed": true
   },
   "outputs": [],
   "source": [
    "\n",
    "v = deepcopy(uv)\n"
   ]
  },
  {
   "cell_type": "code",
   "execution_count": 5,
   "metadata": {
    "ExecuteTime": {
     "end_time": "2018-07-27T17:00:45.006642Z",
     "start_time": "2018-07-27T17:00:44.984563Z"
    },
    "collapsed": true
   },
   "outputs": [],
   "source": [
    "\n",
    "bases = []\n",
    "\n",
    "lst = uv.get_antpairpols()\n",
    "\n",
    "for i in range(uv.Nbls):\n",
    "    \n",
    "    pair = lst[4*i]\n",
    "    \n",
    "    bases.append((pair[0],pair[1]))\n"
   ]
  },
  {
   "cell_type": "code",
   "execution_count": 6,
   "metadata": {
    "ExecuteTime": {
     "end_time": "2018-07-27T17:00:45.213720Z",
     "start_time": "2018-07-27T17:00:45.008606Z"
    },
    "collapsed": true
   },
   "outputs": [],
   "source": [
    "\n",
    "nonreds = []\n",
    "\n",
    "for i in bases:\n",
    "    \n",
    "    flag = 0\n",
    "    \n",
    "    for j in reds:\n",
    "        \n",
    "        for k in j:\n",
    "            \n",
    "            if i == k:\n",
    "                \n",
    "                flag = 1\n",
    "                \n",
    "    if flag == 0:\n",
    "        \n",
    "        nonreds.append(i)\n"
   ]
  },
  {
   "cell_type": "code",
   "execution_count": 7,
   "metadata": {
    "ExecuteTime": {
     "end_time": "2018-07-27T17:00:45.252961Z",
     "start_time": "2018-07-27T17:00:45.215661Z"
    },
    "collapsed": true
   },
   "outputs": [],
   "source": [
    "\n",
    "def signal(amp,width,baseline):\n",
    "    \n",
    "    ant_1 = baseline[0]\n",
    "    \n",
    "    ant_2 = baseline[1]\n",
    "    \n",
    "    ant_1_ind = np.where(uv.antenna_numbers==ant_1)\n",
    "    \n",
    "    ant_2_ind = np.where(uv.antenna_numbers==ant_2)\n",
    "    \n",
    "    if (ant_1 == ant_2):\n",
    "        \n",
    "        return np.zeros((60,1024,4))\n",
    "    \n",
    "    dist = np.linalg.norm(uv.antenna_positions[ant_1_ind]-uv.antenna_positions[ant_2_ind])\n",
    "    \n",
    "    c = float(3e8)\n",
    "    \n",
    "    B = float(uv.freq_array[0][-1]-uv.freq_array[0][1])\n",
    "    \n",
    "    del_tau = 2.*np.pi / B\n",
    "    \n",
    "    tau = dist / c\n",
    "    \n",
    "    temp = np.zeros((60,1024,4))\n",
    "    \n",
    "    T = uv.Ntimes*10\n",
    "    \n",
    "    del_nu = 2.*np.pi / T\n",
    "    \n",
    "    earth_rot = 2*np.pi / 86164.09053\n",
    "    \n",
    "    freq_naught = np.median(uv.freq_array[0])\n",
    "    \n",
    "    nu = earth_rot * dist * freq_naught / c\n",
    "    \n",
    "    for i in range(uv.Ntimes/2):\n",
    "        \n",
    "        for j in range(int(math.ceil(float(tau/del_tau)))):\n",
    "            \n",
    "            temp[i][j][0]= np.random.normal(amp,width) * np.exp(-i*(del_nu/nu))\n",
    "            \n",
    "            if (i != 0):\n",
    "            \n",
    "                temp[-i][j][0] = np.random.normal(amp,width) * np.exp(-i*(del_nu/nu))\n",
    "            \n",
    "    result = np.fft.fftn(temp)\n",
    "    \n",
    "    return result\n"
   ]
  },
  {
   "cell_type": "code",
   "execution_count": 8,
   "metadata": {
    "ExecuteTime": {
     "end_time": "2018-07-27T17:00:45.268746Z",
     "start_time": "2018-07-27T17:00:45.255000Z"
    },
    "collapsed": true
   },
   "outputs": [],
   "source": [
    "\n",
    "nu_rang = np.zeros((60,1024,4))\n",
    "    \n",
    "tau_rang = np.zeros((60,1024,4))\n",
    "    \n",
    "for i in range(uv.Ntimes):\n",
    "        \n",
    "    nu_rang[i,:,:] = -i\n",
    "        \n",
    "for j in range(uv.Nfreqs/2 + 1):\n",
    "        \n",
    "    tau_rang[:,j,:] = j\n",
    "    \n",
    "    if (j != 0):\n",
    "        \n",
    "        tau_rang[:,-j,:] = j\n",
    "  "
   ]
  },
  {
   "cell_type": "code",
   "execution_count": 9,
   "metadata": {
    "ExecuteTime": {
     "end_time": "2018-07-27T17:00:45.300760Z",
     "start_time": "2018-07-27T17:00:45.270640Z"
    },
    "collapsed": true
   },
   "outputs": [],
   "source": [
    "\n",
    "def signal(amp,width,baseline):\n",
    "    \n",
    "    ant_1 = baseline[0]\n",
    "    \n",
    "    ant_2 = baseline[1]\n",
    "    \n",
    "    if (ant_1 == ant_2):\n",
    "        \n",
    "        return np.zeros((60,1024,4))\n",
    "    \n",
    "    ant_1_ind = np.where(uv.antenna_numbers==ant_1)\n",
    "    \n",
    "    ant_2_ind = np.where(uv.antenna_numbers==ant_2)\n",
    "    \n",
    "    dist = np.linalg.norm(uv.antenna_positions[ant_1_ind]-uv.antenna_positions[ant_2_ind])\n",
    "    \n",
    "    c = float(3e8)\n",
    "    \n",
    "    B = float(uv.freq_array[0][-1]-uv.freq_array[0][1])\n",
    "    \n",
    "    del_tau = 1. / B\n",
    "    \n",
    "    tau = (c * del_tau) / (dist * np.cos(15*np.pi / 180))\n",
    "    \n",
    "    temp = np.zeros((60,1024,4),dtype = complex)\n",
    "    \n",
    "    T = uv.Ntimes*10\n",
    "    \n",
    "    del_nu = 1. / T\n",
    "    \n",
    "    earth_rot = 1. / 86164.09053\n",
    "    \n",
    "    freq_naught = np.median(uv.freq_array[0])\n",
    "    \n",
    "    nu = earth_rot * dist * freq_naught / c\n",
    "    \n",
    "    temp = np.random.normal(amp,width,(60,1024,4)) * np.exp(nu_rang*(del_nu/nu)) * np.sinc(tau_rang*tau)\n",
    "    \n",
    "    result = np.fft.fftn(temp)\n",
    "    \n",
    "    return result\n",
    "    "
   ]
  },
  {
   "cell_type": "code",
   "execution_count": 10,
   "metadata": {
    "ExecuteTime": {
     "end_time": "2018-07-27T17:00:45.306920Z",
     "start_time": "2018-07-27T17:00:45.302891Z"
    },
    "collapsed": true
   },
   "outputs": [],
   "source": [
    "\n",
    "def noise(amp,width):\n",
    "    \n",
    "    result = np.random.normal(amp,width,(60,1024,4))\n",
    "    \n",
    "    return result\n"
   ]
  },
  {
   "cell_type": "code",
   "execution_count": 11,
   "metadata": {
    "ExecuteTime": {
     "end_time": "2018-07-27T17:00:45.314938Z",
     "start_time": "2018-07-27T17:00:45.309689Z"
    },
    "collapsed": true
   },
   "outputs": [],
   "source": [
    "\n",
    "ants = uv.antenna_numbers\n",
    "\n",
    "ant_delay = {}\n",
    "\n",
    "for i in ants:\n",
    "    \n",
    "    ant_delay[i] = np.random.normal(0,2e-7)\n",
    "    #ant_delay[i] = np.random.randint(10)\n",
    "    "
   ]
  },
  {
   "cell_type": "code",
   "execution_count": 12,
   "metadata": {
    "ExecuteTime": {
     "end_time": "2018-07-27T17:00:45.426602Z",
     "start_time": "2018-07-27T17:00:45.316801Z"
    },
    "collapsed": true
   },
   "outputs": [],
   "source": [
    "\n",
    "def generate_random_data(i_width,n_width):\n",
    "    \n",
    "    \n",
    "    new_data_array = np.zeros((67680, 1, 1024, 4),dtype = complex)\n",
    "    \n",
    "    s_amp = 0\n",
    "    \n",
    "    s_width = 1\n",
    "    \n",
    "    i_amp = 0\n",
    "    \n",
    "    n_amp = 0\n",
    "    \n",
    "    for i in reds:\n",
    "        \n",
    "        sig = signal(s_amp,s_width,i[0])\n",
    "        \n",
    "        for j in i:\n",
    "            \n",
    "            sig[:,:,0] *= np.exp(1j*uv.freq_array[0][:]*ant_delay[j[0]])*np.exp(1j*uv.freq_array[0][:]*ant_delay[j[1]])\n",
    "        \n",
    "            sig[:,:,1] *= np.exp(1j*uv.freq_array[0][:]*ant_delay[j[0]])*np.exp(1j*uv.freq_array[0][:]*ant_delay[j[1]])\n",
    "        \n",
    "            sig[:,:,2] *= np.exp(1j*uv.freq_array[0][:]*ant_delay[j[0]])*np.exp(1j*uv.freq_array[0][:]*ant_delay[j[1]])\n",
    "        \n",
    "            sig[:,:,3] *= np.exp(1j*uv.freq_array[0][:]*ant_delay[j[0]])*np.exp(1j*uv.freq_array[0][:]*ant_delay[j[1]])\n",
    "            \n",
    "            indices = v.antpair2ind(j[0],j[1])\n",
    "            \n",
    "            noi = noise(n_amp,n_width)\n",
    "        \n",
    "            i_sig = signal(i_amp,i_width,j)\n",
    "            \n",
    "            i_sig[:,:,0] *= np.exp(1j*uv.freq_array[0][:]*ant_delay[j[0]])*np.exp(1j*uv.freq_array[0][:]*ant_delay[j[1]])\n",
    "        \n",
    "            i_sig[:,:,1] *= np.exp(1j*uv.freq_array[0][:]*ant_delay[j[0]])*np.exp(1j*uv.freq_array[0][:]*ant_delay[j[1]])\n",
    "        \n",
    "            i_sig[:,:,2] *= np.exp(1j*uv.freq_array[0][:]*ant_delay[j[0]])*np.exp(1j*uv.freq_array[0][:]*ant_delay[j[1]])\n",
    "        \n",
    "            i_sig[:,:,3] *= np.exp(1j*uv.freq_array[0][:]*ant_delay[j[0]])*np.exp(1j*uv.freq_array[0][:]*ant_delay[j[1]])\n",
    "            \n",
    "            norm_power = float(s_width**2)\n",
    "            \n",
    "            new_power = float(norm_power + i_width**2)\n",
    "            \n",
    "            ratio = np.sqrt(norm_power/new_power)\n",
    "            \n",
    "            sigs = (sig + i_sig) * ratio\n",
    "            \n",
    "            visibility = sigs + noi\n",
    "            \n",
    "            new_data_array[indices,0,:,:] = visibility\n",
    "            \n",
    "            \n",
    "    for k in nonreds:\n",
    "        \n",
    "        sig = signal(s_amp,s_width,k)\n",
    "        \n",
    "        i_sig = signal(i_amp,i_width,j)\n",
    "        \n",
    "        norm_power = float(s_width**2)\n",
    "            \n",
    "        new_power = float(norm_power + i_width**2)\n",
    "            \n",
    "        ratio = np.sqrt(norm_power/new_power)\n",
    "            \n",
    "        sigs = (sig + i_sig) * ratio\n",
    "            \n",
    "        indices = v.antpair2ind(k[0],k[1])\n",
    "            \n",
    "        noi = noise(n_amp,n_width)\n",
    "            \n",
    "        visibility = sig + noi\n",
    "            \n",
    "        new_data_array[indices,0,:,:] = visibility\n",
    "        \n",
    "        return new_data_array\n"
   ]
  },
  {
   "cell_type": "code",
   "execution_count": 13,
   "metadata": {
    "ExecuteTime": {
     "end_time": "2018-07-27T17:00:45.434548Z",
     "start_time": "2018-07-27T17:00:45.428721Z"
    },
    "code_folding": [
     1
    ],
    "collapsed": true
   },
   "outputs": [],
   "source": [
    "\n",
    "def new_compute_median_auto_power_dict(data, pols, reds):\n",
    "    \n",
    "    autoPower = {}\n",
    "    for pol in pols:\n",
    "        for bls in reds:\n",
    "            for (i, j) in bls:\n",
    "                autoPower[i, j, pol] = np.median(np.mean(np.abs(data.get_data(i, j, pol))**2, axis=1))\n",
    "    return autoPower\n"
   ]
  },
  {
   "cell_type": "code",
   "execution_count": 14,
   "metadata": {
    "ExecuteTime": {
     "end_time": "2018-07-27T17:00:45.485907Z",
     "start_time": "2018-07-27T17:00:45.436386Z"
    },
    "code_folding": [
     0
    ],
    "collapsed": true
   },
   "outputs": [],
   "source": [
    "def new_red_corr_metrics(data, pols, antpols, ants, reds, xants=[], rawMetric=False, crossPol=False):\n",
    "\n",
    "    # Compute power correlations and assign them to each antenna\n",
    "    autoPower = new_compute_median_auto_power_dict(data, pols, reds)\n",
    "    antCorrs = {(ant, antpol): 0.0 for ant in ants for antpol in antpols if\n",
    "                (ant, antpol) not in xants}\n",
    "    antCounts = deepcopy(antCorrs)\n",
    "    for pol0 in pols:\n",
    "        for pol1 in pols:\n",
    "            iscrossed_i = (pol0[0] != pol1[0])\n",
    "            iscrossed_j = (pol0[1] != pol1[1])\n",
    "            onlyOnePolCrossed = (iscrossed_i ^ iscrossed_j)\n",
    "            # This function can instead record correlations for antennas whose counterpart are pol-swapped\n",
    "            if (not crossPol and (pol0 is pol1)) or (crossPol and onlyOnePolCrossed):\n",
    "                for bls in reds:\n",
    "                    for n, (ant0_i, ant0_j) in enumerate(bls):\n",
    "                        data0 = data.get_data(ant0_i, ant0_j, pol0)\n",
    "                        for (ant1_i, ant1_j) in bls[n + 1:]:\n",
    "                            data1 = data.get_data(ant1_i, ant1_j, pol1)\n",
    "                            corr = np.median(np.mean(np.abs(data0) * np.abs(data1),axis=1))\n",
    "                            \n",
    "                            corr /= np.sqrt(autoPower[ant0_i, ant0_j, pol0] *\n",
    "                                            autoPower[ant1_i, ant1_j, pol1])\n",
    "                            antsInvolved = [(ant0_i, pol0[0]), (ant0_j, pol0[1]),\n",
    "                                            (ant1_i, pol1[0]), (ant1_j, pol1[1])]\n",
    "                            if not np.any([(ant, antpol) in xants for ant, antpol\n",
    "                                           in antsInvolved]):\n",
    "                                # Only record the crossed antenna if i or j is crossed\n",
    "                                if crossPol and iscrossed_i:\n",
    "                                    antsInvolved = [(ant0_i, pol0[0]),\n",
    "                                                    (ant1_i, pol1[0])]\n",
    "                                elif crossPol and iscrossed_j:\n",
    "                                    antsInvolved = [(ant0_j, pol0[1]), (ant1_j, pol1[1])]\n",
    "                                for ant, antpol in antsInvolved:\n",
    "                                    antCorrs[(ant, antpol)] += corr\n",
    "                                    antCounts[(ant, antpol)] += 1\n",
    "\n",
    "    # Compute average and return\n",
    "    for key, count in antCounts.items():\n",
    "        if count > 0:\n",
    "            antCorrs[key] /= count\n",
    "        else:\n",
    "            # Was not found in reds, should not have a valid metric.\n",
    "            antCorrs[key] = np.NaN\n",
    "    if rawMetric:\n",
    "        return antCorrs\n",
    "    else:\n",
    "        return per_antenna_modified_z_scores(antCorrs)\n"
   ]
  },
  {
   "cell_type": "code",
   "execution_count": 15,
   "metadata": {
    "ExecuteTime": {
     "end_time": "2018-07-27T17:00:45.533880Z",
     "start_time": "2018-07-27T17:00:45.487769Z"
    },
    "collapsed": true
   },
   "outputs": [],
   "source": [
    "\n",
    "def generate_random_array(width_array):\n",
    "    \n",
    "    new_array = list(np.zeros((10,10,4)))\n",
    "    \n",
    "    for i in range(len(width_array)):\n",
    "        \n",
    "        print 'i: ' + str(i)\n",
    "        \n",
    "        for j in range(len(width_array[i])):\n",
    "            \n",
    "            print 'j: ' + str(j)\n",
    "            \n",
    "            i_width = float(width_array[i][j][0])\n",
    "            \n",
    "            n_width = float(width_array[i][j][1])\n",
    "            \n",
    "            temp_array = generate_random_data(i_width,n_width)\n",
    "            \n",
    "            v.data_array = temp_array\n",
    "            \n",
    "            am.data.data_array = temp_array\n",
    "            \n",
    "            rawRed = ant_metrics.red_corr_metrics(v,['xx','yy','xy','yx'],['x','y'],uv.antenna_numbers,reds,am.xants,rawMetric = True)\n",
    "            \n",
    "            z_scores = ant_metrics.per_antenna_modified_z_scores(rawRed)\n",
    "            \n",
    "            values = []\n",
    "            \n",
    "            values_raw = []\n",
    "\n",
    "            for key in z_scores.keys():\n",
    "                \n",
    "                values.append(z_scores[key])\n",
    "                \n",
    "                values_raw.append(rawRed[key])\n",
    "                \n",
    "            a = np.array(values).mean()\n",
    "            \n",
    "            b = np.array(values).std()\n",
    "            \n",
    "            c = np.array(values_raw).mean()\n",
    "            \n",
    "            d = np.array(values_raw).std()\n",
    "                \n",
    "            new_array[i][j][0] = a\n",
    "            \n",
    "            new_array[i][j][1] = b\n",
    "\n",
    "            new_array[i][j][2] = c\n",
    "            \n",
    "            new_array[i][j][3] = d\n",
    "\n",
    "            \n",
    "    return new_array\n",
    "            \n",
    "            \n",
    "    \n"
   ]
  },
  {
   "cell_type": "code",
   "execution_count": 16,
   "metadata": {
    "ExecuteTime": {
     "end_time": "2018-07-27T17:00:45.540571Z",
     "start_time": "2018-07-27T17:00:45.535719Z"
    },
    "collapsed": true
   },
   "outputs": [],
   "source": [
    "\n",
    "input_array = []\n",
    "\n",
    "for i in range(10):\n",
    "    \n",
    "    input_array.append([])\n",
    "    \n",
    "    for j in range(10):\n",
    "        \n",
    "        input_array[i].append([])\n"
   ]
  },
  {
   "cell_type": "code",
   "execution_count": 17,
   "metadata": {
    "ExecuteTime": {
     "end_time": "2018-07-27T17:00:45.546806Z",
     "start_time": "2018-07-27T17:00:45.542291Z"
    },
    "collapsed": true
   },
   "outputs": [],
   "source": [
    "\n",
    "i_vals = [0,0.25,0.5,0.75,1.0,1.25,1.5,2.,3.,4.]\n",
    "\n",
    "npar = 5.89945508026\n",
    "\n",
    "n_vals = [0,npar/4.,npar/2.,3*npar/4.,npar,5*npar/4.,3*npar/2.,2*npar,3*npar,4*npar]\n"
   ]
  },
  {
   "cell_type": "code",
   "execution_count": 18,
   "metadata": {
    "ExecuteTime": {
     "end_time": "2018-07-27T17:00:45.552238Z",
     "start_time": "2018-07-27T17:00:45.548530Z"
    },
    "collapsed": true
   },
   "outputs": [],
   "source": [
    "\n",
    "for i in range(10):\n",
    "    \n",
    "    for j in range(10):\n",
    "        \n",
    "        input_array[i][j] = (i_vals[i],n_vals[j])\n"
   ]
  },
  {
   "cell_type": "code",
   "execution_count": 19,
   "metadata": {
    "ExecuteTime": {
     "end_time": "2018-07-27T17:00:45.557577Z",
     "start_time": "2018-07-27T17:00:45.553939Z"
    }
   },
   "outputs": [
    {
     "name": "stdout",
     "output_type": "stream",
     "text": [
      "[[(0, 0), (0, 1.474863770065), (0, 2.94972754013), (0, 4.424591310195), (0, 5.89945508026), (0, 7.374318850325), (0, 8.84918262039), (0, 11.79891016052), (0, 17.69836524078), (0, 23.59782032104)], [(0.25, 0), (0.25, 1.474863770065), (0.25, 2.94972754013), (0.25, 4.424591310195), (0.25, 5.89945508026), (0.25, 7.374318850325), (0.25, 8.84918262039), (0.25, 11.79891016052), (0.25, 17.69836524078), (0.25, 23.59782032104)], [(0.5, 0), (0.5, 1.474863770065), (0.5, 2.94972754013), (0.5, 4.424591310195), (0.5, 5.89945508026), (0.5, 7.374318850325), (0.5, 8.84918262039), (0.5, 11.79891016052), (0.5, 17.69836524078), (0.5, 23.59782032104)], [(0.75, 0), (0.75, 1.474863770065), (0.75, 2.94972754013), (0.75, 4.424591310195), (0.75, 5.89945508026), (0.75, 7.374318850325), (0.75, 8.84918262039), (0.75, 11.79891016052), (0.75, 17.69836524078), (0.75, 23.59782032104)], [(1.0, 0), (1.0, 1.474863770065), (1.0, 2.94972754013), (1.0, 4.424591310195), (1.0, 5.89945508026), (1.0, 7.374318850325), (1.0, 8.84918262039), (1.0, 11.79891016052), (1.0, 17.69836524078), (1.0, 23.59782032104)], [(1.25, 0), (1.25, 1.474863770065), (1.25, 2.94972754013), (1.25, 4.424591310195), (1.25, 5.89945508026), (1.25, 7.374318850325), (1.25, 8.84918262039), (1.25, 11.79891016052), (1.25, 17.69836524078), (1.25, 23.59782032104)], [(1.5, 0), (1.5, 1.474863770065), (1.5, 2.94972754013), (1.5, 4.424591310195), (1.5, 5.89945508026), (1.5, 7.374318850325), (1.5, 8.84918262039), (1.5, 11.79891016052), (1.5, 17.69836524078), (1.5, 23.59782032104)], [(2.0, 0), (2.0, 1.474863770065), (2.0, 2.94972754013), (2.0, 4.424591310195), (2.0, 5.89945508026), (2.0, 7.374318850325), (2.0, 8.84918262039), (2.0, 11.79891016052), (2.0, 17.69836524078), (2.0, 23.59782032104)], [(3.0, 0), (3.0, 1.474863770065), (3.0, 2.94972754013), (3.0, 4.424591310195), (3.0, 5.89945508026), (3.0, 7.374318850325), (3.0, 8.84918262039), (3.0, 11.79891016052), (3.0, 17.69836524078), (3.0, 23.59782032104)], [(4.0, 0), (4.0, 1.474863770065), (4.0, 2.94972754013), (4.0, 4.424591310195), (4.0, 5.89945508026), (4.0, 7.374318850325), (4.0, 8.84918262039), (4.0, 11.79891016052), (4.0, 17.69836524078), (4.0, 23.59782032104)]]\n"
     ]
    }
   ],
   "source": [
    "print input_array"
   ]
  },
  {
   "cell_type": "code",
   "execution_count": 20,
   "metadata": {
    "ExecuteTime": {
     "end_time": "2018-07-27T17:00:45.562563Z",
     "start_time": "2018-07-27T17:00:45.559529Z"
    },
    "collapsed": true,
    "scrolled": true
   },
   "outputs": [],
   "source": [
    "\n",
    "#holder_array_mkjames = generate_random_array(input_array)\n",
    "\n",
    "#np.savez('holder_array_mkjames.npz',holder_array_mkjames)\n"
   ]
  },
  {
   "cell_type": "code",
   "execution_count": 21,
   "metadata": {
    "ExecuteTime": {
     "end_time": "2018-07-27T17:00:45.596096Z",
     "start_time": "2018-07-27T17:00:45.564300Z"
    },
    "collapsed": true
   },
   "outputs": [],
   "source": [
    "\n",
    "data = np.load('holder_array_mkjames.npz')\n",
    "\n",
    "holder_array = data['arr_0']\n",
    "\n",
    "#holder_array = holder_array_mkjames\n"
   ]
  },
  {
   "cell_type": "code",
   "execution_count": 22,
   "metadata": {
    "ExecuteTime": {
     "end_time": "2018-07-27T17:00:45.617885Z",
     "start_time": "2018-07-27T17:00:45.598297Z"
    }
   },
   "outputs": [
    {
     "name": "stdout",
     "output_type": "stream",
     "text": [
      "[[[        nan         nan  1.          0.        ]\n",
      "  [-0.01714668  0.90105051  0.97559896  0.00226332]\n",
      "  [ 0.14358437  1.06061146  0.92230942  0.00598011]\n",
      "  [ 0.17512252  0.9527508   0.87375139  0.00755474]\n",
      "  [ 0.04289341  0.99594824  0.8317004   0.00866766]\n",
      "  [ 0.11115802  0.90283148  0.80213613  0.00834952]\n",
      "  [ 0.19474782  0.9871439   0.7784031   0.00724551]\n",
      "  [ 0.12082161  0.87919467  0.73816915  0.00691828]\n",
      "  [ 0.19253837  0.97616613  0.70168124  0.00464683]\n",
      "  [ 0.18900181  0.96753246  0.67900726  0.00359592]]\n",
      "\n",
      " [[ 0.05019481  1.21012302  0.96952299  0.00148119]\n",
      "  [ 0.10810173  0.96142649  0.94787358  0.00291469]\n",
      "  [ 0.09135813  0.95198423  0.90400267  0.00552815]\n",
      "  [ 0.11669143  0.90679441  0.86456779  0.00632863]\n",
      "  [ 0.19984726  1.01557537  0.82878726  0.00692327]\n",
      "  [ 0.06516388  0.91385651  0.79175775  0.0076881 ]\n",
      "  [ 0.07026895  0.92366614  0.76871135  0.00788588]\n",
      "  [ 0.14032129  0.91599656  0.73304656  0.00665254]\n",
      "  [ 0.10372254  0.85573699  0.70100812  0.00422278]\n",
      "  [ 0.08971117  0.85643098  0.68094674  0.00317807]]\n",
      "\n",
      " [[-0.02753837  0.93084101  0.91614471  0.00214328]\n",
      "  [ 0.22768698  1.10827901  0.89980484  0.00231983]\n",
      "  [ 0.06903763  0.89289154  0.86890173  0.00417732]\n",
      "  [ 0.05227924  0.90586609  0.83730797  0.00504854]\n",
      "  [ 0.12336692  1.08466354  0.80841614  0.0058574 ]\n",
      "  [ 0.16362519  0.93926039  0.78309493  0.00614077]\n",
      "  [ 0.05120754  0.91990892  0.76308799  0.00612491]\n",
      "  [ 0.13516909  0.87768612  0.73066894  0.0055483 ]\n",
      "  [ 0.12251532  0.96236719  0.69762809  0.00424294]\n",
      "  [ 0.13313418  0.88527786  0.6788695   0.00326672]]\n",
      "\n",
      " [[-0.01821518  0.95379668  0.86943588  0.00225052]\n",
      "  [ 0.04787892  1.03478536  0.85983624  0.00284937]\n",
      "  [-0.03776596  0.85696705  0.83644766  0.00337501]\n",
      "  [ 0.16726102  1.04240577  0.81329075  0.00408123]\n",
      "  [ 0.20168573  0.93011196  0.79221934  0.0049822 ]\n",
      "  [ 0.10412389  1.02740314  0.76931125  0.00563889]\n",
      "  [ 0.06769357  0.91029973  0.7543441   0.00505057]\n",
      "  [ 0.08141472  0.87856022  0.72975395  0.00492365]\n",
      "  [ 0.13410695  0.96645889  0.69580737  0.00393932]\n",
      "  [ 0.16887775  0.95817389  0.67773461  0.0031655 ]]\n",
      "\n",
      " [[-0.15012647  1.1651556   0.83848145  0.00212222]\n",
      "  [ 0.06019774  1.1323923   0.83429517  0.00240406]\n",
      "  [ 0.19244565  1.02189468  0.82125502  0.00224647]\n",
      "  [ 0.04116551  0.89614703  0.80002126  0.00296087]\n",
      "  [ 0.00205256  0.97490901  0.78065638  0.00403367]\n",
      "  [ 0.07884039  0.93003352  0.76456333  0.00446813]\n",
      "  [ 0.02108186  0.89347962  0.74995986  0.00454637]\n",
      "  [ 0.09284149  0.90379925  0.7261839   0.00460863]\n",
      "  [ 0.1045556   0.92605256  0.69527863  0.00387758]\n",
      "  [ 0.18099053  0.91459507  0.67734629  0.00287891]]\n",
      "\n",
      " [[-0.18637138  1.2080617   0.8238937   0.00366312]\n",
      "  [ 0.06612481  0.99964049  0.81654438  0.00226831]\n",
      "  [ 0.05835441  1.01617606  0.80661507  0.00196729]\n",
      "  [ 0.24995118  1.12470152  0.79097686  0.0025327 ]\n",
      "  [ 0.11026227  1.14294536  0.77639845  0.00328938]\n",
      "  [ 0.08722819  1.03775322  0.76152632  0.00384589]\n",
      "  [ 0.0810333   0.98128415  0.74751858  0.00420367]\n",
      "  [ 0.07425755  0.89144708  0.72371366  0.00444554]\n",
      "  [ 0.15250625  0.93584394  0.69491858  0.00355923]\n",
      "  [ 0.09270179  1.00325443  0.67723156  0.00289789]]\n",
      "\n",
      " [[-0.08933952  0.94185873  0.81143588  0.00226433]\n",
      "  [ 0.08942829  1.14295273  0.80963681  0.00236707]\n",
      "  [ 0.12507713  1.17139614  0.79859154  0.0015964 ]\n",
      "  [ 0.10214165  1.13347297  0.78665625  0.00219569]\n",
      "  [ 0.153334    0.93282035  0.77186235  0.00334583]\n",
      "  [ 0.06032309  0.96274294  0.75772658  0.00368878]\n",
      "  [ 0.09317256  0.92787684  0.74517084  0.00408319]\n",
      "  [ 0.08513271  0.89859413  0.72241839  0.00418321]\n",
      "  [ 0.18538117  0.92409106  0.69407323  0.00351817]\n",
      "  [ 0.15064821  0.97685869  0.67718189  0.00288604]]\n",
      "\n",
      " [[-0.19946813  1.25542613  0.80409096  0.00278757]\n",
      "  [-0.1160059   1.06723074  0.80208454  0.0022706 ]\n",
      "  [ 0.01359413  1.06739429  0.79475409  0.00138772]\n",
      "  [ 0.19155218  1.06660512  0.78113988  0.00236362]\n",
      "  [ 0.23127301  1.16264831  0.76830454  0.00289123]\n",
      "  [ 0.13123873  1.02052079  0.75512188  0.00338965]\n",
      "  [ 0.04324384  0.97728827  0.74249146  0.00393554]\n",
      "  [ 0.20606092  1.02998382  0.72253346  0.00396518]\n",
      "  [ 0.05857998  0.93496323  0.69354128  0.00345527]\n",
      "  [ 0.16096165  0.89045042  0.67721156  0.00294599]]\n",
      "\n",
      " [[-0.06327517  0.93385917  0.79868911  0.00302806]\n",
      "  [-0.00133205  1.01411371  0.7983862   0.00243882]\n",
      "  [-0.0371876   1.04388369  0.79080676  0.00183967]\n",
      "  [ 0.13695547  1.16522452  0.78066499  0.002043  ]\n",
      "  [ 0.09451901  1.24365497  0.76614824  0.00272837]\n",
      "  [ 0.12703125  0.91961136  0.75437184  0.00326653]\n",
      "  [ 0.08683793  0.94989377  0.74263048  0.003771  ]\n",
      "  [ 0.04403582  0.86656869  0.7212569   0.00415829]\n",
      "  [ 0.056825    0.96259832  0.69326939  0.00359507]\n",
      "  [ 0.10984814  1.0565649   0.67657184  0.00283616]]\n",
      "\n",
      " [[-0.04555741  0.91621066  0.79895353  0.00317291]\n",
      "  [-0.00555584  1.04572213  0.79682894  0.00322882]\n",
      "  [-0.08689237  0.96395793  0.7906556   0.00245317]\n",
      "  [ 0.15483369  1.02324329  0.77927309  0.00220404]\n",
      "  [ 0.04604881  0.88891347  0.76694339  0.00255003]\n",
      "  [ 0.17708901  1.02207815  0.75431951  0.00344942]\n",
      "  [ 0.1415621   0.98866197  0.7421973   0.00392393]\n",
      "  [ 0.0338806   0.83816956  0.7213467   0.00399529]\n",
      "  [ 0.21396916  1.01062138  0.69317388  0.00347684]\n",
      "  [ 0.14015439  0.94453482  0.67658233  0.00281262]]]\n"
     ]
    }
   ],
   "source": [
    "print holder_array"
   ]
  },
  {
   "cell_type": "code",
   "execution_count": 23,
   "metadata": {
    "ExecuteTime": {
     "end_time": "2018-07-27T17:00:45.623504Z",
     "start_time": "2018-07-27T17:00:45.619866Z"
    }
   },
   "outputs": [
    {
     "name": "stdout",
     "output_type": "stream",
     "text": [
      "nan\n"
     ]
    }
   ],
   "source": [
    "print holder_array[0][0][1] "
   ]
  },
  {
   "cell_type": "code",
   "execution_count": 24,
   "metadata": {
    "ExecuteTime": {
     "end_time": "2018-07-27T17:00:45.645102Z",
     "start_time": "2018-07-27T17:00:45.625283Z"
    }
   },
   "outputs": [
    {
     "name": "stdout",
     "output_type": "stream",
     "text": [
      "[[[ 0.          0.          1.          0.        ]\n",
      "  [-0.01714668  0.90105051  0.97559896  0.00226332]\n",
      "  [ 0.14358437  1.06061146  0.92230942  0.00598011]\n",
      "  [ 0.17512252  0.9527508   0.87375139  0.00755474]\n",
      "  [ 0.04289341  0.99594824  0.8317004   0.00866766]\n",
      "  [ 0.11115802  0.90283148  0.80213613  0.00834952]\n",
      "  [ 0.19474782  0.9871439   0.7784031   0.00724551]\n",
      "  [ 0.12082161  0.87919467  0.73816915  0.00691828]\n",
      "  [ 0.19253837  0.97616613  0.70168124  0.00464683]\n",
      "  [ 0.18900181  0.96753246  0.67900726  0.00359592]]\n",
      "\n",
      " [[ 0.05019481  1.21012302  0.96952299  0.00148119]\n",
      "  [ 0.10810173  0.96142649  0.94787358  0.00291469]\n",
      "  [ 0.09135813  0.95198423  0.90400267  0.00552815]\n",
      "  [ 0.11669143  0.90679441  0.86456779  0.00632863]\n",
      "  [ 0.19984726  1.01557537  0.82878726  0.00692327]\n",
      "  [ 0.06516388  0.91385651  0.79175775  0.0076881 ]\n",
      "  [ 0.07026895  0.92366614  0.76871135  0.00788588]\n",
      "  [ 0.14032129  0.91599656  0.73304656  0.00665254]\n",
      "  [ 0.10372254  0.85573699  0.70100812  0.00422278]\n",
      "  [ 0.08971117  0.85643098  0.68094674  0.00317807]]\n",
      "\n",
      " [[-0.02753837  0.93084101  0.91614471  0.00214328]\n",
      "  [ 0.22768698  1.10827901  0.89980484  0.00231983]\n",
      "  [ 0.06903763  0.89289154  0.86890173  0.00417732]\n",
      "  [ 0.05227924  0.90586609  0.83730797  0.00504854]\n",
      "  [ 0.12336692  1.08466354  0.80841614  0.0058574 ]\n",
      "  [ 0.16362519  0.93926039  0.78309493  0.00614077]\n",
      "  [ 0.05120754  0.91990892  0.76308799  0.00612491]\n",
      "  [ 0.13516909  0.87768612  0.73066894  0.0055483 ]\n",
      "  [ 0.12251532  0.96236719  0.69762809  0.00424294]\n",
      "  [ 0.13313418  0.88527786  0.6788695   0.00326672]]\n",
      "\n",
      " [[-0.01821518  0.95379668  0.86943588  0.00225052]\n",
      "  [ 0.04787892  1.03478536  0.85983624  0.00284937]\n",
      "  [-0.03776596  0.85696705  0.83644766  0.00337501]\n",
      "  [ 0.16726102  1.04240577  0.81329075  0.00408123]\n",
      "  [ 0.20168573  0.93011196  0.79221934  0.0049822 ]\n",
      "  [ 0.10412389  1.02740314  0.76931125  0.00563889]\n",
      "  [ 0.06769357  0.91029973  0.7543441   0.00505057]\n",
      "  [ 0.08141472  0.87856022  0.72975395  0.00492365]\n",
      "  [ 0.13410695  0.96645889  0.69580737  0.00393932]\n",
      "  [ 0.16887775  0.95817389  0.67773461  0.0031655 ]]\n",
      "\n",
      " [[-0.15012647  1.1651556   0.83848145  0.00212222]\n",
      "  [ 0.06019774  1.1323923   0.83429517  0.00240406]\n",
      "  [ 0.19244565  1.02189468  0.82125502  0.00224647]\n",
      "  [ 0.04116551  0.89614703  0.80002126  0.00296087]\n",
      "  [ 0.00205256  0.97490901  0.78065638  0.00403367]\n",
      "  [ 0.07884039  0.93003352  0.76456333  0.00446813]\n",
      "  [ 0.02108186  0.89347962  0.74995986  0.00454637]\n",
      "  [ 0.09284149  0.90379925  0.7261839   0.00460863]\n",
      "  [ 0.1045556   0.92605256  0.69527863  0.00387758]\n",
      "  [ 0.18099053  0.91459507  0.67734629  0.00287891]]\n",
      "\n",
      " [[-0.18637138  1.2080617   0.8238937   0.00366312]\n",
      "  [ 0.06612481  0.99964049  0.81654438  0.00226831]\n",
      "  [ 0.05835441  1.01617606  0.80661507  0.00196729]\n",
      "  [ 0.24995118  1.12470152  0.79097686  0.0025327 ]\n",
      "  [ 0.11026227  1.14294536  0.77639845  0.00328938]\n",
      "  [ 0.08722819  1.03775322  0.76152632  0.00384589]\n",
      "  [ 0.0810333   0.98128415  0.74751858  0.00420367]\n",
      "  [ 0.07425755  0.89144708  0.72371366  0.00444554]\n",
      "  [ 0.15250625  0.93584394  0.69491858  0.00355923]\n",
      "  [ 0.09270179  1.00325443  0.67723156  0.00289789]]\n",
      "\n",
      " [[-0.08933952  0.94185873  0.81143588  0.00226433]\n",
      "  [ 0.08942829  1.14295273  0.80963681  0.00236707]\n",
      "  [ 0.12507713  1.17139614  0.79859154  0.0015964 ]\n",
      "  [ 0.10214165  1.13347297  0.78665625  0.00219569]\n",
      "  [ 0.153334    0.93282035  0.77186235  0.00334583]\n",
      "  [ 0.06032309  0.96274294  0.75772658  0.00368878]\n",
      "  [ 0.09317256  0.92787684  0.74517084  0.00408319]\n",
      "  [ 0.08513271  0.89859413  0.72241839  0.00418321]\n",
      "  [ 0.18538117  0.92409106  0.69407323  0.00351817]\n",
      "  [ 0.15064821  0.97685869  0.67718189  0.00288604]]\n",
      "\n",
      " [[-0.19946813  1.25542613  0.80409096  0.00278757]\n",
      "  [-0.1160059   1.06723074  0.80208454  0.0022706 ]\n",
      "  [ 0.01359413  1.06739429  0.79475409  0.00138772]\n",
      "  [ 0.19155218  1.06660512  0.78113988  0.00236362]\n",
      "  [ 0.23127301  1.16264831  0.76830454  0.00289123]\n",
      "  [ 0.13123873  1.02052079  0.75512188  0.00338965]\n",
      "  [ 0.04324384  0.97728827  0.74249146  0.00393554]\n",
      "  [ 0.20606092  1.02998382  0.72253346  0.00396518]\n",
      "  [ 0.05857998  0.93496323  0.69354128  0.00345527]\n",
      "  [ 0.16096165  0.89045042  0.67721156  0.00294599]]\n",
      "\n",
      " [[-0.06327517  0.93385917  0.79868911  0.00302806]\n",
      "  [-0.00133205  1.01411371  0.7983862   0.00243882]\n",
      "  [-0.0371876   1.04388369  0.79080676  0.00183967]\n",
      "  [ 0.13695547  1.16522452  0.78066499  0.002043  ]\n",
      "  [ 0.09451901  1.24365497  0.76614824  0.00272837]\n",
      "  [ 0.12703125  0.91961136  0.75437184  0.00326653]\n",
      "  [ 0.08683793  0.94989377  0.74263048  0.003771  ]\n",
      "  [ 0.04403582  0.86656869  0.7212569   0.00415829]\n",
      "  [ 0.056825    0.96259832  0.69326939  0.00359507]\n",
      "  [ 0.10984814  1.0565649   0.67657184  0.00283616]]\n",
      "\n",
      " [[-0.04555741  0.91621066  0.79895353  0.00317291]\n",
      "  [-0.00555584  1.04572213  0.79682894  0.00322882]\n",
      "  [-0.08689237  0.96395793  0.7906556   0.00245317]\n",
      "  [ 0.15483369  1.02324329  0.77927309  0.00220404]\n",
      "  [ 0.04604881  0.88891347  0.76694339  0.00255003]\n",
      "  [ 0.17708901  1.02207815  0.75431951  0.00344942]\n",
      "  [ 0.1415621   0.98866197  0.7421973   0.00392393]\n",
      "  [ 0.0338806   0.83816956  0.7213467   0.00399529]\n",
      "  [ 0.21396916  1.01062138  0.69317388  0.00347684]\n",
      "  [ 0.14015439  0.94453482  0.67658233  0.00281262]]]\n"
     ]
    }
   ],
   "source": [
    "holder_array[0][0][0] = 0.\n",
    "holder_array[0][0][1] = 0\n",
    "\n",
    "\n",
    "print holder_array"
   ]
  },
  {
   "cell_type": "code",
   "execution_count": 25,
   "metadata": {
    "ExecuteTime": {
     "end_time": "2018-07-27T17:00:45.653763Z",
     "start_time": "2018-07-27T17:00:45.646937Z"
    }
   },
   "outputs": [
    {
     "name": "stdout",
     "output_type": "stream",
     "text": [
      "[[0.0, -0.017146683682187275, 0.14358436958099596, 0.1751225203395525, 0.042893407087661109, 0.11115802439909618, 0.19474782300186932, 0.12082161132821795, 0.19253836501124691, 0.18900181303205973], [0.050194813829907654, 0.10810173116692008, 0.091358125514907462, 0.11669143068335767, 0.19984726377850193, 0.065163881613251345, 0.070268949927920224, 0.14032129096434665, 0.10372253816359109, 0.089711172745065876], [-0.027538369932108731, 0.22768697536568799, 0.069037631406355382, 0.05227924373343585, 0.12336692131219618, 0.16362519273573387, 0.051207543701983764, 0.1351690855225029, 0.12251531922826299, 0.13313418109102407], [-0.018215182046711218, 0.047878924364963757, -0.03776596293544935, 0.16726101581725983, 0.20168573007520238, 0.10412389388734196, 0.067693566334786723, 0.081414724835951621, 0.13410694506355023, 0.16887774772397224], [-0.15012647360962647, 0.060197736708918301, 0.19244564640496836, 0.041165507578754951, 0.0020525639276619727, 0.078840394907651323, 0.021081860870662959, 0.09284148690269596, 0.10455559818440088, 0.18099052773249916], [-0.18637137896750594, 0.066124808294052248, 0.058354409852748985, 0.24995117996315955, 0.11026226547660382, 0.087228188908623022, 0.081033303478025828, 0.074257551801116942, 0.15250624620108338, 0.092701790611895707], [-0.089339516382404269, 0.089428294751965939, 0.12507712600435256, 0.10214164565897363, 0.15333399788854746, 0.060323090460655621, 0.093172560206829291, 0.085132714775649349, 0.18538116957290848, 0.15064820594169309], [-0.19946813431753296, -0.11600590270573631, 0.013594130889986643, 0.19155217508617778, 0.23127300897986691, 0.13123872807347442, 0.043243838030918573, 0.20606092417313471, 0.058579978849958622, 0.16096164543861866], [-0.063275168376849961, -0.0013320544079894428, -0.037187602862918931, 0.13695547140754394, 0.094519005430382136, 0.1270312516790045, 0.08683792912007593, 0.044035824824148785, 0.056824995781816039, 0.10984814291431043], [-0.045557409725896086, -0.0055558392473354749, -0.086892374775799627, 0.1548336905719328, 0.046048809480365986, 0.17708900931935778, 0.14156210209707182, 0.033880598082448483, 0.2139691593172422, 0.14015438838839253]]\n"
     ]
    }
   ],
   "source": [
    "array_1 = []\n",
    "\n",
    "for i in range(10):\n",
    "    \n",
    "    array_1.append([])\n",
    "    \n",
    "    for j in range(10):\n",
    "        \n",
    "        array_1[i].append(holder_array[i][j][0])\n",
    "        \n",
    "print array_1"
   ]
  },
  {
   "cell_type": "code",
   "execution_count": 26,
   "metadata": {
    "ExecuteTime": {
     "end_time": "2018-07-27T17:00:45.662611Z",
     "start_time": "2018-07-27T17:00:45.655491Z"
    }
   },
   "outputs": [
    {
     "name": "stdout",
     "output_type": "stream",
     "text": [
      "[[0.0, 0.90105050609217308, 1.0606114580019403, 0.95275080104070053, 0.99594824331678966, 0.90283147878410408, 0.9871439008135986, 0.87919467477731972, 0.97616612933787883, 0.96753245682981914], [1.2101230195221186, 0.96142648963375599, 0.9519842256053147, 0.9067944063824277, 1.0155753687884088, 0.91385651353355402, 0.92366613799349684, 0.91599656072048408, 0.85573699024543726, 0.8564309774851856], [0.93084101329452307, 1.108279006295628, 0.89289154369539481, 0.90586608883761499, 1.0846635375293165, 0.93926038756587737, 0.91990891801985253, 0.87768612316925609, 0.96236719355164724, 0.88527785948604576], [0.95379668390263572, 1.0347853632214068, 0.85696705367068704, 1.0424057689545361, 0.93011196072922997, 1.027403135527307, 0.91029972960641947, 0.87856022410072776, 0.96645889191873624, 0.95817388504727996], [1.1651555987690136, 1.1323923035683492, 1.02189467723635, 0.89614702863382056, 0.97490900919326617, 0.93003351519307331, 0.89347962370711098, 0.9037992489964185, 0.9260525597626047, 0.91459507056698075], [1.2080616958261166, 0.9996404903154622, 1.0161760628498617, 1.1247015167662551, 1.1429453611277502, 1.037753223519901, 0.98128415138867853, 0.89144708173728737, 0.93584394228425161, 1.0032544279716733], [0.94185872848085961, 1.1429527262368833, 1.1713961441295124, 1.1334729736269946, 0.93282034531471325, 0.96274293850538184, 0.92787684085205557, 0.89859413150863299, 0.92409106433176624, 0.97685868918075691], [1.2554261323441311, 1.0672307422939786, 1.067394291941872, 1.0666051162163364, 1.1626483055944179, 1.0205207853255727, 0.97728826793753143, 1.0299838155285557, 0.93496323365399836, 0.89045041924484525], [0.93385916595527563, 1.0141137088049943, 1.0438836899905091, 1.1652245208322229, 1.2436549691790391, 0.91961136175575631, 0.9498937668621199, 0.86656868961684996, 0.9625983248630714, 1.0565649002594708], [0.91621066123096218, 1.0457221282581917, 0.96395792972419281, 1.023243286965942, 0.8889134730019943, 1.0220781538696948, 0.98866197080349982, 0.8381695561134197, 1.0106213839974678, 0.94453482332591743]]\n"
     ]
    }
   ],
   "source": [
    "array_2 = []\n",
    "\n",
    "for i in range(10):\n",
    "    \n",
    "    array_2.append([])\n",
    "    \n",
    "    for j in range(10):\n",
    "        \n",
    "        array_2[i].append(holder_array[i][j][1])\n",
    "        \n",
    "print array_2"
   ]
  },
  {
   "cell_type": "code",
   "execution_count": 27,
   "metadata": {
    "ExecuteTime": {
     "end_time": "2018-07-27T17:00:45.671451Z",
     "start_time": "2018-07-27T17:00:45.664737Z"
    }
   },
   "outputs": [
    {
     "name": "stdout",
     "output_type": "stream",
     "text": [
      "[[1.0, 0.97559896125387591, 0.92230941970837377, 0.87375139497181531, 0.83170039869896029, 0.80213612690195557, 0.77840309743171909, 0.73816914918987497, 0.70168123645168601, 0.67900726269947098], [0.96952298815469495, 0.94787358331735461, 0.90400267083671848, 0.8645677863122343, 0.82878726459769103, 0.79175775351957489, 0.76871135240282329, 0.73304655915267714, 0.70100811933921259, 0.68094673678972784], [0.9161447122530948, 0.89980483878472484, 0.86890173250893654, 0.83730796973697119, 0.80841613525984291, 0.78309492713630513, 0.76308799305366193, 0.73066894145179395, 0.69762808848990032, 0.67886950260422951], [0.86943587737067307, 0.85983623790995978, 0.83644766103118062, 0.8132907541566945, 0.79221934116524884, 0.76931125130970202, 0.75434409654952816, 0.72975394503039503, 0.69580736850877478, 0.67773461364972765], [0.83848145030289345, 0.83429517497587957, 0.82125501593462458, 0.80002126399085505, 0.78065638492489309, 0.76456332611341749, 0.74995985940495602, 0.72618390022699986, 0.69527862973391175, 0.67734629358548826], [0.82389370098460624, 0.81654438403990559, 0.80661506511590575, 0.79097686351526708, 0.7763984540165354, 0.76152632093117645, 0.74751857510770059, 0.72371365672394794, 0.69491858223184855, 0.67723156183476729], [0.81143587518717564, 0.80963680783723324, 0.79859154441422131, 0.78665625468613687, 0.77186234553936173, 0.7577265820523722, 0.7451708353638834, 0.72241839067542479, 0.6940732285426221, 0.6771818935702234], [0.80409095990979806, 0.80208454171514632, 0.79475408580050477, 0.7811398805883939, 0.76830454316321517, 0.75512188064936114, 0.74249146189089632, 0.72253345742616715, 0.69354127671281118, 0.6772115649895375], [0.79868911165225154, 0.79838620193221754, 0.79080676347730872, 0.78066499233438402, 0.76614824199381315, 0.75437183718727552, 0.74263048451701374, 0.72125689877187193, 0.69326938978436092, 0.67657184314220786], [0.79895353481685527, 0.7968289379303064, 0.79065560213169306, 0.77927308757188651, 0.76694338514281235, 0.75431950627821009, 0.74219730370218007, 0.72134669545954355, 0.69317388281362546, 0.67658232789752626]]\n"
     ]
    }
   ],
   "source": [
    "array_3 = []\n",
    "\n",
    "for i in range(10):\n",
    "    \n",
    "    array_3.append([])\n",
    "    \n",
    "    for j in range(10):\n",
    "        \n",
    "        array_3[i].append(holder_array[i][j][2])\n",
    "        \n",
    "print array_3"
   ]
  },
  {
   "cell_type": "code",
   "execution_count": 28,
   "metadata": {
    "ExecuteTime": {
     "end_time": "2018-07-27T17:00:45.679500Z",
     "start_time": "2018-07-27T17:00:45.673209Z"
    }
   },
   "outputs": [
    {
     "name": "stdout",
     "output_type": "stream",
     "text": [
      "[[0.0, 0.0022633217914298201, 0.0059801112368181326, 0.0075547371161520755, 0.0086676575210339127, 0.0083495173367737017, 0.0072455119930320191, 0.0069182758331469826, 0.0046468318856871457, 0.0035959179310070459], [0.0014811877951040556, 0.0029146917777806455, 0.0055281451408034843, 0.0063286333045033229, 0.0069232667854990252, 0.0076881022709710594, 0.0078858771889193276, 0.0066525386372601279, 0.0042227824578174684, 0.0031780651996290055], [0.0021432798686527544, 0.00231983227411612, 0.00417731573397337, 0.0050485359858773084, 0.0058573984523316103, 0.0061407745970626917, 0.006124910106368512, 0.0055482996025648327, 0.0042429426825096629, 0.0032667231233943325], [0.0022505165941997382, 0.0028493680966158717, 0.0033750069186892499, 0.0040812283241473358, 0.0049821971782364046, 0.0056388899516027057, 0.0050505722728363452, 0.0049236524550246201, 0.0039393203735815941, 0.0031655014385402816], [0.0021222177127660003, 0.002404056655005888, 0.0022464749453141738, 0.0029608735676883609, 0.0040336716521248601, 0.0044681265058882794, 0.0045463697677516563, 0.0046086349757353765, 0.0038775789454417674, 0.0028789101293003896], [0.0036631233909253263, 0.0022683067906903616, 0.0019672910255573192, 0.0025327038618189104, 0.0032893826112889183, 0.0038458918770890062, 0.0042036748923063661, 0.0044455358646977661, 0.0035592303008815992, 0.0028978897835935497], [0.0022643269527437828, 0.0023670703490941292, 0.0015963961582375328, 0.0021956947947803919, 0.0033458349918198886, 0.0036887823939009009, 0.0040831892587282871, 0.0041832069969554757, 0.0035181728399111371, 0.0028860402237851244], [0.002787569367408582, 0.00227059695630201, 0.0013877167627263268, 0.0023636160934732181, 0.002891233481666007, 0.003389646758685192, 0.0039355356059122505, 0.0039651795729938755, 0.0034552719842324262, 0.0029459938880008539], [0.0030280610375308862, 0.0024388245444611316, 0.0018396695520112236, 0.0020430023634682294, 0.0027283718845345245, 0.0032665333333201925, 0.0037709955104202053, 0.00415828804206187, 0.0035950698553795409, 0.0028361619494116194], [0.0031729111177565784, 0.0032288180054811737, 0.0024531724987976716, 0.0022040362448570582, 0.0025500305719410327, 0.0034494179574976595, 0.0039239324004740964, 0.0039952863750082716, 0.0034768394726541613, 0.0028126154211723987]]\n"
     ]
    }
   ],
   "source": [
    "array_4 = []\n",
    "\n",
    "for i in range(10):\n",
    "    \n",
    "    array_4.append([])\n",
    "    \n",
    "    for j in range(10):\n",
    "        \n",
    "        array_4[i].append(holder_array[i][j][3])\n",
    "        \n",
    "print array_4"
   ]
  },
  {
   "cell_type": "code",
   "execution_count": 29,
   "metadata": {
    "ExecuteTime": {
     "end_time": "2018-07-27T17:00:46.056178Z",
     "start_time": "2018-07-27T17:00:45.681412Z"
    }
   },
   "outputs": [
    {
     "data": {
      "image/png": "[encoded data removed]",
      "text/plain": [
       "<matplotlib.figure.Figure at 0x7f5cac6166d0>"
      ]
     },
     "metadata": {},
     "output_type": "display_data"
    }
   ],
   "source": [
    "\n",
    "plt.figure(figsize=(8,8))\n",
    "plt.imshow(array_1,aspect='auto')\n",
    "plt.title('Mean Z Score')\n",
    "plt.xlabel('Noise level (Unequal Increments)')\n",
    "plt.ylabel('Unique Signal Level (Unequal Increments)')\n",
    "plt.colorbar()\n",
    "plt.show()\n"
   ]
  },
  {
   "cell_type": "code",
   "execution_count": 30,
   "metadata": {
    "ExecuteTime": {
     "end_time": "2018-07-27T17:00:46.363941Z",
     "start_time": "2018-07-27T17:00:46.058033Z"
    }
   },
   "outputs": [
    {
     "data": {
      "image/png": "[encoded data removed]",
      "text/plain": [
       "<matplotlib.figure.Figure at 0x7f5c753f3dd0>"
      ]
     },
     "metadata": {},
     "output_type": "display_data"
    }
   ],
   "source": [
    "\n",
    "plt.figure(figsize=(8,8))\n",
    "plt.imshow(array_2,aspect='auto')\n",
    "plt.title('Standard Deviation of Z Score')\n",
    "plt.xlabel('Noise level (Unequal Increments)')\n",
    "plt.ylabel('Unique Signal Level (Unequal Increments)')\n",
    "plt.colorbar()\n",
    "plt.show()\n"
   ]
  },
  {
   "cell_type": "code",
   "execution_count": 31,
   "metadata": {
    "ExecuteTime": {
     "end_time": "2018-07-27T17:00:46.668233Z",
     "start_time": "2018-07-27T17:00:46.365819Z"
    }
   },
   "outputs": [
    {
     "data": {
      "image/png": "[encoded data removed]",
      "text/plain": [
       "<matplotlib.figure.Figure at 0x7f5c749f2450>"
      ]
     },
     "metadata": {},
     "output_type": "display_data"
    }
   ],
   "source": [
    "\n",
    "plt.figure(figsize=(8,8))\n",
    "#plt.imshow(array_3,aspect='auto')\n",
    "plt.imshow(array_3,aspect='auto',vmax = 1, vmin = 0)\n",
    "plt.title('Mean of Raw Redundancy Correlation')\n",
    "plt.xlabel('Noise level (Unequal Increments)')\n",
    "plt.ylabel('Unique Signal Level (Unequal Increments)')\n",
    "plt.colorbar()\n",
    "plt.show()\n"
   ]
  },
  {
   "cell_type": "code",
   "execution_count": 32,
   "metadata": {
    "ExecuteTime": {
     "end_time": "2018-07-27T17:00:46.995723Z",
     "start_time": "2018-07-27T17:00:46.670053Z"
    }
   },
   "outputs": [
    {
     "data": {
      "image/png": "[encoded data removed]",
      "text/plain": [
       "<matplotlib.figure.Figure at 0x7f5c74b7f390>"
      ]
     },
     "metadata": {},
     "output_type": "display_data"
    }
   ],
   "source": [
    "\n",
    "plt.figure(figsize=(8,8))\n",
    "plt.imshow(array_4,aspect='auto')\n",
    "plt.title('Standard Deviation of Raw Redundancy Correlation')\n",
    "plt.xlabel('Noise level (Unequal Increments)')\n",
    "plt.ylabel('Unique Signal Level (Unequal Increments)')\n",
    "plt.colorbar()\n",
    "plt.show()\n"
   ]
  },
  {
   "cell_type": "code",
   "execution_count": 33,
   "metadata": {
    "ExecuteTime": {
     "end_time": "2018-07-27T17:00:47.004055Z",
     "start_time": "2018-07-27T17:00:46.997504Z"
    },
    "collapsed": true
   },
   "outputs": [],
   "source": [
    "\n",
    "slice_1 = []\n",
    "slice_2 = []\n",
    "slice_3 = []\n",
    "\n",
    "\n",
    "for i in holder_array:\n",
    "    \n",
    "    slice_1.append(i[0][2])\n",
    "    \n",
    "    slice_2.append(i[4][2])\n",
    "    \n",
    "    slice_3.append(i[9][2])\n",
    "    "
   ]
  },
  {
   "cell_type": "code",
   "execution_count": 34,
   "metadata": {
    "ExecuteTime": {
     "end_time": "2018-07-27T17:00:47.011780Z",
     "start_time": "2018-07-27T17:00:47.006084Z"
    },
    "collapsed": true
   },
   "outputs": [],
   "source": [
    "\n",
    "err_1 = []\n",
    "err_2 = []\n",
    "err_3 = []\n",
    "\n",
    "for i in holder_array:\n",
    "    \n",
    "    err_1.append(i[0][3])\n",
    "    \n",
    "    err_2.append(i[4][3])\n",
    "    \n",
    "    err_3.append(i[9][3])\n"
   ]
  },
  {
   "cell_type": "code",
   "execution_count": 37,
   "metadata": {
    "ExecuteTime": {
     "end_time": "2018-07-27T17:46:47.193676Z",
     "start_time": "2018-07-27T17:46:46.982794Z"
    }
   },
   "outputs": [
    {
     "data": {
      "image/png": "[encoded data removed]",
      "text/plain": [
       "<matplotlib.figure.Figure at 0x7f5c74882450>"
      ]
     },
     "metadata": {},
     "output_type": "display_data"
    }
   ],
   "source": [
    "\n",
    "plt.figure(figsize = (10,5))\n",
    "plt.errorbar(i_vals,slice_1,yerr=err_1,ecolor = 'k')\n",
    "\n",
    "plt.show()\n"
   ]
  },
  {
   "cell_type": "code",
   "execution_count": 36,
   "metadata": {
    "ExecuteTime": {
     "end_time": "2018-07-27T17:00:47.540536Z",
     "start_time": "2018-07-27T17:00:47.281448Z"
    }
   },
   "outputs": [
    {
     "data": {
      "image/png": "[encoded data removed]",
      "text/plain": [
       "<matplotlib.figure.Figure at 0x7f5c74804590>"
      ]
     },
     "metadata": {},
     "output_type": "display_data"
    }
   ],
   "source": [
    "\n",
    "plt.figure(figsize = (10,5))\n",
    "plt.errorbar(i_vals,slice_1,yerr=err_1,ecolor = 'k',c = 'b',label = 'Noise Scale = 0')\n",
    "plt.errorbar(i_vals,slice_2,yerr=err_2,ecolor = 'k',c = 'g',label = 'Noise Scale = 1.726')\n",
    "plt.errorbar(i_vals,slice_3,yerr=err_3,ecolor = 'k',c = 'r',label = 'Noise Scale = 6.905')\n",
    "plt.xlabel('Unique Signal Normal Distribution Width (Pre-Transform)')\n",
    "plt.ylabel('Mean of Raw Redundancy Correlation')\n",
    "plt.legend()\n",
    "plt.title('Effect of Unique Signal Scale on Redundancy Correlation for Varying Noise Levels')\n",
    "plt.show()\n"
   ]
  },
  {
   "cell_type": "code",
   "execution_count": null,
   "metadata": {
    "collapsed": true
   },
   "outputs": [],
   "source": []
  }
 ],
 "metadata": {
  "kernelspec": {
   "display_name": "Python 2",
   "language": "python",
   "name": "python2"
  },
  "language_info": {
   "codemirror_mode": {
    "name": "ipython",
    "version": 2
   },
   "file_extension": ".py",
   "mimetype": "text/x-python",
   "name": "python",
   "nbconvert_exporter": "python",
   "pygments_lexer": "ipython2",
   "version": "2.7.13"
  }
 },
 "nbformat": 4,
 "nbformat_minor": 2
}
