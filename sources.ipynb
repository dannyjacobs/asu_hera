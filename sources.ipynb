{
 "cells": [
  {
   "cell_type": "markdown",
   "metadata": {},
   "source": [
    "## Bright Sources in HERA FOV\n",
    "\n",
    "Data pulled from Parkes Half-Janksy Catalogue: \n",
    "\n",
    "http://www.atnf.csiro.au/resources/catalogues/\n"
   ]
  },
  {
   "cell_type": "code",
   "execution_count": 1,
   "metadata": {},
   "outputs": [],
   "source": [
    "import numpy as np"
   ]
  },
  {
   "cell_type": "markdown",
   "metadata": {},
   "source": [
    "Pull the sources from the data copied from the catalogue"
   ]
  },
  {
   "cell_type": "code",
   "execution_count": 18,
   "metadata": {},
   "outputs": [],
   "source": [
    "sources = np.genfromtxt('sources.txt',delimiter=' ',dtype=str)"
   ]
  },
  {
   "cell_type": "markdown",
   "metadata": {},
   "source": [
    "Pass over the data to find all of the sources in the catalogue that are within HERA's field of view"
   ]
  },
  {
   "cell_type": "code",
   "execution_count": 36,
   "metadata": {},
   "outputs": [],
   "source": [
    "source_ind = []\n",
    "\n",
    "for c,source in enumerate(sources[:,-1]):\n",
    "    if (-15 >= float(source.split(':')[0]) >= -45):\n",
    "        source_ind.append(c)\n",
    "\n",
    "fov_sources = sources[source_ind]"
   ]
  },
  {
   "cell_type": "code",
   "execution_count": 37,
   "metadata": {},
   "outputs": [
    {
     "data": {
      "text/plain": [
       "array([['2', 'PKS', '0005-239', ..., '108', '0:08:00.37', '-23:39:18.0'],\n",
       "       ['3', 'PKS', '0005-262', ..., '0', '0:08:26.25', '-25:59:11.5'],\n",
       "       ['4', 'PKS', '0008-264', ..., '0', '0:11:01.25', '-26:12:33.3'],\n",
       "       ..., \n",
       "       ['319', 'PKS', '2345-167', ..., '93', '23:48:02.61', '-16:31:11.9'],\n",
       "       ['321', 'PKS', '2351-154', ..., '5', '23:54:30.19', '-15:13:11.1'],\n",
       "       ['323', 'PKS', '2358-161', ..., '108', '0:01:05.34', '-15:51:06.7']],\n",
       "      dtype='<U11')"
      ]
     },
     "execution_count": 37,
     "metadata": {},
     "output_type": "execute_result"
    }
   ],
   "source": [
    "fov_sources"
   ]
  },
  {
   "cell_type": "markdown",
   "metadata": {},
   "source": [
    "Run a pass over the sources within HERA's field of view that are brighter than 5 Jy at 2.7 GHz"
   ]
  },
  {
   "cell_type": "code",
   "execution_count": 52,
   "metadata": {},
   "outputs": [],
   "source": [
    "sources_ind = []\n",
    "\n",
    "for c,source in enumerate(fov_sources[:,3]):\n",
    "    if (float(source) > 4):\n",
    "        sources_ind.append(c)\n",
    "        \n",
    "bright_sources = fov_sources[sources_ind]"
   ]
  },
  {
   "cell_type": "code",
   "execution_count": 53,
   "metadata": {},
   "outputs": [
    {
     "data": {
      "text/plain": [
       "array([['82', 'PKS', '0438-436', '6.50', '7.00', '0.12', '6', '4:38:43.18',\n",
       "        '-43:38:53.1', '56', '-0.05', '-0.21', '0.22', 's', '19.08',\n",
       "        '2.852', '52', '52', '4:40:17.17', '-43:33:08.1'],\n",
       "       ['98', 'PKS', '0521-365', '12.50', '9.23', '-0.49', '6',\n",
       "        '5:21:12.99', '-36:30:16.0', '121', '1.09', '-0.18', '1.10', 'g',\n",
       "        '16.74', '0.0552', '96', '96', '5:22:57.99', '-36:27:30.9'],\n",
       "       ['278', 'PKS', '2203-188', '5.25', '4.24', '-0.35', '103',\n",
       "        '22:03:25.73', '-18:50:17.1', '56', '0.05', '-0.12', '0.13', 's',\n",
       "        '18.55', '0.619', '107', '108', '22:06:10.41', '-18:35:38.7'],\n",
       "       ['319', 'PKS', '2345-167', '4.08', '3.47', '-0.26', '103',\n",
       "        '23:45:27.69', '-16:47:52.6', '56', '0.96', '-0.62', '1.14', 's',\n",
       "        '17.32', '0.576', '93', '93', '23:48:02.61', '-16:31:11.9']],\n",
       "      dtype='<U11')"
      ]
     },
     "execution_count": 53,
     "metadata": {},
     "output_type": "execute_result"
    }
   ],
   "source": [
    "bright_sources"
   ]
  },
  {
   "cell_type": "code",
   "execution_count": null,
   "metadata": {},
   "outputs": [],
   "source": []
  }
 ],
 "metadata": {
  "kernelspec": {
   "display_name": "Python 3",
   "language": "python",
   "name": "python3"
  },
  "language_info": {
   "codemirror_mode": {
    "name": "ipython",
    "version": 3
   },
   "file_extension": ".py",
   "mimetype": "text/x-python",
   "name": "python",
   "nbconvert_exporter": "python",
   "pygments_lexer": "ipython3",
   "version": "3.6.3"
  }
 },
 "nbformat": 4,
 "nbformat_minor": 2
}
